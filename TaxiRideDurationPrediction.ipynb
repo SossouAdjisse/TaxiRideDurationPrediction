{
  "cells": [
    {
      "cell_type": "markdown",
      "metadata": {
        "id": "view-in-github",
        "colab_type": "text"
      },
      "source": [
        "<a href=\"https://colab.research.google.com/github/SossouAdjisse/TaxiRideDurationPrediction/blob/main/TaxiRideDurationPrediction.ipynb\" target=\"_parent\"><img src=\"https://colab.research.google.com/assets/colab-badge.svg\" alt=\"Open In Colab\"/></a>"
      ]
    },
    {
      "cell_type": "markdown",
      "metadata": {
        "id": "C0Q1vqExPB6D"
      },
      "source": [
        "---------------\n",
        "---------------\n",
        "# PROJECT: Predictive Analytics: Taxi Ride Duration Prediction\n",
        "\n",
        "###### **Sossou S Adjisse**\n",
        "---------------\n",
        "---------------\n",
        "## **Objective**\n",
        "\n",
        "This project aims at using Automated feature engineering to create new features, and  build predictive models, for predicting the duration for taxi ride. This prediction will help a typical taxi company to efficiently assign the cabs to riders so that the service is free of hassle. To do this, I will start the model with simple features and gradually improve the feature definitions and examine the accuracy of the system. More precisely, I will be executing the following:\n",
        "  * Install the dependencies\n",
        "  * Load the data as pandas dataframe\n",
        "  * Perform EDA on the dataset\n",
        "  * Build features with Deep Feature Synthesis using the featuretools\n",
        "  * Create **Linear Regression**, **Decision Tree**, and **Random Forest** models \n",
        "\n",
        "-----------------\n",
        "## **Dataset**\n",
        "-----------------\n",
        "* The three datasets used for this project can be found [HERE](https://drive.google.com/drive/folders/1JlFj6sLQNgJaPcD-T12jsxX04wk1HzAS?usp=sharing). The dataset  contains information regarding the taxi trips, its duration, etc. in New York City.\n",
        "\n",
        "The ``trips`` table has the following fields:\n",
        "* **id:** which uniquely identifies the trip\n",
        "* **vendor_id:**  is the taxi cab company - in our case study we have data from three different: cab companies\n",
        "* **pickup_datetime:**  the time stamp for pickup\n",
        "* **dropoff_datetime:**  the time stamp for drop-off\n",
        "* **passenger_count:** the number of passengers for the trip\n",
        "* **trip_distance:** total distance of the trip in miles \n",
        "* **pickup_longitude:** the longitude for pickup\n",
        "* **pickup_latitude:** the latitude for pickup\n",
        "* **dropoff_longitude:** the longitude of dropoff \n",
        "* **dropoff_latitude:** the latitude of dropoff\n",
        "* **payment_type:** how the passenger paid for the trip: 1= Credit card, 2= Cash, 3= No charge, 4= Dispute, 5= Unknown, 6= Voided\n",
        "* **trip_duration:** the duration we would like to predict using other fields \n",
        "* **pickup_neighborhood:** a one or two letter id of the neighborhood where the trip started\n",
        "* **dropoff_neighborhood:** a one or two letter id of the neighborhood where the trip ended"
      ]
    },
    {
      "cell_type": "markdown",
      "metadata": {
        "id": "rL3PzFcwnNw7"
      },
      "source": [
        "# Step 1: Loading packages & data sets, and performing Exploratory Data Analysis (EDA)"
      ]
    },
    {
      "cell_type": "code",
      "execution_count": 100,
      "metadata": {
        "id": "B94jAOWLPB6L",
        "colab": {
          "base_uri": "https://localhost:8080/"
        },
        "outputId": "06aff2a8-21a4-4639-cb04-55c0b5f1eeb8"
      },
      "outputs": [
        {
          "output_type": "stream",
          "name": "stdout",
          "text": [
            "Looking in indexes: https://pypi.org/simple, https://us-python.pkg.dev/colab-wheels/public/simple/\n",
            "Requirement already satisfied: featuretools==0.27.0 in /usr/local/lib/python3.7/dist-packages (0.27.0)\n",
            "Requirement already satisfied: dask[dataframe]>=2.12.0 in /usr/local/lib/python3.7/dist-packages (from featuretools==0.27.0) (2.12.0)\n",
            "Requirement already satisfied: cloudpickle>=0.4.0 in /usr/local/lib/python3.7/dist-packages (from featuretools==0.27.0) (2.1.0)\n",
            "Requirement already satisfied: numpy>=1.16.6 in /usr/local/lib/python3.7/dist-packages (from featuretools==0.27.0) (1.21.6)\n",
            "Requirement already satisfied: pyyaml>=5.4 in /usr/local/lib/python3.7/dist-packages (from featuretools==0.27.0) (6.0)\n",
            "Requirement already satisfied: scipy>=1.3.2 in /usr/local/lib/python3.7/dist-packages (from featuretools==0.27.0) (1.4.1)\n",
            "Requirement already satisfied: distributed>=2.12.0 in /usr/local/lib/python3.7/dist-packages (from featuretools==0.27.0) (2.30.1)\n",
            "Requirement already satisfied: click>=7.0.0 in /usr/local/lib/python3.7/dist-packages (from featuretools==0.27.0) (7.1.2)\n",
            "Requirement already satisfied: pandas<2.0.0,>=1.2.0 in /usr/local/lib/python3.7/dist-packages (from featuretools==0.27.0) (1.3.5)\n",
            "Requirement already satisfied: psutil>=5.6.6 in /usr/local/lib/python3.7/dist-packages (from featuretools==0.27.0) (5.9.1)\n",
            "Requirement already satisfied: tqdm>=4.32.0 in /usr/local/lib/python3.7/dist-packages (from featuretools==0.27.0) (4.64.0)\n",
            "Requirement already satisfied: partd>=0.3.10 in /usr/local/lib/python3.7/dist-packages (from dask[dataframe]>=2.12.0->featuretools==0.27.0) (1.2.0)\n",
            "Requirement already satisfied: fsspec>=0.6.0 in /usr/local/lib/python3.7/dist-packages (from dask[dataframe]>=2.12.0->featuretools==0.27.0) (2022.5.0)\n",
            "Requirement already satisfied: toolz>=0.7.3 in /usr/local/lib/python3.7/dist-packages (from dask[dataframe]>=2.12.0->featuretools==0.27.0) (0.11.2)\n",
            "Requirement already satisfied: tornado>=5 in /usr/local/lib/python3.7/dist-packages (from distributed>=2.12.0->featuretools==0.27.0) (5.1.1)\n",
            "Requirement already satisfied: zict>=0.1.3 in /usr/local/lib/python3.7/dist-packages (from distributed>=2.12.0->featuretools==0.27.0) (2.2.0)\n",
            "Requirement already satisfied: setuptools in /usr/local/lib/python3.7/dist-packages (from distributed>=2.12.0->featuretools==0.27.0) (57.4.0)\n",
            "Requirement already satisfied: msgpack>=0.6.0 in /usr/local/lib/python3.7/dist-packages (from distributed>=2.12.0->featuretools==0.27.0) (1.0.3)\n",
            "Requirement already satisfied: sortedcontainers!=2.0.0,!=2.0.1 in /usr/local/lib/python3.7/dist-packages (from distributed>=2.12.0->featuretools==0.27.0) (2.4.0)\n",
            "Requirement already satisfied: tblib>=1.6.0 in /usr/local/lib/python3.7/dist-packages (from distributed>=2.12.0->featuretools==0.27.0) (1.7.0)\n",
            "Requirement already satisfied: python-dateutil>=2.7.3 in /usr/local/lib/python3.7/dist-packages (from pandas<2.0.0,>=1.2.0->featuretools==0.27.0) (2.8.2)\n",
            "Requirement already satisfied: pytz>=2017.3 in /usr/local/lib/python3.7/dist-packages (from pandas<2.0.0,>=1.2.0->featuretools==0.27.0) (2022.1)\n",
            "Requirement already satisfied: locket in /usr/local/lib/python3.7/dist-packages (from partd>=0.3.10->dask[dataframe]>=2.12.0->featuretools==0.27.0) (1.0.0)\n",
            "Requirement already satisfied: six>=1.5 in /usr/local/lib/python3.7/dist-packages (from python-dateutil>=2.7.3->pandas<2.0.0,>=1.2.0->featuretools==0.27.0) (1.15.0)\n",
            "Requirement already satisfied: heapdict in /usr/local/lib/python3.7/dist-packages (from zict>=0.1.3->distributed>=2.12.0->featuretools==0.27.0) (1.0.1)\n"
          ]
        }
      ],
      "source": [
        "# Installing featuretools library\n",
        "!pip install featuretools==0.27.0"
      ]
    },
    {
      "cell_type": "markdown",
      "metadata": {
        "id": "1SCy7FdhPB6O"
      },
      "source": [
        "## Importing the Necessary libraries"
      ]
    },
    {
      "cell_type": "code",
      "execution_count": 101,
      "metadata": {
        "colab": {
          "base_uri": "https://localhost:8080/"
        },
        "id": "eVbhyH1CPB6P",
        "outputId": "f47c6b54-5b9b-4bd7-8c1b-7bcc923dd263"
      },
      "outputs": [
        {
          "output_type": "stream",
          "name": "stdout",
          "text": [
            "0.27.0\n",
            "The autoreload extension is already loaded. To reload it, use:\n",
            "  %reload_ext autoreload\n"
          ]
        }
      ],
      "source": [
        "import pandas as pd\n",
        "import numpy as np\n",
        "import matplotlib.pyplot as plt\n",
        "import seaborn as sns\n",
        "\n",
        "#Feataurestools for feature engineering\n",
        "import featuretools as ft\n",
        "\n",
        "from sklearn.model_selection import train_test_split\n",
        "from sklearn.impute import SimpleImputer\n",
        "\n",
        "# Importing gradient boosting regressor, to make prediction\n",
        "from sklearn.metrics import r2_score\n",
        "from sklearn.linear_model import LinearRegression\n",
        "from sklearn.ensemble import RandomForestRegressor\n",
        "from sklearn.tree import DecisionTreeRegressor\n",
        "\n",
        "#importing primitives\n",
        "from featuretools.primitives import (Minute, Hour, Day, Month,\n",
        "                                     Weekday, IsWeekend, Count, Sum, Mean, Median, Std, Min, Max)\n",
        "\n",
        "print(ft.__version__)\n",
        "%load_ext autoreload\n",
        "%autoreload 2"
      ]
    },
    {
      "cell_type": "code",
      "execution_count": 102,
      "metadata": {
        "id": "xdHVyV4cPB6Q"
      },
      "outputs": [],
      "source": [
        "# Setting global random seed\n",
        "np.random.seed(40)\n",
        "\n",
        "# To load the dataset\n",
        "def load_nyc_taxi_data():\n",
        "    trips = pd.read_csv('trips.csv',\n",
        "                        parse_dates=[\"pickup_datetime\",\"dropoff_datetime\"],\n",
        "                        dtype={'vendor_id':\"category\",'passenger_count':'int64'},\n",
        "                        encoding='utf-8')\n",
        "    trips[\"payment_type\"] = trips[\"payment_type\"].apply(str)\n",
        "    trips = trips.dropna(axis=0, how='any', subset=['trip_duration'])\n",
        "\n",
        "    pickup_neighborhoods = pd.read_csv(\"pickup_neighborhoods.csv\", encoding='utf-8')\n",
        "    dropoff_neighborhoods = pd.read_csv(\"dropoff_neighborhoods.csv\", encoding='utf-8')\n",
        "\n",
        "    return trips, pickup_neighborhoods, dropoff_neighborhoods\n",
        "\n",
        "# To preview first five rows. \n",
        "def preview(df, n=5):\n",
        "    \"\"\"return n rows that have fewest number of nulls\"\"\"\n",
        "    order = df.isnull().sum(axis=1).sort_values().head(n).index\n",
        "    return df.loc[order]\n",
        "\n",
        "\n",
        "# To compute features using automated feature engineering. \n",
        "def compute_features(features, cutoff_time):\n",
        "    # shuffle so we don't see encoded features in the front or backs\n",
        "\n",
        "    np.random.shuffle(features)\n",
        "    feature_matrix = ft.calculate_feature_matrix(features,\n",
        "                                                 cutoff_time=cutoff_time,\n",
        "                                                 approximate='36d',\n",
        "                                                 verbose=True)\n",
        "    print(\"Finishing computing...\")\n",
        "    feature_matrix, features = ft.encode_features(feature_matrix, features,\n",
        "                                                  to_encode=[\"pickup_neighborhood\", \"dropoff_neighborhood\"],\n",
        "                                                  include_unknown=False)\n",
        "    return feature_matrix\n",
        "\n",
        "\n",
        "# To generate train and test dataset\n",
        "def get_train_test_fm(feature_matrix, percentage):\n",
        "    nrows = feature_matrix.shape[0]\n",
        "    head = int(nrows * percentage)\n",
        "    tail = nrows-head\n",
        "    X_train = feature_matrix.head(head)\n",
        "    y_train = X_train['trip_duration']\n",
        "    X_train = X_train.drop(['trip_duration'], axis=1)\n",
        "    imp = SimpleImputer()\n",
        "    X_train = imp.fit_transform(X_train)\n",
        "    X_test = feature_matrix.tail(tail)\n",
        "    y_test = X_test['trip_duration']\n",
        "    X_test = X_test.drop(['trip_duration'], axis=1)\n",
        "    X_test = imp.transform(X_test)\n",
        "\n",
        "    return (X_train, y_train, X_test,y_test)\n",
        "\n",
        "\n",
        "\n",
        "# To see the feature importance of variables in the final model\n",
        "def feature_importances(model, feature_names, n=5):\n",
        "    importances = model.feature_importances_\n",
        "    zipped = sorted(zip(feature_names, importances), key=lambda x: -x[1])\n",
        "    for i, f in enumerate(zipped[:n]):\n",
        "        print(\"%d: Feature: %s, %.3f\" % (i+1, f[0], f[1]))"
      ]
    },
    {
      "cell_type": "markdown",
      "metadata": {
        "id": "AwMilbvOPB6Q"
      },
      "source": [
        "## Load the Datasets"
      ]
    },
    {
      "cell_type": "code",
      "execution_count": 103,
      "metadata": {
        "colab": {
          "base_uri": "https://localhost:8080/",
          "height": 593
        },
        "id": "NxEnbNOcPB6R",
        "outputId": "3dcb580c-6a82-4306-cc2f-08a6c368a453",
        "scrolled": false
      },
      "outputs": [
        {
          "output_type": "execute_result",
          "data": {
            "text/plain": [
              "            id vendor_id     pickup_datetime    dropoff_datetime  \\\n",
              "0            0         2 2016-01-01 00:00:19 2016-01-01 00:06:31   \n",
              "649598  679634         1 2016-04-30 11:45:59 2016-04-30 11:47:47   \n",
              "649599  679635         2 2016-04-30 11:46:04 2016-04-30 11:47:41   \n",
              "649600  679636         2 2016-04-30 11:46:39 2016-04-30 11:58:02   \n",
              "649601  679637         2 2016-04-30 11:46:44 2016-04-30 11:55:42   \n",
              "649602  679638         2 2016-04-30 11:47:30 2016-04-30 11:54:00   \n",
              "649603  679639         1 2016-04-30 11:47:38 2016-04-30 11:57:22   \n",
              "649604  679640         1 2016-04-30 11:47:49 2016-04-30 12:01:05   \n",
              "649605  679641         1 2016-04-30 11:48:17 2016-04-30 12:01:02   \n",
              "649606  679642         1 2016-04-30 11:49:44 2016-04-30 12:00:03   \n",
              "\n",
              "        passenger_count  trip_distance  pickup_longitude  pickup_latitude  \\\n",
              "0                     3           1.32        -73.961258        40.796200   \n",
              "649598                1           0.50        -73.994919        40.755226   \n",
              "649599                2           0.33        -73.978935        40.777172   \n",
              "649600                1           1.78        -73.998207        40.745201   \n",
              "649601                1           1.40        -73.987129        40.739429   \n",
              "649602                1           1.12        -73.942375        40.790768   \n",
              "649603                2           1.90        -73.960800        40.769920   \n",
              "649604                1           4.30        -74.013885        40.709515   \n",
              "649605                1           2.90        -73.975426        40.757584   \n",
              "649606                1           1.30        -73.989815        40.750454   \n",
              "\n",
              "        dropoff_longitude  dropoff_latitude payment_type  trip_duration  \\\n",
              "0              -73.950050         40.787312            2          372.0   \n",
              "649598         -74.000351         40.747917            1          108.0   \n",
              "649599         -73.981888         40.773136            2           97.0   \n",
              "649600         -73.990265         40.729023            2          683.0   \n",
              "649601         -74.007370         40.743511            2          538.0   \n",
              "649602         -73.952095         40.777145            2          390.0   \n",
              "649603         -73.978966         40.785698            1          584.0   \n",
              "649604         -73.987213         40.722343            2          796.0   \n",
              "649605         -73.999016         40.722027            1          765.0   \n",
              "649606         -74.000473         40.762352            2          619.0   \n",
              "\n",
              "       pickup_neighborhood dropoff_neighborhood  \n",
              "0                       AH                    C  \n",
              "649598                   D                   AG  \n",
              "649599                  AV                   AV  \n",
              "649600                  AP                    H  \n",
              "649601                   R                    Q  \n",
              "649602                   J                   AM  \n",
              "649603                   K                    I  \n",
              "649604                  AU                   AC  \n",
              "649605                   A                    X  \n",
              "649606                   D                    P  "
            ],
            "text/html": [
              "\n",
              "  <div id=\"df-fef87a86-5a5f-4351-b920-265d558b9336\">\n",
              "    <div class=\"colab-df-container\">\n",
              "      <div>\n",
              "<style scoped>\n",
              "    .dataframe tbody tr th:only-of-type {\n",
              "        vertical-align: middle;\n",
              "    }\n",
              "\n",
              "    .dataframe tbody tr th {\n",
              "        vertical-align: top;\n",
              "    }\n",
              "\n",
              "    .dataframe thead th {\n",
              "        text-align: right;\n",
              "    }\n",
              "</style>\n",
              "<table border=\"1\" class=\"dataframe\">\n",
              "  <thead>\n",
              "    <tr style=\"text-align: right;\">\n",
              "      <th></th>\n",
              "      <th>id</th>\n",
              "      <th>vendor_id</th>\n",
              "      <th>pickup_datetime</th>\n",
              "      <th>dropoff_datetime</th>\n",
              "      <th>passenger_count</th>\n",
              "      <th>trip_distance</th>\n",
              "      <th>pickup_longitude</th>\n",
              "      <th>pickup_latitude</th>\n",
              "      <th>dropoff_longitude</th>\n",
              "      <th>dropoff_latitude</th>\n",
              "      <th>payment_type</th>\n",
              "      <th>trip_duration</th>\n",
              "      <th>pickup_neighborhood</th>\n",
              "      <th>dropoff_neighborhood</th>\n",
              "    </tr>\n",
              "  </thead>\n",
              "  <tbody>\n",
              "    <tr>\n",
              "      <th>0</th>\n",
              "      <td>0</td>\n",
              "      <td>2</td>\n",
              "      <td>2016-01-01 00:00:19</td>\n",
              "      <td>2016-01-01 00:06:31</td>\n",
              "      <td>3</td>\n",
              "      <td>1.32</td>\n",
              "      <td>-73.961258</td>\n",
              "      <td>40.796200</td>\n",
              "      <td>-73.950050</td>\n",
              "      <td>40.787312</td>\n",
              "      <td>2</td>\n",
              "      <td>372.0</td>\n",
              "      <td>AH</td>\n",
              "      <td>C</td>\n",
              "    </tr>\n",
              "    <tr>\n",
              "      <th>649598</th>\n",
              "      <td>679634</td>\n",
              "      <td>1</td>\n",
              "      <td>2016-04-30 11:45:59</td>\n",
              "      <td>2016-04-30 11:47:47</td>\n",
              "      <td>1</td>\n",
              "      <td>0.50</td>\n",
              "      <td>-73.994919</td>\n",
              "      <td>40.755226</td>\n",
              "      <td>-74.000351</td>\n",
              "      <td>40.747917</td>\n",
              "      <td>1</td>\n",
              "      <td>108.0</td>\n",
              "      <td>D</td>\n",
              "      <td>AG</td>\n",
              "    </tr>\n",
              "    <tr>\n",
              "      <th>649599</th>\n",
              "      <td>679635</td>\n",
              "      <td>2</td>\n",
              "      <td>2016-04-30 11:46:04</td>\n",
              "      <td>2016-04-30 11:47:41</td>\n",
              "      <td>2</td>\n",
              "      <td>0.33</td>\n",
              "      <td>-73.978935</td>\n",
              "      <td>40.777172</td>\n",
              "      <td>-73.981888</td>\n",
              "      <td>40.773136</td>\n",
              "      <td>2</td>\n",
              "      <td>97.0</td>\n",
              "      <td>AV</td>\n",
              "      <td>AV</td>\n",
              "    </tr>\n",
              "    <tr>\n",
              "      <th>649600</th>\n",
              "      <td>679636</td>\n",
              "      <td>2</td>\n",
              "      <td>2016-04-30 11:46:39</td>\n",
              "      <td>2016-04-30 11:58:02</td>\n",
              "      <td>1</td>\n",
              "      <td>1.78</td>\n",
              "      <td>-73.998207</td>\n",
              "      <td>40.745201</td>\n",
              "      <td>-73.990265</td>\n",
              "      <td>40.729023</td>\n",
              "      <td>2</td>\n",
              "      <td>683.0</td>\n",
              "      <td>AP</td>\n",
              "      <td>H</td>\n",
              "    </tr>\n",
              "    <tr>\n",
              "      <th>649601</th>\n",
              "      <td>679637</td>\n",
              "      <td>2</td>\n",
              "      <td>2016-04-30 11:46:44</td>\n",
              "      <td>2016-04-30 11:55:42</td>\n",
              "      <td>1</td>\n",
              "      <td>1.40</td>\n",
              "      <td>-73.987129</td>\n",
              "      <td>40.739429</td>\n",
              "      <td>-74.007370</td>\n",
              "      <td>40.743511</td>\n",
              "      <td>2</td>\n",
              "      <td>538.0</td>\n",
              "      <td>R</td>\n",
              "      <td>Q</td>\n",
              "    </tr>\n",
              "    <tr>\n",
              "      <th>649602</th>\n",
              "      <td>679638</td>\n",
              "      <td>2</td>\n",
              "      <td>2016-04-30 11:47:30</td>\n",
              "      <td>2016-04-30 11:54:00</td>\n",
              "      <td>1</td>\n",
              "      <td>1.12</td>\n",
              "      <td>-73.942375</td>\n",
              "      <td>40.790768</td>\n",
              "      <td>-73.952095</td>\n",
              "      <td>40.777145</td>\n",
              "      <td>2</td>\n",
              "      <td>390.0</td>\n",
              "      <td>J</td>\n",
              "      <td>AM</td>\n",
              "    </tr>\n",
              "    <tr>\n",
              "      <th>649603</th>\n",
              "      <td>679639</td>\n",
              "      <td>1</td>\n",
              "      <td>2016-04-30 11:47:38</td>\n",
              "      <td>2016-04-30 11:57:22</td>\n",
              "      <td>2</td>\n",
              "      <td>1.90</td>\n",
              "      <td>-73.960800</td>\n",
              "      <td>40.769920</td>\n",
              "      <td>-73.978966</td>\n",
              "      <td>40.785698</td>\n",
              "      <td>1</td>\n",
              "      <td>584.0</td>\n",
              "      <td>K</td>\n",
              "      <td>I</td>\n",
              "    </tr>\n",
              "    <tr>\n",
              "      <th>649604</th>\n",
              "      <td>679640</td>\n",
              "      <td>1</td>\n",
              "      <td>2016-04-30 11:47:49</td>\n",
              "      <td>2016-04-30 12:01:05</td>\n",
              "      <td>1</td>\n",
              "      <td>4.30</td>\n",
              "      <td>-74.013885</td>\n",
              "      <td>40.709515</td>\n",
              "      <td>-73.987213</td>\n",
              "      <td>40.722343</td>\n",
              "      <td>2</td>\n",
              "      <td>796.0</td>\n",
              "      <td>AU</td>\n",
              "      <td>AC</td>\n",
              "    </tr>\n",
              "    <tr>\n",
              "      <th>649605</th>\n",
              "      <td>679641</td>\n",
              "      <td>1</td>\n",
              "      <td>2016-04-30 11:48:17</td>\n",
              "      <td>2016-04-30 12:01:02</td>\n",
              "      <td>1</td>\n",
              "      <td>2.90</td>\n",
              "      <td>-73.975426</td>\n",
              "      <td>40.757584</td>\n",
              "      <td>-73.999016</td>\n",
              "      <td>40.722027</td>\n",
              "      <td>1</td>\n",
              "      <td>765.0</td>\n",
              "      <td>A</td>\n",
              "      <td>X</td>\n",
              "    </tr>\n",
              "    <tr>\n",
              "      <th>649606</th>\n",
              "      <td>679642</td>\n",
              "      <td>1</td>\n",
              "      <td>2016-04-30 11:49:44</td>\n",
              "      <td>2016-04-30 12:00:03</td>\n",
              "      <td>1</td>\n",
              "      <td>1.30</td>\n",
              "      <td>-73.989815</td>\n",
              "      <td>40.750454</td>\n",
              "      <td>-74.000473</td>\n",
              "      <td>40.762352</td>\n",
              "      <td>2</td>\n",
              "      <td>619.0</td>\n",
              "      <td>D</td>\n",
              "      <td>P</td>\n",
              "    </tr>\n",
              "  </tbody>\n",
              "</table>\n",
              "</div>\n",
              "      <button class=\"colab-df-convert\" onclick=\"convertToInteractive('df-fef87a86-5a5f-4351-b920-265d558b9336')\"\n",
              "              title=\"Convert this dataframe to an interactive table.\"\n",
              "              style=\"display:none;\">\n",
              "        \n",
              "  <svg xmlns=\"http://www.w3.org/2000/svg\" height=\"24px\"viewBox=\"0 0 24 24\"\n",
              "       width=\"24px\">\n",
              "    <path d=\"M0 0h24v24H0V0z\" fill=\"none\"/>\n",
              "    <path d=\"M18.56 5.44l.94 2.06.94-2.06 2.06-.94-2.06-.94-.94-2.06-.94 2.06-2.06.94zm-11 1L8.5 8.5l.94-2.06 2.06-.94-2.06-.94L8.5 2.5l-.94 2.06-2.06.94zm10 10l.94 2.06.94-2.06 2.06-.94-2.06-.94-.94-2.06-.94 2.06-2.06.94z\"/><path d=\"M17.41 7.96l-1.37-1.37c-.4-.4-.92-.59-1.43-.59-.52 0-1.04.2-1.43.59L10.3 9.45l-7.72 7.72c-.78.78-.78 2.05 0 2.83L4 21.41c.39.39.9.59 1.41.59.51 0 1.02-.2 1.41-.59l7.78-7.78 2.81-2.81c.8-.78.8-2.07 0-2.86zM5.41 20L4 18.59l7.72-7.72 1.47 1.35L5.41 20z\"/>\n",
              "  </svg>\n",
              "      </button>\n",
              "      \n",
              "  <style>\n",
              "    .colab-df-container {\n",
              "      display:flex;\n",
              "      flex-wrap:wrap;\n",
              "      gap: 12px;\n",
              "    }\n",
              "\n",
              "    .colab-df-convert {\n",
              "      background-color: #E8F0FE;\n",
              "      border: none;\n",
              "      border-radius: 50%;\n",
              "      cursor: pointer;\n",
              "      display: none;\n",
              "      fill: #1967D2;\n",
              "      height: 32px;\n",
              "      padding: 0 0 0 0;\n",
              "      width: 32px;\n",
              "    }\n",
              "\n",
              "    .colab-df-convert:hover {\n",
              "      background-color: #E2EBFA;\n",
              "      box-shadow: 0px 1px 2px rgba(60, 64, 67, 0.3), 0px 1px 3px 1px rgba(60, 64, 67, 0.15);\n",
              "      fill: #174EA6;\n",
              "    }\n",
              "\n",
              "    [theme=dark] .colab-df-convert {\n",
              "      background-color: #3B4455;\n",
              "      fill: #D2E3FC;\n",
              "    }\n",
              "\n",
              "    [theme=dark] .colab-df-convert:hover {\n",
              "      background-color: #434B5C;\n",
              "      box-shadow: 0px 1px 3px 1px rgba(0, 0, 0, 0.15);\n",
              "      filter: drop-shadow(0px 1px 2px rgba(0, 0, 0, 0.3));\n",
              "      fill: #FFFFFF;\n",
              "    }\n",
              "  </style>\n",
              "\n",
              "      <script>\n",
              "        const buttonEl =\n",
              "          document.querySelector('#df-fef87a86-5a5f-4351-b920-265d558b9336 button.colab-df-convert');\n",
              "        buttonEl.style.display =\n",
              "          google.colab.kernel.accessAllowed ? 'block' : 'none';\n",
              "\n",
              "        async function convertToInteractive(key) {\n",
              "          const element = document.querySelector('#df-fef87a86-5a5f-4351-b920-265d558b9336');\n",
              "          const dataTable =\n",
              "            await google.colab.kernel.invokeFunction('convertToInteractive',\n",
              "                                                     [key], {});\n",
              "          if (!dataTable) return;\n",
              "\n",
              "          const docLinkHtml = 'Like what you see? Visit the ' +\n",
              "            '<a target=\"_blank\" href=https://colab.research.google.com/notebooks/data_table.ipynb>data table notebook</a>'\n",
              "            + ' to learn more about interactive tables.';\n",
              "          element.innerHTML = '';\n",
              "          dataTable['output_type'] = 'display_data';\n",
              "          await google.colab.output.renderOutput(dataTable, element);\n",
              "          const docLink = document.createElement('div');\n",
              "          docLink.innerHTML = docLinkHtml;\n",
              "          element.appendChild(docLink);\n",
              "        }\n",
              "      </script>\n",
              "    </div>\n",
              "  </div>\n",
              "  "
            ]
          },
          "metadata": {},
          "execution_count": 103
        }
      ],
      "source": [
        "trips, pickup_neighborhoods, dropoff_neighborhoods = load_nyc_taxi_data()\n",
        "preview(trips, 10)"
      ]
    },
    {
      "cell_type": "markdown",
      "metadata": {
        "id": "PKNRWJm9PB6S"
      },
      "source": [
        "## Display first five rows"
      ]
    },
    {
      "cell_type": "code",
      "execution_count": 104,
      "metadata": {
        "colab": {
          "base_uri": "https://localhost:8080/",
          "height": 353
        },
        "id": "APv20iT3PB6S",
        "outputId": "a9c8d833-e586-4987-b179-12f021cb426a"
      },
      "outputs": [
        {
          "output_type": "execute_result",
          "data": {
            "text/plain": [
              "   id vendor_id     pickup_datetime    dropoff_datetime  passenger_count  \\\n",
              "0   0         2 2016-01-01 00:00:19 2016-01-01 00:06:31                3   \n",
              "1   1         2 2016-01-01 00:01:45 2016-01-01 00:27:38                1   \n",
              "2   2         1 2016-01-01 00:01:47 2016-01-01 00:21:51                2   \n",
              "3   3         2 2016-01-01 00:01:48 2016-01-01 00:16:06                1   \n",
              "4   4         1 2016-01-01 00:02:49 2016-01-01 00:20:45                2   \n",
              "\n",
              "   trip_distance  pickup_longitude  pickup_latitude  dropoff_longitude  \\\n",
              "0           1.32        -73.961258        40.796200         -73.950050   \n",
              "1          13.70        -73.956169        40.707756         -73.939949   \n",
              "2           5.30        -73.993103        40.752632         -73.953903   \n",
              "3           7.19        -73.983009        40.731419         -73.930969   \n",
              "4           2.90        -74.004631        40.747234         -73.976395   \n",
              "\n",
              "   dropoff_latitude payment_type  trip_duration pickup_neighborhood  \\\n",
              "0         40.787312            2          372.0                  AH   \n",
              "1         40.839558            1         1553.0                   Z   \n",
              "2         40.816540            2         1204.0                   D   \n",
              "3         40.808460            2          858.0                  AT   \n",
              "4         40.777237            1         1076.0                  AG   \n",
              "\n",
              "  dropoff_neighborhood  \n",
              "0                    C  \n",
              "1                    S  \n",
              "2                   AL  \n",
              "3                    J  \n",
              "4                   AV  "
            ],
            "text/html": [
              "\n",
              "  <div id=\"df-c61759bb-088f-41b5-8ed1-e3dfbe17cc28\">\n",
              "    <div class=\"colab-df-container\">\n",
              "      <div>\n",
              "<style scoped>\n",
              "    .dataframe tbody tr th:only-of-type {\n",
              "        vertical-align: middle;\n",
              "    }\n",
              "\n",
              "    .dataframe tbody tr th {\n",
              "        vertical-align: top;\n",
              "    }\n",
              "\n",
              "    .dataframe thead th {\n",
              "        text-align: right;\n",
              "    }\n",
              "</style>\n",
              "<table border=\"1\" class=\"dataframe\">\n",
              "  <thead>\n",
              "    <tr style=\"text-align: right;\">\n",
              "      <th></th>\n",
              "      <th>id</th>\n",
              "      <th>vendor_id</th>\n",
              "      <th>pickup_datetime</th>\n",
              "      <th>dropoff_datetime</th>\n",
              "      <th>passenger_count</th>\n",
              "      <th>trip_distance</th>\n",
              "      <th>pickup_longitude</th>\n",
              "      <th>pickup_latitude</th>\n",
              "      <th>dropoff_longitude</th>\n",
              "      <th>dropoff_latitude</th>\n",
              "      <th>payment_type</th>\n",
              "      <th>trip_duration</th>\n",
              "      <th>pickup_neighborhood</th>\n",
              "      <th>dropoff_neighborhood</th>\n",
              "    </tr>\n",
              "  </thead>\n",
              "  <tbody>\n",
              "    <tr>\n",
              "      <th>0</th>\n",
              "      <td>0</td>\n",
              "      <td>2</td>\n",
              "      <td>2016-01-01 00:00:19</td>\n",
              "      <td>2016-01-01 00:06:31</td>\n",
              "      <td>3</td>\n",
              "      <td>1.32</td>\n",
              "      <td>-73.961258</td>\n",
              "      <td>40.796200</td>\n",
              "      <td>-73.950050</td>\n",
              "      <td>40.787312</td>\n",
              "      <td>2</td>\n",
              "      <td>372.0</td>\n",
              "      <td>AH</td>\n",
              "      <td>C</td>\n",
              "    </tr>\n",
              "    <tr>\n",
              "      <th>1</th>\n",
              "      <td>1</td>\n",
              "      <td>2</td>\n",
              "      <td>2016-01-01 00:01:45</td>\n",
              "      <td>2016-01-01 00:27:38</td>\n",
              "      <td>1</td>\n",
              "      <td>13.70</td>\n",
              "      <td>-73.956169</td>\n",
              "      <td>40.707756</td>\n",
              "      <td>-73.939949</td>\n",
              "      <td>40.839558</td>\n",
              "      <td>1</td>\n",
              "      <td>1553.0</td>\n",
              "      <td>Z</td>\n",
              "      <td>S</td>\n",
              "    </tr>\n",
              "    <tr>\n",
              "      <th>2</th>\n",
              "      <td>2</td>\n",
              "      <td>1</td>\n",
              "      <td>2016-01-01 00:01:47</td>\n",
              "      <td>2016-01-01 00:21:51</td>\n",
              "      <td>2</td>\n",
              "      <td>5.30</td>\n",
              "      <td>-73.993103</td>\n",
              "      <td>40.752632</td>\n",
              "      <td>-73.953903</td>\n",
              "      <td>40.816540</td>\n",
              "      <td>2</td>\n",
              "      <td>1204.0</td>\n",
              "      <td>D</td>\n",
              "      <td>AL</td>\n",
              "    </tr>\n",
              "    <tr>\n",
              "      <th>3</th>\n",
              "      <td>3</td>\n",
              "      <td>2</td>\n",
              "      <td>2016-01-01 00:01:48</td>\n",
              "      <td>2016-01-01 00:16:06</td>\n",
              "      <td>1</td>\n",
              "      <td>7.19</td>\n",
              "      <td>-73.983009</td>\n",
              "      <td>40.731419</td>\n",
              "      <td>-73.930969</td>\n",
              "      <td>40.808460</td>\n",
              "      <td>2</td>\n",
              "      <td>858.0</td>\n",
              "      <td>AT</td>\n",
              "      <td>J</td>\n",
              "    </tr>\n",
              "    <tr>\n",
              "      <th>4</th>\n",
              "      <td>4</td>\n",
              "      <td>1</td>\n",
              "      <td>2016-01-01 00:02:49</td>\n",
              "      <td>2016-01-01 00:20:45</td>\n",
              "      <td>2</td>\n",
              "      <td>2.90</td>\n",
              "      <td>-74.004631</td>\n",
              "      <td>40.747234</td>\n",
              "      <td>-73.976395</td>\n",
              "      <td>40.777237</td>\n",
              "      <td>1</td>\n",
              "      <td>1076.0</td>\n",
              "      <td>AG</td>\n",
              "      <td>AV</td>\n",
              "    </tr>\n",
              "  </tbody>\n",
              "</table>\n",
              "</div>\n",
              "      <button class=\"colab-df-convert\" onclick=\"convertToInteractive('df-c61759bb-088f-41b5-8ed1-e3dfbe17cc28')\"\n",
              "              title=\"Convert this dataframe to an interactive table.\"\n",
              "              style=\"display:none;\">\n",
              "        \n",
              "  <svg xmlns=\"http://www.w3.org/2000/svg\" height=\"24px\"viewBox=\"0 0 24 24\"\n",
              "       width=\"24px\">\n",
              "    <path d=\"M0 0h24v24H0V0z\" fill=\"none\"/>\n",
              "    <path d=\"M18.56 5.44l.94 2.06.94-2.06 2.06-.94-2.06-.94-.94-2.06-.94 2.06-2.06.94zm-11 1L8.5 8.5l.94-2.06 2.06-.94-2.06-.94L8.5 2.5l-.94 2.06-2.06.94zm10 10l.94 2.06.94-2.06 2.06-.94-2.06-.94-.94-2.06-.94 2.06-2.06.94z\"/><path d=\"M17.41 7.96l-1.37-1.37c-.4-.4-.92-.59-1.43-.59-.52 0-1.04.2-1.43.59L10.3 9.45l-7.72 7.72c-.78.78-.78 2.05 0 2.83L4 21.41c.39.39.9.59 1.41.59.51 0 1.02-.2 1.41-.59l7.78-7.78 2.81-2.81c.8-.78.8-2.07 0-2.86zM5.41 20L4 18.59l7.72-7.72 1.47 1.35L5.41 20z\"/>\n",
              "  </svg>\n",
              "      </button>\n",
              "      \n",
              "  <style>\n",
              "    .colab-df-container {\n",
              "      display:flex;\n",
              "      flex-wrap:wrap;\n",
              "      gap: 12px;\n",
              "    }\n",
              "\n",
              "    .colab-df-convert {\n",
              "      background-color: #E8F0FE;\n",
              "      border: none;\n",
              "      border-radius: 50%;\n",
              "      cursor: pointer;\n",
              "      display: none;\n",
              "      fill: #1967D2;\n",
              "      height: 32px;\n",
              "      padding: 0 0 0 0;\n",
              "      width: 32px;\n",
              "    }\n",
              "\n",
              "    .colab-df-convert:hover {\n",
              "      background-color: #E2EBFA;\n",
              "      box-shadow: 0px 1px 2px rgba(60, 64, 67, 0.3), 0px 1px 3px 1px rgba(60, 64, 67, 0.15);\n",
              "      fill: #174EA6;\n",
              "    }\n",
              "\n",
              "    [theme=dark] .colab-df-convert {\n",
              "      background-color: #3B4455;\n",
              "      fill: #D2E3FC;\n",
              "    }\n",
              "\n",
              "    [theme=dark] .colab-df-convert:hover {\n",
              "      background-color: #434B5C;\n",
              "      box-shadow: 0px 1px 3px 1px rgba(0, 0, 0, 0.15);\n",
              "      filter: drop-shadow(0px 1px 2px rgba(0, 0, 0, 0.3));\n",
              "      fill: #FFFFFF;\n",
              "    }\n",
              "  </style>\n",
              "\n",
              "      <script>\n",
              "        const buttonEl =\n",
              "          document.querySelector('#df-c61759bb-088f-41b5-8ed1-e3dfbe17cc28 button.colab-df-convert');\n",
              "        buttonEl.style.display =\n",
              "          google.colab.kernel.accessAllowed ? 'block' : 'none';\n",
              "\n",
              "        async function convertToInteractive(key) {\n",
              "          const element = document.querySelector('#df-c61759bb-088f-41b5-8ed1-e3dfbe17cc28');\n",
              "          const dataTable =\n",
              "            await google.colab.kernel.invokeFunction('convertToInteractive',\n",
              "                                                     [key], {});\n",
              "          if (!dataTable) return;\n",
              "\n",
              "          const docLinkHtml = 'Like what you see? Visit the ' +\n",
              "            '<a target=\"_blank\" href=https://colab.research.google.com/notebooks/data_table.ipynb>data table notebook</a>'\n",
              "            + ' to learn more about interactive tables.';\n",
              "          element.innerHTML = '';\n",
              "          dataTable['output_type'] = 'display_data';\n",
              "          await google.colab.output.renderOutput(dataTable, element);\n",
              "          const docLink = document.createElement('div');\n",
              "          docLink.innerHTML = docLinkHtml;\n",
              "          element.appendChild(docLink);\n",
              "        }\n",
              "      </script>\n",
              "    </div>\n",
              "  </div>\n",
              "  "
            ]
          },
          "metadata": {},
          "execution_count": 104
        }
      ],
      "source": [
        "trips.head()"
      ]
    },
    {
      "cell_type": "markdown",
      "metadata": {
        "id": "exg9p1ZQPB6S"
      },
      "source": [
        "## Display info of the dataset"
      ]
    },
    {
      "cell_type": "code",
      "execution_count": 105,
      "metadata": {
        "colab": {
          "base_uri": "https://localhost:8080/"
        },
        "id": "6eJKWrS-PB6T",
        "outputId": "ba1e2f4c-4ac3-4387-e232-68ffa8edec0d"
      },
      "outputs": [
        {
          "output_type": "stream",
          "name": "stdout",
          "text": [
            "<class 'pandas.core.frame.DataFrame'>\n",
            "Int64Index: 974409 entries, 0 to 974408\n",
            "Data columns (total 14 columns):\n",
            " #   Column                Non-Null Count   Dtype         \n",
            "---  ------                --------------   -----         \n",
            " 0   id                    974409 non-null  int64         \n",
            " 1   vendor_id             974409 non-null  category      \n",
            " 2   pickup_datetime       974409 non-null  datetime64[ns]\n",
            " 3   dropoff_datetime      974409 non-null  datetime64[ns]\n",
            " 4   passenger_count       974409 non-null  int64         \n",
            " 5   trip_distance         974409 non-null  float64       \n",
            " 6   pickup_longitude      974409 non-null  float64       \n",
            " 7   pickup_latitude       974409 non-null  float64       \n",
            " 8   dropoff_longitude     974409 non-null  float64       \n",
            " 9   dropoff_latitude      974409 non-null  float64       \n",
            " 10  payment_type          974409 non-null  object        \n",
            " 11  trip_duration         974409 non-null  float64       \n",
            " 12  pickup_neighborhood   974409 non-null  object        \n",
            " 13  dropoff_neighborhood  974409 non-null  object        \n",
            "dtypes: category(1), datetime64[ns](2), float64(6), int64(2), object(3)\n",
            "memory usage: 137.3+ MB\n"
          ]
        }
      ],
      "source": [
        "# Checking the info of the dataset\n",
        "trips.info()"
      ]
    },
    {
      "cell_type": "markdown",
      "metadata": {
        "id": "1qEIYHIvPB6U"
      },
      "source": [
        "- The dataset contains 974409 non null values for every variable. "
      ]
    },
    {
      "cell_type": "markdown",
      "metadata": {
        "id": "bG_QajZBPB6U"
      },
      "source": [
        "## Check the number of unique values in the dataset."
      ]
    },
    {
      "cell_type": "code",
      "execution_count": 106,
      "metadata": {
        "colab": {
          "base_uri": "https://localhost:8080/"
        },
        "id": "DLQxR2YfPB6U",
        "outputId": "cf2242ff-c1c5-45ef-9015-72665c0d038a"
      },
      "outputs": [
        {
          "output_type": "execute_result",
          "data": {
            "text/plain": [
              "id                      974409\n",
              "vendor_id                    2\n",
              "pickup_datetime         939015\n",
              "dropoff_datetime        938873\n",
              "passenger_count              8\n",
              "trip_distance             2503\n",
              "pickup_longitude         20222\n",
              "pickup_latitude          40692\n",
              "dropoff_longitude        26127\n",
              "dropoff_latitude         50077\n",
              "payment_type                 4\n",
              "trip_duration             3607\n",
              "pickup_neighborhood         49\n",
              "dropoff_neighborhood        49\n",
              "dtype: int64"
            ]
          },
          "metadata": {},
          "execution_count": 106
        }
      ],
      "source": [
        "# Checking the uniques values in each columns\n",
        "trips.nunique()"
      ]
    },
    {
      "cell_type": "markdown",
      "metadata": {
        "id": "TSNDoGELPB6V"
      },
      "source": [
        "- There are only 2 major taxi vendors. \n",
        "- There are 4 payment types. \n",
        "- There are 49 neighborhood for either pickup or dropoff. "
      ]
    },
    {
      "cell_type": "markdown",
      "metadata": {
        "id": "aHK6s7JgPB6V"
      },
      "source": [
        "## Summary statistics of the dataset"
      ]
    },
    {
      "cell_type": "code",
      "execution_count": 107,
      "metadata": {
        "colab": {
          "base_uri": "https://localhost:8080/",
          "height": 297
        },
        "id": "HtFkvaBPPB6W",
        "outputId": "7b382670-a874-4843-f5c4-e897c7c5a223"
      },
      "outputs": [
        {
          "output_type": "execute_result",
          "data": {
            "text/plain": [
              "                      count           mean            std        min  \\\n",
              "id                 974409.0  509622.259282  294491.646773   0.000000   \n",
              "passenger_count    974409.0       1.664010       1.314975   0.000000   \n",
              "trip_distance      974409.0       2.734356       3.307038   0.000000   \n",
              "pickup_longitude   974409.0     -73.973275       0.035702 -74.029846   \n",
              "pickup_latitude    974409.0      40.752475       0.026668  40.630268   \n",
              "dropoff_longitude  974409.0     -73.972825       0.031348 -74.029945   \n",
              "dropoff_latitude   974409.0      40.753046       0.029151  40.630009   \n",
              "trip_duration      974409.0     797.702753     576.802176   0.000000   \n",
              "\n",
              "                             25%            50%            75%           max  \n",
              "id                 254521.000000  509310.000000  764743.000000  1.020002e+06  \n",
              "passenger_count         1.000000       1.000000       2.000000  9.000000e+00  \n",
              "trip_distance           1.000000       1.640000       2.990000  5.028000e+02  \n",
              "pickup_longitude      -73.991058     -73.981178     -73.966888 -7.377051e+01  \n",
              "pickup_latitude        40.739689      40.755390      40.768929  4.084991e+01  \n",
              "dropoff_longitude     -73.990356     -73.979156     -73.962769 -7.377002e+01  \n",
              "dropoff_latitude       40.738792      40.755650      40.770454  4.085000e+01  \n",
              "trip_duration         389.000000     646.000000    1040.000000  3.606000e+03  "
            ],
            "text/html": [
              "\n",
              "  <div id=\"df-b3cbd71e-310e-4103-bd1f-e145095de6b2\">\n",
              "    <div class=\"colab-df-container\">\n",
              "      <div>\n",
              "<style scoped>\n",
              "    .dataframe tbody tr th:only-of-type {\n",
              "        vertical-align: middle;\n",
              "    }\n",
              "\n",
              "    .dataframe tbody tr th {\n",
              "        vertical-align: top;\n",
              "    }\n",
              "\n",
              "    .dataframe thead th {\n",
              "        text-align: right;\n",
              "    }\n",
              "</style>\n",
              "<table border=\"1\" class=\"dataframe\">\n",
              "  <thead>\n",
              "    <tr style=\"text-align: right;\">\n",
              "      <th></th>\n",
              "      <th>count</th>\n",
              "      <th>mean</th>\n",
              "      <th>std</th>\n",
              "      <th>min</th>\n",
              "      <th>25%</th>\n",
              "      <th>50%</th>\n",
              "      <th>75%</th>\n",
              "      <th>max</th>\n",
              "    </tr>\n",
              "  </thead>\n",
              "  <tbody>\n",
              "    <tr>\n",
              "      <th>id</th>\n",
              "      <td>974409.0</td>\n",
              "      <td>509622.259282</td>\n",
              "      <td>294491.646773</td>\n",
              "      <td>0.000000</td>\n",
              "      <td>254521.000000</td>\n",
              "      <td>509310.000000</td>\n",
              "      <td>764743.000000</td>\n",
              "      <td>1.020002e+06</td>\n",
              "    </tr>\n",
              "    <tr>\n",
              "      <th>passenger_count</th>\n",
              "      <td>974409.0</td>\n",
              "      <td>1.664010</td>\n",
              "      <td>1.314975</td>\n",
              "      <td>0.000000</td>\n",
              "      <td>1.000000</td>\n",
              "      <td>1.000000</td>\n",
              "      <td>2.000000</td>\n",
              "      <td>9.000000e+00</td>\n",
              "    </tr>\n",
              "    <tr>\n",
              "      <th>trip_distance</th>\n",
              "      <td>974409.0</td>\n",
              "      <td>2.734356</td>\n",
              "      <td>3.307038</td>\n",
              "      <td>0.000000</td>\n",
              "      <td>1.000000</td>\n",
              "      <td>1.640000</td>\n",
              "      <td>2.990000</td>\n",
              "      <td>5.028000e+02</td>\n",
              "    </tr>\n",
              "    <tr>\n",
              "      <th>pickup_longitude</th>\n",
              "      <td>974409.0</td>\n",
              "      <td>-73.973275</td>\n",
              "      <td>0.035702</td>\n",
              "      <td>-74.029846</td>\n",
              "      <td>-73.991058</td>\n",
              "      <td>-73.981178</td>\n",
              "      <td>-73.966888</td>\n",
              "      <td>-7.377051e+01</td>\n",
              "    </tr>\n",
              "    <tr>\n",
              "      <th>pickup_latitude</th>\n",
              "      <td>974409.0</td>\n",
              "      <td>40.752475</td>\n",
              "      <td>0.026668</td>\n",
              "      <td>40.630268</td>\n",
              "      <td>40.739689</td>\n",
              "      <td>40.755390</td>\n",
              "      <td>40.768929</td>\n",
              "      <td>4.084991e+01</td>\n",
              "    </tr>\n",
              "    <tr>\n",
              "      <th>dropoff_longitude</th>\n",
              "      <td>974409.0</td>\n",
              "      <td>-73.972825</td>\n",
              "      <td>0.031348</td>\n",
              "      <td>-74.029945</td>\n",
              "      <td>-73.990356</td>\n",
              "      <td>-73.979156</td>\n",
              "      <td>-73.962769</td>\n",
              "      <td>-7.377002e+01</td>\n",
              "    </tr>\n",
              "    <tr>\n",
              "      <th>dropoff_latitude</th>\n",
              "      <td>974409.0</td>\n",
              "      <td>40.753046</td>\n",
              "      <td>0.029151</td>\n",
              "      <td>40.630009</td>\n",
              "      <td>40.738792</td>\n",
              "      <td>40.755650</td>\n",
              "      <td>40.770454</td>\n",
              "      <td>4.085000e+01</td>\n",
              "    </tr>\n",
              "    <tr>\n",
              "      <th>trip_duration</th>\n",
              "      <td>974409.0</td>\n",
              "      <td>797.702753</td>\n",
              "      <td>576.802176</td>\n",
              "      <td>0.000000</td>\n",
              "      <td>389.000000</td>\n",
              "      <td>646.000000</td>\n",
              "      <td>1040.000000</td>\n",
              "      <td>3.606000e+03</td>\n",
              "    </tr>\n",
              "  </tbody>\n",
              "</table>\n",
              "</div>\n",
              "      <button class=\"colab-df-convert\" onclick=\"convertToInteractive('df-b3cbd71e-310e-4103-bd1f-e145095de6b2')\"\n",
              "              title=\"Convert this dataframe to an interactive table.\"\n",
              "              style=\"display:none;\">\n",
              "        \n",
              "  <svg xmlns=\"http://www.w3.org/2000/svg\" height=\"24px\"viewBox=\"0 0 24 24\"\n",
              "       width=\"24px\">\n",
              "    <path d=\"M0 0h24v24H0V0z\" fill=\"none\"/>\n",
              "    <path d=\"M18.56 5.44l.94 2.06.94-2.06 2.06-.94-2.06-.94-.94-2.06-.94 2.06-2.06.94zm-11 1L8.5 8.5l.94-2.06 2.06-.94-2.06-.94L8.5 2.5l-.94 2.06-2.06.94zm10 10l.94 2.06.94-2.06 2.06-.94-2.06-.94-.94-2.06-.94 2.06-2.06.94z\"/><path d=\"M17.41 7.96l-1.37-1.37c-.4-.4-.92-.59-1.43-.59-.52 0-1.04.2-1.43.59L10.3 9.45l-7.72 7.72c-.78.78-.78 2.05 0 2.83L4 21.41c.39.39.9.59 1.41.59.51 0 1.02-.2 1.41-.59l7.78-7.78 2.81-2.81c.8-.78.8-2.07 0-2.86zM5.41 20L4 18.59l7.72-7.72 1.47 1.35L5.41 20z\"/>\n",
              "  </svg>\n",
              "      </button>\n",
              "      \n",
              "  <style>\n",
              "    .colab-df-container {\n",
              "      display:flex;\n",
              "      flex-wrap:wrap;\n",
              "      gap: 12px;\n",
              "    }\n",
              "\n",
              "    .colab-df-convert {\n",
              "      background-color: #E8F0FE;\n",
              "      border: none;\n",
              "      border-radius: 50%;\n",
              "      cursor: pointer;\n",
              "      display: none;\n",
              "      fill: #1967D2;\n",
              "      height: 32px;\n",
              "      padding: 0 0 0 0;\n",
              "      width: 32px;\n",
              "    }\n",
              "\n",
              "    .colab-df-convert:hover {\n",
              "      background-color: #E2EBFA;\n",
              "      box-shadow: 0px 1px 2px rgba(60, 64, 67, 0.3), 0px 1px 3px 1px rgba(60, 64, 67, 0.15);\n",
              "      fill: #174EA6;\n",
              "    }\n",
              "\n",
              "    [theme=dark] .colab-df-convert {\n",
              "      background-color: #3B4455;\n",
              "      fill: #D2E3FC;\n",
              "    }\n",
              "\n",
              "    [theme=dark] .colab-df-convert:hover {\n",
              "      background-color: #434B5C;\n",
              "      box-shadow: 0px 1px 3px 1px rgba(0, 0, 0, 0.15);\n",
              "      filter: drop-shadow(0px 1px 2px rgba(0, 0, 0, 0.3));\n",
              "      fill: #FFFFFF;\n",
              "    }\n",
              "  </style>\n",
              "\n",
              "      <script>\n",
              "        const buttonEl =\n",
              "          document.querySelector('#df-b3cbd71e-310e-4103-bd1f-e145095de6b2 button.colab-df-convert');\n",
              "        buttonEl.style.display =\n",
              "          google.colab.kernel.accessAllowed ? 'block' : 'none';\n",
              "\n",
              "        async function convertToInteractive(key) {\n",
              "          const element = document.querySelector('#df-b3cbd71e-310e-4103-bd1f-e145095de6b2');\n",
              "          const dataTable =\n",
              "            await google.colab.kernel.invokeFunction('convertToInteractive',\n",
              "                                                     [key], {});\n",
              "          if (!dataTable) return;\n",
              "\n",
              "          const docLinkHtml = 'Like what you see? Visit the ' +\n",
              "            '<a target=\"_blank\" href=https://colab.research.google.com/notebooks/data_table.ipynb>data table notebook</a>'\n",
              "            + ' to learn more about interactive tables.';\n",
              "          element.innerHTML = '';\n",
              "          dataTable['output_type'] = 'display_data';\n",
              "          await google.colab.output.renderOutput(dataTable, element);\n",
              "          const docLink = document.createElement('div');\n",
              "          docLink.innerHTML = docLinkHtml;\n",
              "          element.appendChild(docLink);\n",
              "        }\n",
              "      </script>\n",
              "    </div>\n",
              "  </div>\n",
              "  "
            ]
          },
          "metadata": {},
          "execution_count": 107
        }
      ],
      "source": [
        "# Chekcing the descriptive statistics of the data\n",
        "trips.describe().T"
      ]
    },
    {
      "cell_type": "markdown",
      "metadata": {
        "id": "iPLXcJfFPB6X"
      },
      "source": [
        "**Comments:**\n",
        "- The minimun number of passenger in cab (passenger_count) and the minimum distance of trip (trip_distance) are 0. This looks ackward. "
      ]
    },
    {
      "cell_type": "markdown",
      "metadata": {
        "id": "Jz1rrM9GPB6X"
      },
      "source": [
        "## Checking for the rows for which trip_distance is 0 and trip duration is different from 0, OR/AND trip distance is different from 0 but the trip duration is 0. "
      ]
    },
    {
      "cell_type": "code",
      "execution_count": 108,
      "metadata": {
        "colab": {
          "base_uri": "https://localhost:8080/",
          "height": 449
        },
        "id": "JmA26ffC2G3y",
        "outputId": "2054199c-934a-489b-eee8-18bf4ddef3ec"
      },
      "outputs": [
        {
          "output_type": "execute_result",
          "data": {
            "text/plain": [
              "            id vendor_id     pickup_datetime    dropoff_datetime  \\\n",
              "142202  148598         1 2016-01-30 00:00:29 2016-01-30 00:00:29   \n",
              "186754  195171         1 2016-02-07 02:18:12 2016-02-07 02:18:12   \n",
              "244549  255510         1 2016-02-17 16:20:07 2016-02-17 16:20:07   \n",
              "247768  258883         2 2016-02-18 07:51:48 2016-02-18 07:51:48   \n",
              "453550  474136         2 2016-03-25 22:16:55 2016-03-25 22:16:55   \n",
              "510434  533535         1 2016-04-05 10:42:08 2016-04-05 10:42:08   \n",
              "789029  825835         2 2016-05-25 16:59:13 2016-05-25 16:59:13   \n",
              "\n",
              "        passenger_count  trip_distance  pickup_longitude  pickup_latitude  \\\n",
              "142202                1            0.0        -73.989578        40.743877   \n",
              "186754                1            0.0        -73.958992        40.774734   \n",
              "244549                1            0.0        -73.981049        40.761829   \n",
              "247768                1            0.0        -73.950653        40.779415   \n",
              "453550                1            0.0        -73.936821        40.764652   \n",
              "510434                1            0.0        -73.918495        40.743378   \n",
              "789029                2            0.0        -73.789581        40.646870   \n",
              "\n",
              "        dropoff_longitude  dropoff_latitude payment_type  trip_duration  \\\n",
              "142202         -73.989578         40.743877            2            0.0   \n",
              "186754         -73.958992         40.774734            2            0.0   \n",
              "244549         -73.981049         40.761829            3            0.0   \n",
              "247768         -73.924385         40.744076            2            0.0   \n",
              "453550         -73.936829         40.764648            1            0.0   \n",
              "510434         -73.918495         40.743378            2            0.0   \n",
              "789029         -73.957977         40.773521            1            0.0   \n",
              "\n",
              "       pickup_neighborhood dropoff_neighborhood  \n",
              "142202                  AO                   AO  \n",
              "186754                   O                    O  \n",
              "244549                   A                    A  \n",
              "247768                  AM                    L  \n",
              "453550                  AM                   AM  \n",
              "510434                   L                    L  \n",
              "789029                   G                    O  "
            ],
            "text/html": [
              "\n",
              "  <div id=\"df-2c54a286-41e0-426c-874a-9431bd431885\">\n",
              "    <div class=\"colab-df-container\">\n",
              "      <div>\n",
              "<style scoped>\n",
              "    .dataframe tbody tr th:only-of-type {\n",
              "        vertical-align: middle;\n",
              "    }\n",
              "\n",
              "    .dataframe tbody tr th {\n",
              "        vertical-align: top;\n",
              "    }\n",
              "\n",
              "    .dataframe thead th {\n",
              "        text-align: right;\n",
              "    }\n",
              "</style>\n",
              "<table border=\"1\" class=\"dataframe\">\n",
              "  <thead>\n",
              "    <tr style=\"text-align: right;\">\n",
              "      <th></th>\n",
              "      <th>id</th>\n",
              "      <th>vendor_id</th>\n",
              "      <th>pickup_datetime</th>\n",
              "      <th>dropoff_datetime</th>\n",
              "      <th>passenger_count</th>\n",
              "      <th>trip_distance</th>\n",
              "      <th>pickup_longitude</th>\n",
              "      <th>pickup_latitude</th>\n",
              "      <th>dropoff_longitude</th>\n",
              "      <th>dropoff_latitude</th>\n",
              "      <th>payment_type</th>\n",
              "      <th>trip_duration</th>\n",
              "      <th>pickup_neighborhood</th>\n",
              "      <th>dropoff_neighborhood</th>\n",
              "    </tr>\n",
              "  </thead>\n",
              "  <tbody>\n",
              "    <tr>\n",
              "      <th>142202</th>\n",
              "      <td>148598</td>\n",
              "      <td>1</td>\n",
              "      <td>2016-01-30 00:00:29</td>\n",
              "      <td>2016-01-30 00:00:29</td>\n",
              "      <td>1</td>\n",
              "      <td>0.0</td>\n",
              "      <td>-73.989578</td>\n",
              "      <td>40.743877</td>\n",
              "      <td>-73.989578</td>\n",
              "      <td>40.743877</td>\n",
              "      <td>2</td>\n",
              "      <td>0.0</td>\n",
              "      <td>AO</td>\n",
              "      <td>AO</td>\n",
              "    </tr>\n",
              "    <tr>\n",
              "      <th>186754</th>\n",
              "      <td>195171</td>\n",
              "      <td>1</td>\n",
              "      <td>2016-02-07 02:18:12</td>\n",
              "      <td>2016-02-07 02:18:12</td>\n",
              "      <td>1</td>\n",
              "      <td>0.0</td>\n",
              "      <td>-73.958992</td>\n",
              "      <td>40.774734</td>\n",
              "      <td>-73.958992</td>\n",
              "      <td>40.774734</td>\n",
              "      <td>2</td>\n",
              "      <td>0.0</td>\n",
              "      <td>O</td>\n",
              "      <td>O</td>\n",
              "    </tr>\n",
              "    <tr>\n",
              "      <th>244549</th>\n",
              "      <td>255510</td>\n",
              "      <td>1</td>\n",
              "      <td>2016-02-17 16:20:07</td>\n",
              "      <td>2016-02-17 16:20:07</td>\n",
              "      <td>1</td>\n",
              "      <td>0.0</td>\n",
              "      <td>-73.981049</td>\n",
              "      <td>40.761829</td>\n",
              "      <td>-73.981049</td>\n",
              "      <td>40.761829</td>\n",
              "      <td>3</td>\n",
              "      <td>0.0</td>\n",
              "      <td>A</td>\n",
              "      <td>A</td>\n",
              "    </tr>\n",
              "    <tr>\n",
              "      <th>247768</th>\n",
              "      <td>258883</td>\n",
              "      <td>2</td>\n",
              "      <td>2016-02-18 07:51:48</td>\n",
              "      <td>2016-02-18 07:51:48</td>\n",
              "      <td>1</td>\n",
              "      <td>0.0</td>\n",
              "      <td>-73.950653</td>\n",
              "      <td>40.779415</td>\n",
              "      <td>-73.924385</td>\n",
              "      <td>40.744076</td>\n",
              "      <td>2</td>\n",
              "      <td>0.0</td>\n",
              "      <td>AM</td>\n",
              "      <td>L</td>\n",
              "    </tr>\n",
              "    <tr>\n",
              "      <th>453550</th>\n",
              "      <td>474136</td>\n",
              "      <td>2</td>\n",
              "      <td>2016-03-25 22:16:55</td>\n",
              "      <td>2016-03-25 22:16:55</td>\n",
              "      <td>1</td>\n",
              "      <td>0.0</td>\n",
              "      <td>-73.936821</td>\n",
              "      <td>40.764652</td>\n",
              "      <td>-73.936829</td>\n",
              "      <td>40.764648</td>\n",
              "      <td>1</td>\n",
              "      <td>0.0</td>\n",
              "      <td>AM</td>\n",
              "      <td>AM</td>\n",
              "    </tr>\n",
              "    <tr>\n",
              "      <th>510434</th>\n",
              "      <td>533535</td>\n",
              "      <td>1</td>\n",
              "      <td>2016-04-05 10:42:08</td>\n",
              "      <td>2016-04-05 10:42:08</td>\n",
              "      <td>1</td>\n",
              "      <td>0.0</td>\n",
              "      <td>-73.918495</td>\n",
              "      <td>40.743378</td>\n",
              "      <td>-73.918495</td>\n",
              "      <td>40.743378</td>\n",
              "      <td>2</td>\n",
              "      <td>0.0</td>\n",
              "      <td>L</td>\n",
              "      <td>L</td>\n",
              "    </tr>\n",
              "    <tr>\n",
              "      <th>789029</th>\n",
              "      <td>825835</td>\n",
              "      <td>2</td>\n",
              "      <td>2016-05-25 16:59:13</td>\n",
              "      <td>2016-05-25 16:59:13</td>\n",
              "      <td>2</td>\n",
              "      <td>0.0</td>\n",
              "      <td>-73.789581</td>\n",
              "      <td>40.646870</td>\n",
              "      <td>-73.957977</td>\n",
              "      <td>40.773521</td>\n",
              "      <td>1</td>\n",
              "      <td>0.0</td>\n",
              "      <td>G</td>\n",
              "      <td>O</td>\n",
              "    </tr>\n",
              "  </tbody>\n",
              "</table>\n",
              "</div>\n",
              "      <button class=\"colab-df-convert\" onclick=\"convertToInteractive('df-2c54a286-41e0-426c-874a-9431bd431885')\"\n",
              "              title=\"Convert this dataframe to an interactive table.\"\n",
              "              style=\"display:none;\">\n",
              "        \n",
              "  <svg xmlns=\"http://www.w3.org/2000/svg\" height=\"24px\"viewBox=\"0 0 24 24\"\n",
              "       width=\"24px\">\n",
              "    <path d=\"M0 0h24v24H0V0z\" fill=\"none\"/>\n",
              "    <path d=\"M18.56 5.44l.94 2.06.94-2.06 2.06-.94-2.06-.94-.94-2.06-.94 2.06-2.06.94zm-11 1L8.5 8.5l.94-2.06 2.06-.94-2.06-.94L8.5 2.5l-.94 2.06-2.06.94zm10 10l.94 2.06.94-2.06 2.06-.94-2.06-.94-.94-2.06-.94 2.06-2.06.94z\"/><path d=\"M17.41 7.96l-1.37-1.37c-.4-.4-.92-.59-1.43-.59-.52 0-1.04.2-1.43.59L10.3 9.45l-7.72 7.72c-.78.78-.78 2.05 0 2.83L4 21.41c.39.39.9.59 1.41.59.51 0 1.02-.2 1.41-.59l7.78-7.78 2.81-2.81c.8-.78.8-2.07 0-2.86zM5.41 20L4 18.59l7.72-7.72 1.47 1.35L5.41 20z\"/>\n",
              "  </svg>\n",
              "      </button>\n",
              "      \n",
              "  <style>\n",
              "    .colab-df-container {\n",
              "      display:flex;\n",
              "      flex-wrap:wrap;\n",
              "      gap: 12px;\n",
              "    }\n",
              "\n",
              "    .colab-df-convert {\n",
              "      background-color: #E8F0FE;\n",
              "      border: none;\n",
              "      border-radius: 50%;\n",
              "      cursor: pointer;\n",
              "      display: none;\n",
              "      fill: #1967D2;\n",
              "      height: 32px;\n",
              "      padding: 0 0 0 0;\n",
              "      width: 32px;\n",
              "    }\n",
              "\n",
              "    .colab-df-convert:hover {\n",
              "      background-color: #E2EBFA;\n",
              "      box-shadow: 0px 1px 2px rgba(60, 64, 67, 0.3), 0px 1px 3px 1px rgba(60, 64, 67, 0.15);\n",
              "      fill: #174EA6;\n",
              "    }\n",
              "\n",
              "    [theme=dark] .colab-df-convert {\n",
              "      background-color: #3B4455;\n",
              "      fill: #D2E3FC;\n",
              "    }\n",
              "\n",
              "    [theme=dark] .colab-df-convert:hover {\n",
              "      background-color: #434B5C;\n",
              "      box-shadow: 0px 1px 3px 1px rgba(0, 0, 0, 0.15);\n",
              "      filter: drop-shadow(0px 1px 2px rgba(0, 0, 0, 0.3));\n",
              "      fill: #FFFFFF;\n",
              "    }\n",
              "  </style>\n",
              "\n",
              "      <script>\n",
              "        const buttonEl =\n",
              "          document.querySelector('#df-2c54a286-41e0-426c-874a-9431bd431885 button.colab-df-convert');\n",
              "        buttonEl.style.display =\n",
              "          google.colab.kernel.accessAllowed ? 'block' : 'none';\n",
              "\n",
              "        async function convertToInteractive(key) {\n",
              "          const element = document.querySelector('#df-2c54a286-41e0-426c-874a-9431bd431885');\n",
              "          const dataTable =\n",
              "            await google.colab.kernel.invokeFunction('convertToInteractive',\n",
              "                                                     [key], {});\n",
              "          if (!dataTable) return;\n",
              "\n",
              "          const docLinkHtml = 'Like what you see? Visit the ' +\n",
              "            '<a target=\"_blank\" href=https://colab.research.google.com/notebooks/data_table.ipynb>data table notebook</a>'\n",
              "            + ' to learn more about interactive tables.';\n",
              "          element.innerHTML = '';\n",
              "          dataTable['output_type'] = 'display_data';\n",
              "          await google.colab.output.renderOutput(dataTable, element);\n",
              "          const docLink = document.createElement('div');\n",
              "          docLink.innerHTML = docLinkHtml;\n",
              "          element.appendChild(docLink);\n",
              "        }\n",
              "      </script>\n",
              "    </div>\n",
              "  </div>\n",
              "  "
            ]
          },
          "metadata": {},
          "execution_count": 108
        }
      ],
      "source": [
        "# When both the distnace and the duration are 0. \n",
        "trips[((trips['trip_distance']==0) & (trips['trip_duration'] ==0))]"
      ]
    },
    {
      "cell_type": "markdown",
      "metadata": {
        "id": "1lsiYOBO4EGJ"
      },
      "source": [
        "**Comments:**\n",
        "- There are only 7 rows where both the duration and the distance are 0 simultaneously."
      ]
    },
    {
      "cell_type": "code",
      "execution_count": 109,
      "metadata": {
        "colab": {
          "base_uri": "https://localhost:8080/",
          "height": 653
        },
        "id": "UwyFhfSePB6X",
        "outputId": "a276588f-fe0a-412b-d1ad-46573a6a22a1"
      },
      "outputs": [
        {
          "output_type": "execute_result",
          "data": {
            "text/plain": [
              "             id vendor_id     pickup_datetime    dropoff_datetime  \\\n",
              "852         880         1 2016-01-01 02:15:56 2016-01-01 02:16:17   \n",
              "1079       1116         1 2016-01-01 03:01:10 2016-01-01 03:03:26   \n",
              "1408       1455         2 2016-01-01 04:09:43 2016-01-01 04:10:48   \n",
              "1440       1488         1 2016-01-01 04:16:54 2016-01-01 04:16:57   \n",
              "1510       1558         1 2016-01-01 04:36:03 2016-01-01 04:36:16   \n",
              "...         ...       ...                 ...                 ...   \n",
              "972967  1018490         1 2016-06-30 19:09:44 2016-06-30 19:22:21   \n",
              "973384  1018928         2 2016-06-30 20:35:08 2016-06-30 20:35:10   \n",
              "973555  1019105         2 2016-06-30 21:13:50 2016-06-30 21:14:05   \n",
              "973607  1019159         2 2016-06-30 21:24:23 2016-06-30 21:37:40   \n",
              "973898  1019464         2 2016-06-30 22:20:27 2016-06-30 22:43:11   \n",
              "\n",
              "        passenger_count  trip_distance  pickup_longitude  pickup_latitude  \\\n",
              "852                   1            0.0        -74.002586        40.750298   \n",
              "1079                  1            0.0        -73.987831        40.728558   \n",
              "1408                  1            0.0        -73.985893        40.763649   \n",
              "1440                  1            0.0        -74.014198        40.709988   \n",
              "1510                  1            0.0        -73.952507        40.817329   \n",
              "...                 ...            ...               ...              ...   \n",
              "972967                1            0.0        -73.945480        40.751400   \n",
              "973384                1            0.0        -73.983864        40.693813   \n",
              "973555                1            0.0        -74.008789        40.708740   \n",
              "973607                1            0.0        -73.974510        40.778297   \n",
              "973898                2            0.0        -73.978920        40.688160   \n",
              "\n",
              "        dropoff_longitude  dropoff_latitude payment_type  trip_duration  \\\n",
              "852            -74.002861         40.750446            2           21.0   \n",
              "1079           -73.988747         40.727280            3          136.0   \n",
              "1408           -73.985741         40.763672            2           65.0   \n",
              "1440           -74.014198         40.709988            3            3.0   \n",
              "1510           -73.952499         40.817322            2           13.0   \n",
              "...                   ...               ...          ...            ...   \n",
              "972967         -73.945496         40.751549            2          757.0   \n",
              "973384         -73.983910         40.693817            1            2.0   \n",
              "973555         -74.008659         40.708858            1           15.0   \n",
              "973607         -73.977272         40.754047            1          797.0   \n",
              "973898         -73.992317         40.749359            1         1364.0   \n",
              "\n",
              "       pickup_neighborhood dropoff_neighborhood  \n",
              "852                     AG                   AG  \n",
              "1079                     H                    H  \n",
              "1408                    AR                   AR  \n",
              "1440                    AU                   AU  \n",
              "1510                    AL                   AL  \n",
              "...                    ...                  ...  \n",
              "972967                  AN                   AN  \n",
              "973384                  AS                   AS  \n",
              "973555                  AU                   AU  \n",
              "973607                   I                   AD  \n",
              "973898                   V                    D  \n",
              "\n",
              "[3818 rows x 14 columns]"
            ],
            "text/html": [
              "\n",
              "  <div id=\"df-74977d1a-b798-4605-8696-7cc34365528f\">\n",
              "    <div class=\"colab-df-container\">\n",
              "      <div>\n",
              "<style scoped>\n",
              "    .dataframe tbody tr th:only-of-type {\n",
              "        vertical-align: middle;\n",
              "    }\n",
              "\n",
              "    .dataframe tbody tr th {\n",
              "        vertical-align: top;\n",
              "    }\n",
              "\n",
              "    .dataframe thead th {\n",
              "        text-align: right;\n",
              "    }\n",
              "</style>\n",
              "<table border=\"1\" class=\"dataframe\">\n",
              "  <thead>\n",
              "    <tr style=\"text-align: right;\">\n",
              "      <th></th>\n",
              "      <th>id</th>\n",
              "      <th>vendor_id</th>\n",
              "      <th>pickup_datetime</th>\n",
              "      <th>dropoff_datetime</th>\n",
              "      <th>passenger_count</th>\n",
              "      <th>trip_distance</th>\n",
              "      <th>pickup_longitude</th>\n",
              "      <th>pickup_latitude</th>\n",
              "      <th>dropoff_longitude</th>\n",
              "      <th>dropoff_latitude</th>\n",
              "      <th>payment_type</th>\n",
              "      <th>trip_duration</th>\n",
              "      <th>pickup_neighborhood</th>\n",
              "      <th>dropoff_neighborhood</th>\n",
              "    </tr>\n",
              "  </thead>\n",
              "  <tbody>\n",
              "    <tr>\n",
              "      <th>852</th>\n",
              "      <td>880</td>\n",
              "      <td>1</td>\n",
              "      <td>2016-01-01 02:15:56</td>\n",
              "      <td>2016-01-01 02:16:17</td>\n",
              "      <td>1</td>\n",
              "      <td>0.0</td>\n",
              "      <td>-74.002586</td>\n",
              "      <td>40.750298</td>\n",
              "      <td>-74.002861</td>\n",
              "      <td>40.750446</td>\n",
              "      <td>2</td>\n",
              "      <td>21.0</td>\n",
              "      <td>AG</td>\n",
              "      <td>AG</td>\n",
              "    </tr>\n",
              "    <tr>\n",
              "      <th>1079</th>\n",
              "      <td>1116</td>\n",
              "      <td>1</td>\n",
              "      <td>2016-01-01 03:01:10</td>\n",
              "      <td>2016-01-01 03:03:26</td>\n",
              "      <td>1</td>\n",
              "      <td>0.0</td>\n",
              "      <td>-73.987831</td>\n",
              "      <td>40.728558</td>\n",
              "      <td>-73.988747</td>\n",
              "      <td>40.727280</td>\n",
              "      <td>3</td>\n",
              "      <td>136.0</td>\n",
              "      <td>H</td>\n",
              "      <td>H</td>\n",
              "    </tr>\n",
              "    <tr>\n",
              "      <th>1408</th>\n",
              "      <td>1455</td>\n",
              "      <td>2</td>\n",
              "      <td>2016-01-01 04:09:43</td>\n",
              "      <td>2016-01-01 04:10:48</td>\n",
              "      <td>1</td>\n",
              "      <td>0.0</td>\n",
              "      <td>-73.985893</td>\n",
              "      <td>40.763649</td>\n",
              "      <td>-73.985741</td>\n",
              "      <td>40.763672</td>\n",
              "      <td>2</td>\n",
              "      <td>65.0</td>\n",
              "      <td>AR</td>\n",
              "      <td>AR</td>\n",
              "    </tr>\n",
              "    <tr>\n",
              "      <th>1440</th>\n",
              "      <td>1488</td>\n",
              "      <td>1</td>\n",
              "      <td>2016-01-01 04:16:54</td>\n",
              "      <td>2016-01-01 04:16:57</td>\n",
              "      <td>1</td>\n",
              "      <td>0.0</td>\n",
              "      <td>-74.014198</td>\n",
              "      <td>40.709988</td>\n",
              "      <td>-74.014198</td>\n",
              "      <td>40.709988</td>\n",
              "      <td>3</td>\n",
              "      <td>3.0</td>\n",
              "      <td>AU</td>\n",
              "      <td>AU</td>\n",
              "    </tr>\n",
              "    <tr>\n",
              "      <th>1510</th>\n",
              "      <td>1558</td>\n",
              "      <td>1</td>\n",
              "      <td>2016-01-01 04:36:03</td>\n",
              "      <td>2016-01-01 04:36:16</td>\n",
              "      <td>1</td>\n",
              "      <td>0.0</td>\n",
              "      <td>-73.952507</td>\n",
              "      <td>40.817329</td>\n",
              "      <td>-73.952499</td>\n",
              "      <td>40.817322</td>\n",
              "      <td>2</td>\n",
              "      <td>13.0</td>\n",
              "      <td>AL</td>\n",
              "      <td>AL</td>\n",
              "    </tr>\n",
              "    <tr>\n",
              "      <th>...</th>\n",
              "      <td>...</td>\n",
              "      <td>...</td>\n",
              "      <td>...</td>\n",
              "      <td>...</td>\n",
              "      <td>...</td>\n",
              "      <td>...</td>\n",
              "      <td>...</td>\n",
              "      <td>...</td>\n",
              "      <td>...</td>\n",
              "      <td>...</td>\n",
              "      <td>...</td>\n",
              "      <td>...</td>\n",
              "      <td>...</td>\n",
              "      <td>...</td>\n",
              "    </tr>\n",
              "    <tr>\n",
              "      <th>972967</th>\n",
              "      <td>1018490</td>\n",
              "      <td>1</td>\n",
              "      <td>2016-06-30 19:09:44</td>\n",
              "      <td>2016-06-30 19:22:21</td>\n",
              "      <td>1</td>\n",
              "      <td>0.0</td>\n",
              "      <td>-73.945480</td>\n",
              "      <td>40.751400</td>\n",
              "      <td>-73.945496</td>\n",
              "      <td>40.751549</td>\n",
              "      <td>2</td>\n",
              "      <td>757.0</td>\n",
              "      <td>AN</td>\n",
              "      <td>AN</td>\n",
              "    </tr>\n",
              "    <tr>\n",
              "      <th>973384</th>\n",
              "      <td>1018928</td>\n",
              "      <td>2</td>\n",
              "      <td>2016-06-30 20:35:08</td>\n",
              "      <td>2016-06-30 20:35:10</td>\n",
              "      <td>1</td>\n",
              "      <td>0.0</td>\n",
              "      <td>-73.983864</td>\n",
              "      <td>40.693813</td>\n",
              "      <td>-73.983910</td>\n",
              "      <td>40.693817</td>\n",
              "      <td>1</td>\n",
              "      <td>2.0</td>\n",
              "      <td>AS</td>\n",
              "      <td>AS</td>\n",
              "    </tr>\n",
              "    <tr>\n",
              "      <th>973555</th>\n",
              "      <td>1019105</td>\n",
              "      <td>2</td>\n",
              "      <td>2016-06-30 21:13:50</td>\n",
              "      <td>2016-06-30 21:14:05</td>\n",
              "      <td>1</td>\n",
              "      <td>0.0</td>\n",
              "      <td>-74.008789</td>\n",
              "      <td>40.708740</td>\n",
              "      <td>-74.008659</td>\n",
              "      <td>40.708858</td>\n",
              "      <td>1</td>\n",
              "      <td>15.0</td>\n",
              "      <td>AU</td>\n",
              "      <td>AU</td>\n",
              "    </tr>\n",
              "    <tr>\n",
              "      <th>973607</th>\n",
              "      <td>1019159</td>\n",
              "      <td>2</td>\n",
              "      <td>2016-06-30 21:24:23</td>\n",
              "      <td>2016-06-30 21:37:40</td>\n",
              "      <td>1</td>\n",
              "      <td>0.0</td>\n",
              "      <td>-73.974510</td>\n",
              "      <td>40.778297</td>\n",
              "      <td>-73.977272</td>\n",
              "      <td>40.754047</td>\n",
              "      <td>1</td>\n",
              "      <td>797.0</td>\n",
              "      <td>I</td>\n",
              "      <td>AD</td>\n",
              "    </tr>\n",
              "    <tr>\n",
              "      <th>973898</th>\n",
              "      <td>1019464</td>\n",
              "      <td>2</td>\n",
              "      <td>2016-06-30 22:20:27</td>\n",
              "      <td>2016-06-30 22:43:11</td>\n",
              "      <td>2</td>\n",
              "      <td>0.0</td>\n",
              "      <td>-73.978920</td>\n",
              "      <td>40.688160</td>\n",
              "      <td>-73.992317</td>\n",
              "      <td>40.749359</td>\n",
              "      <td>1</td>\n",
              "      <td>1364.0</td>\n",
              "      <td>V</td>\n",
              "      <td>D</td>\n",
              "    </tr>\n",
              "  </tbody>\n",
              "</table>\n",
              "<p>3818 rows × 14 columns</p>\n",
              "</div>\n",
              "      <button class=\"colab-df-convert\" onclick=\"convertToInteractive('df-74977d1a-b798-4605-8696-7cc34365528f')\"\n",
              "              title=\"Convert this dataframe to an interactive table.\"\n",
              "              style=\"display:none;\">\n",
              "        \n",
              "  <svg xmlns=\"http://www.w3.org/2000/svg\" height=\"24px\"viewBox=\"0 0 24 24\"\n",
              "       width=\"24px\">\n",
              "    <path d=\"M0 0h24v24H0V0z\" fill=\"none\"/>\n",
              "    <path d=\"M18.56 5.44l.94 2.06.94-2.06 2.06-.94-2.06-.94-.94-2.06-.94 2.06-2.06.94zm-11 1L8.5 8.5l.94-2.06 2.06-.94-2.06-.94L8.5 2.5l-.94 2.06-2.06.94zm10 10l.94 2.06.94-2.06 2.06-.94-2.06-.94-.94-2.06-.94 2.06-2.06.94z\"/><path d=\"M17.41 7.96l-1.37-1.37c-.4-.4-.92-.59-1.43-.59-.52 0-1.04.2-1.43.59L10.3 9.45l-7.72 7.72c-.78.78-.78 2.05 0 2.83L4 21.41c.39.39.9.59 1.41.59.51 0 1.02-.2 1.41-.59l7.78-7.78 2.81-2.81c.8-.78.8-2.07 0-2.86zM5.41 20L4 18.59l7.72-7.72 1.47 1.35L5.41 20z\"/>\n",
              "  </svg>\n",
              "      </button>\n",
              "      \n",
              "  <style>\n",
              "    .colab-df-container {\n",
              "      display:flex;\n",
              "      flex-wrap:wrap;\n",
              "      gap: 12px;\n",
              "    }\n",
              "\n",
              "    .colab-df-convert {\n",
              "      background-color: #E8F0FE;\n",
              "      border: none;\n",
              "      border-radius: 50%;\n",
              "      cursor: pointer;\n",
              "      display: none;\n",
              "      fill: #1967D2;\n",
              "      height: 32px;\n",
              "      padding: 0 0 0 0;\n",
              "      width: 32px;\n",
              "    }\n",
              "\n",
              "    .colab-df-convert:hover {\n",
              "      background-color: #E2EBFA;\n",
              "      box-shadow: 0px 1px 2px rgba(60, 64, 67, 0.3), 0px 1px 3px 1px rgba(60, 64, 67, 0.15);\n",
              "      fill: #174EA6;\n",
              "    }\n",
              "\n",
              "    [theme=dark] .colab-df-convert {\n",
              "      background-color: #3B4455;\n",
              "      fill: #D2E3FC;\n",
              "    }\n",
              "\n",
              "    [theme=dark] .colab-df-convert:hover {\n",
              "      background-color: #434B5C;\n",
              "      box-shadow: 0px 1px 3px 1px rgba(0, 0, 0, 0.15);\n",
              "      filter: drop-shadow(0px 1px 2px rgba(0, 0, 0, 0.3));\n",
              "      fill: #FFFFFF;\n",
              "    }\n",
              "  </style>\n",
              "\n",
              "      <script>\n",
              "        const buttonEl =\n",
              "          document.querySelector('#df-74977d1a-b798-4605-8696-7cc34365528f button.colab-df-convert');\n",
              "        buttonEl.style.display =\n",
              "          google.colab.kernel.accessAllowed ? 'block' : 'none';\n",
              "\n",
              "        async function convertToInteractive(key) {\n",
              "          const element = document.querySelector('#df-74977d1a-b798-4605-8696-7cc34365528f');\n",
              "          const dataTable =\n",
              "            await google.colab.kernel.invokeFunction('convertToInteractive',\n",
              "                                                     [key], {});\n",
              "          if (!dataTable) return;\n",
              "\n",
              "          const docLinkHtml = 'Like what you see? Visit the ' +\n",
              "            '<a target=\"_blank\" href=https://colab.research.google.com/notebooks/data_table.ipynb>data table notebook</a>'\n",
              "            + ' to learn more about interactive tables.';\n",
              "          element.innerHTML = '';\n",
              "          dataTable['output_type'] = 'display_data';\n",
              "          await google.colab.output.renderOutput(dataTable, element);\n",
              "          const docLink = document.createElement('div');\n",
              "          docLink.innerHTML = docLinkHtml;\n",
              "          element.appendChild(docLink);\n",
              "        }\n",
              "      </script>\n",
              "    </div>\n",
              "  </div>\n",
              "  "
            ]
          },
          "metadata": {},
          "execution_count": 109
        }
      ],
      "source": [
        "# Chekcing the rows where trip distance is 0 but trip duration is different from 0, and vise versa \n",
        "trips[((trips['trip_distance']==0) & (trips['trip_duration'] !=0)) | ((trips['trip_distance']!=0) & (trips['trip_duration'] ==0))]"
      ]
    },
    {
      "cell_type": "markdown",
      "metadata": {
        "id": "3sKnklzHPB6Y"
      },
      "source": [
        "**Comments:**\n",
        "- There are 3818 rows where trip distance is 0 but trip duration is different from 0 or trip duration is different from 0 but trip distance is 0. "
      ]
    },
    {
      "cell_type": "markdown",
      "metadata": {
        "id": "7-_TbBctPB6Z"
      },
      "source": [
        "## Replacing the 0 values with median for both trip distance and trip duration\n",
        "\n",
        "**Notes:**\n",
        "- It is not normal to have the duration equal 0 and the distance different from 0 and vice versa. Therefore, it means sense to replace those values by 0s. Because there are only 7 rows where both the distance and the duration are simultanesly 0, which is the normal, we can replace these 0s with median without distortion to the distribution of the data. "
      ]
    },
    {
      "cell_type": "code",
      "execution_count": 110,
      "metadata": {
        "colab": {
          "base_uri": "https://localhost:8080/"
        },
        "id": "T7yTN7fsPB6Z",
        "outputId": "7289cea9-7a98-4a50-b293-6d5b751e5c37"
      },
      "outputs": [
        {
          "output_type": "execute_result",
          "data": {
            "text/plain": [
              "id                      0\n",
              "vendor_id               0\n",
              "pickup_datetime         0\n",
              "dropoff_datetime        0\n",
              "passenger_count         0\n",
              "trip_distance           0\n",
              "pickup_longitude        0\n",
              "pickup_latitude         0\n",
              "dropoff_longitude       0\n",
              "dropoff_latitude        0\n",
              "payment_type            0\n",
              "trip_duration           0\n",
              "pickup_neighborhood     0\n",
              "dropoff_neighborhood    0\n",
              "dtype: int64"
            ]
          },
          "metadata": {},
          "execution_count": 110
        }
      ],
      "source": [
        "# Replacing the 0s of trip distance by the median value\n",
        "trips['trip_distance']=trips['trip_distance'].replace(0,trips['trip_distance'].median())\n",
        "trips[trips['trip_distance']==0].count()"
      ]
    },
    {
      "cell_type": "code",
      "execution_count": 111,
      "metadata": {
        "colab": {
          "base_uri": "https://localhost:8080/"
        },
        "id": "30eE8tn3_fgA",
        "outputId": "5ea8644b-ba27-4112-f181-0c4b027edfd0"
      },
      "outputs": [
        {
          "output_type": "execute_result",
          "data": {
            "text/plain": [
              "id                      0\n",
              "vendor_id               0\n",
              "pickup_datetime         0\n",
              "dropoff_datetime        0\n",
              "passenger_count         0\n",
              "trip_distance           0\n",
              "pickup_longitude        0\n",
              "pickup_latitude         0\n",
              "dropoff_longitude       0\n",
              "dropoff_latitude        0\n",
              "payment_type            0\n",
              "trip_duration           0\n",
              "pickup_neighborhood     0\n",
              "dropoff_neighborhood    0\n",
              "dtype: int64"
            ]
          },
          "metadata": {},
          "execution_count": 111
        }
      ],
      "source": [
        "# Replacing the 0s of the trip duration with the median value \n",
        "trips['trip_duration']=trips['trip_duration'].replace(0,trips['trip_duration'].median())\n",
        "trips[trips['trip_duration']==0].count()"
      ]
    },
    {
      "cell_type": "markdown",
      "metadata": {
        "id": "qPJYsV1PPB6e"
      },
      "source": [
        "## Plotting the histograms for the numerical columns to visualize their distributions."
      ]
    },
    {
      "cell_type": "code",
      "execution_count": 112,
      "metadata": {
        "colab": {
          "base_uri": "https://localhost:8080/",
          "height": 934
        },
        "id": "qHtNEJbiPB6g",
        "outputId": "4f96a625-1177-4428-feda-063cd4fccbca"
      },
      "outputs": [
        {
          "output_type": "display_data",
          "data": {
            "text/plain": [
              "<Figure size 1152x1152 with 12 Axes>"
            ],
            "image/png": "[encoded data removed]"
          },
          "metadata": {
            "needs_background": "light"
          }
        }
      ],
      "source": [
        "trips.hist(figsize=(16, 16))\n",
        "plt.show()"
      ]
    },
    {
      "cell_type": "markdown",
      "metadata": {
        "id": "zmk45hK1PB6i"
      },
      "source": [
        "**Comments:**\n",
        "- The distributions of pickup_datetime and dropoff_datetime look more like uniform distribution. \n",
        "- The distributions of pickup_latitude and dropoff_latitude look more like normal distribution\n",
        "- There are outliers in the distribtion of trip_duration, which is skewed to the right.\n",
        "- There are also outliers in the passenger_count with most trip with only one passenger. \n",
        "- The pickup-longitude and the dropoff_longitude too have some outliers."
      ]
    },
    {
      "cell_type": "markdown",
      "metadata": {
        "id": "T8LqG1KBLYN2"
      },
      "source": [
        "## Dectecting outliers of trip distance using boxplot."
      ]
    },
    {
      "cell_type": "code",
      "execution_count": 113,
      "metadata": {
        "colab": {
          "base_uri": "https://localhost:8080/",
          "height": 334
        },
        "id": "aONMoCn9PB6k",
        "outputId": "9c028b4d-4fe6-4b38-b5f2-1f8a7ab3e53c"
      },
      "outputs": [
        {
          "output_type": "stream",
          "name": "stderr",
          "text": [
            "/usr/local/lib/python3.7/dist-packages/seaborn/_decorators.py:43: FutureWarning: Pass the following variable as a keyword arg: x. From version 0.12, the only valid positional argument will be `data`, and passing other arguments without an explicit keyword will result in an error or misinterpretation.\n",
            "  FutureWarning\n"
          ]
        },
        {
          "output_type": "display_data",
          "data": {
            "text/plain": [
              "<Figure size 432x288 with 1 Axes>"
            ],
            "image/png": "[encoded data removed]"
          },
          "metadata": {
            "needs_background": "light"
          }
        }
      ],
      "source": [
        "sns.boxplot(trips['trip_distance'])\n",
        "plt.show()"
      ]
    },
    {
      "cell_type": "markdown",
      "metadata": {
        "id": "E9nX-91XPB6l"
      },
      "source": [
        "**Comments:**\n",
        "- There is an extreme outlier in the trip distance, thus needs to be investigated further."
      ]
    },
    {
      "cell_type": "markdown",
      "metadata": {
        "id": "eBIGcpg2HPw7"
      },
      "source": [
        "## Trip distance greater than 100 miles"
      ]
    },
    {
      "cell_type": "code",
      "execution_count": 114,
      "metadata": {
        "colab": {
          "base_uri": "https://localhost:8080/",
          "height": 353
        },
        "id": "Lr4-ppLLPB6l",
        "outputId": "0cad2adf-93db-48b1-c4e0-3c84b902eb48"
      },
      "outputs": [
        {
          "output_type": "execute_result",
          "data": {
            "text/plain": [
              "            id vendor_id     pickup_datetime    dropoff_datetime  \\\n",
              "171143  178815         1 2016-02-04 14:05:10 2016-02-04 14:56:37   \n",
              "248346  259490         1 2016-02-18 09:48:06 2016-02-18 09:50:27   \n",
              "525084  548884         1 2016-04-07 21:19:03 2016-04-07 22:03:17   \n",
              "530340  554389         1 2016-04-08 19:19:32 2016-04-08 19:41:33   \n",
              "828650  867217         1 2016-06-02 21:30:17 2016-06-02 21:36:47   \n",
              "\n",
              "        passenger_count  trip_distance  pickup_longitude  pickup_latitude  \\\n",
              "171143                1          156.2        -73.979149        40.765499   \n",
              "248346                1          501.4        -73.980087        40.782185   \n",
              "525084                3          172.3        -73.783340        40.644176   \n",
              "530340                2          502.8        -73.995461        40.724884   \n",
              "828650                2          101.0        -73.961586        40.800968   \n",
              "\n",
              "        dropoff_longitude  dropoff_latitude payment_type  trip_duration  \\\n",
              "171143         -73.782806         40.644009            1         3087.0   \n",
              "248346         -73.981468         40.778519            2          141.0   \n",
              "525084         -73.936028         40.737762            2         2654.0   \n",
              "530340         -73.986099         40.762108            1         1321.0   \n",
              "828650         -73.950165         40.802193            2          390.0   \n",
              "\n",
              "       pickup_neighborhood dropoff_neighborhood  \n",
              "171143                  AR                    G  \n",
              "248346                   I                   AV  \n",
              "525084                   G                   AN  \n",
              "530340                   X                   AA  \n",
              "828650                  AH                    J  "
            ],
            "text/html": [
              "\n",
              "  <div id=\"df-fbed67b7-15a5-4f35-8e08-b590db878cf3\">\n",
              "    <div class=\"colab-df-container\">\n",
              "      <div>\n",
              "<style scoped>\n",
              "    .dataframe tbody tr th:only-of-type {\n",
              "        vertical-align: middle;\n",
              "    }\n",
              "\n",
              "    .dataframe tbody tr th {\n",
              "        vertical-align: top;\n",
              "    }\n",
              "\n",
              "    .dataframe thead th {\n",
              "        text-align: right;\n",
              "    }\n",
              "</style>\n",
              "<table border=\"1\" class=\"dataframe\">\n",
              "  <thead>\n",
              "    <tr style=\"text-align: right;\">\n",
              "      <th></th>\n",
              "      <th>id</th>\n",
              "      <th>vendor_id</th>\n",
              "      <th>pickup_datetime</th>\n",
              "      <th>dropoff_datetime</th>\n",
              "      <th>passenger_count</th>\n",
              "      <th>trip_distance</th>\n",
              "      <th>pickup_longitude</th>\n",
              "      <th>pickup_latitude</th>\n",
              "      <th>dropoff_longitude</th>\n",
              "      <th>dropoff_latitude</th>\n",
              "      <th>payment_type</th>\n",
              "      <th>trip_duration</th>\n",
              "      <th>pickup_neighborhood</th>\n",
              "      <th>dropoff_neighborhood</th>\n",
              "    </tr>\n",
              "  </thead>\n",
              "  <tbody>\n",
              "    <tr>\n",
              "      <th>171143</th>\n",
              "      <td>178815</td>\n",
              "      <td>1</td>\n",
              "      <td>2016-02-04 14:05:10</td>\n",
              "      <td>2016-02-04 14:56:37</td>\n",
              "      <td>1</td>\n",
              "      <td>156.2</td>\n",
              "      <td>-73.979149</td>\n",
              "      <td>40.765499</td>\n",
              "      <td>-73.782806</td>\n",
              "      <td>40.644009</td>\n",
              "      <td>1</td>\n",
              "      <td>3087.0</td>\n",
              "      <td>AR</td>\n",
              "      <td>G</td>\n",
              "    </tr>\n",
              "    <tr>\n",
              "      <th>248346</th>\n",
              "      <td>259490</td>\n",
              "      <td>1</td>\n",
              "      <td>2016-02-18 09:48:06</td>\n",
              "      <td>2016-02-18 09:50:27</td>\n",
              "      <td>1</td>\n",
              "      <td>501.4</td>\n",
              "      <td>-73.980087</td>\n",
              "      <td>40.782185</td>\n",
              "      <td>-73.981468</td>\n",
              "      <td>40.778519</td>\n",
              "      <td>2</td>\n",
              "      <td>141.0</td>\n",
              "      <td>I</td>\n",
              "      <td>AV</td>\n",
              "    </tr>\n",
              "    <tr>\n",
              "      <th>525084</th>\n",
              "      <td>548884</td>\n",
              "      <td>1</td>\n",
              "      <td>2016-04-07 21:19:03</td>\n",
              "      <td>2016-04-07 22:03:17</td>\n",
              "      <td>3</td>\n",
              "      <td>172.3</td>\n",
              "      <td>-73.783340</td>\n",
              "      <td>40.644176</td>\n",
              "      <td>-73.936028</td>\n",
              "      <td>40.737762</td>\n",
              "      <td>2</td>\n",
              "      <td>2654.0</td>\n",
              "      <td>G</td>\n",
              "      <td>AN</td>\n",
              "    </tr>\n",
              "    <tr>\n",
              "      <th>530340</th>\n",
              "      <td>554389</td>\n",
              "      <td>1</td>\n",
              "      <td>2016-04-08 19:19:32</td>\n",
              "      <td>2016-04-08 19:41:33</td>\n",
              "      <td>2</td>\n",
              "      <td>502.8</td>\n",
              "      <td>-73.995461</td>\n",
              "      <td>40.724884</td>\n",
              "      <td>-73.986099</td>\n",
              "      <td>40.762108</td>\n",
              "      <td>1</td>\n",
              "      <td>1321.0</td>\n",
              "      <td>X</td>\n",
              "      <td>AA</td>\n",
              "    </tr>\n",
              "    <tr>\n",
              "      <th>828650</th>\n",
              "      <td>867217</td>\n",
              "      <td>1</td>\n",
              "      <td>2016-06-02 21:30:17</td>\n",
              "      <td>2016-06-02 21:36:47</td>\n",
              "      <td>2</td>\n",
              "      <td>101.0</td>\n",
              "      <td>-73.961586</td>\n",
              "      <td>40.800968</td>\n",
              "      <td>-73.950165</td>\n",
              "      <td>40.802193</td>\n",
              "      <td>2</td>\n",
              "      <td>390.0</td>\n",
              "      <td>AH</td>\n",
              "      <td>J</td>\n",
              "    </tr>\n",
              "  </tbody>\n",
              "</table>\n",
              "</div>\n",
              "      <button class=\"colab-df-convert\" onclick=\"convertToInteractive('df-fbed67b7-15a5-4f35-8e08-b590db878cf3')\"\n",
              "              title=\"Convert this dataframe to an interactive table.\"\n",
              "              style=\"display:none;\">\n",
              "        \n",
              "  <svg xmlns=\"http://www.w3.org/2000/svg\" height=\"24px\"viewBox=\"0 0 24 24\"\n",
              "       width=\"24px\">\n",
              "    <path d=\"M0 0h24v24H0V0z\" fill=\"none\"/>\n",
              "    <path d=\"M18.56 5.44l.94 2.06.94-2.06 2.06-.94-2.06-.94-.94-2.06-.94 2.06-2.06.94zm-11 1L8.5 8.5l.94-2.06 2.06-.94-2.06-.94L8.5 2.5l-.94 2.06-2.06.94zm10 10l.94 2.06.94-2.06 2.06-.94-2.06-.94-.94-2.06-.94 2.06-2.06.94z\"/><path d=\"M17.41 7.96l-1.37-1.37c-.4-.4-.92-.59-1.43-.59-.52 0-1.04.2-1.43.59L10.3 9.45l-7.72 7.72c-.78.78-.78 2.05 0 2.83L4 21.41c.39.39.9.59 1.41.59.51 0 1.02-.2 1.41-.59l7.78-7.78 2.81-2.81c.8-.78.8-2.07 0-2.86zM5.41 20L4 18.59l7.72-7.72 1.47 1.35L5.41 20z\"/>\n",
              "  </svg>\n",
              "      </button>\n",
              "      \n",
              "  <style>\n",
              "    .colab-df-container {\n",
              "      display:flex;\n",
              "      flex-wrap:wrap;\n",
              "      gap: 12px;\n",
              "    }\n",
              "\n",
              "    .colab-df-convert {\n",
              "      background-color: #E8F0FE;\n",
              "      border: none;\n",
              "      border-radius: 50%;\n",
              "      cursor: pointer;\n",
              "      display: none;\n",
              "      fill: #1967D2;\n",
              "      height: 32px;\n",
              "      padding: 0 0 0 0;\n",
              "      width: 32px;\n",
              "    }\n",
              "\n",
              "    .colab-df-convert:hover {\n",
              "      background-color: #E2EBFA;\n",
              "      box-shadow: 0px 1px 2px rgba(60, 64, 67, 0.3), 0px 1px 3px 1px rgba(60, 64, 67, 0.15);\n",
              "      fill: #174EA6;\n",
              "    }\n",
              "\n",
              "    [theme=dark] .colab-df-convert {\n",
              "      background-color: #3B4455;\n",
              "      fill: #D2E3FC;\n",
              "    }\n",
              "\n",
              "    [theme=dark] .colab-df-convert:hover {\n",
              "      background-color: #434B5C;\n",
              "      box-shadow: 0px 1px 3px 1px rgba(0, 0, 0, 0.15);\n",
              "      filter: drop-shadow(0px 1px 2px rgba(0, 0, 0, 0.3));\n",
              "      fill: #FFFFFF;\n",
              "    }\n",
              "  </style>\n",
              "\n",
              "      <script>\n",
              "        const buttonEl =\n",
              "          document.querySelector('#df-fbed67b7-15a5-4f35-8e08-b590db878cf3 button.colab-df-convert');\n",
              "        buttonEl.style.display =\n",
              "          google.colab.kernel.accessAllowed ? 'block' : 'none';\n",
              "\n",
              "        async function convertToInteractive(key) {\n",
              "          const element = document.querySelector('#df-fbed67b7-15a5-4f35-8e08-b590db878cf3');\n",
              "          const dataTable =\n",
              "            await google.colab.kernel.invokeFunction('convertToInteractive',\n",
              "                                                     [key], {});\n",
              "          if (!dataTable) return;\n",
              "\n",
              "          const docLinkHtml = 'Like what you see? Visit the ' +\n",
              "            '<a target=\"_blank\" href=https://colab.research.google.com/notebooks/data_table.ipynb>data table notebook</a>'\n",
              "            + ' to learn more about interactive tables.';\n",
              "          element.innerHTML = '';\n",
              "          dataTable['output_type'] = 'display_data';\n",
              "          await google.colab.output.renderOutput(dataTable, element);\n",
              "          const docLink = document.createElement('div');\n",
              "          docLink.innerHTML = docLinkHtml;\n",
              "          element.appendChild(docLink);\n",
              "        }\n",
              "      </script>\n",
              "    </div>\n",
              "  </div>\n",
              "  "
            ]
          },
          "metadata": {},
          "execution_count": 114
        }
      ],
      "source": [
        "trips[trips['trip_distance']>100]"
      ]
    },
    {
      "cell_type": "markdown",
      "metadata": {
        "id": "VYWEpgCjPB6m"
      },
      "source": [
        "**Comments:**\n",
        "\n",
        "- There are 2 observation > 500, and there is a huge gap between their trip durations.\n",
        "- Covering 501.4 miles distance in 141 seconds is not possible. Thus, it means sense to clip these outliers. I choose to clip them to 50. "
      ]
    },
    {
      "cell_type": "markdown",
      "metadata": {
        "id": "PifM3Yv0PB6m"
      },
      "source": [
        "## Curtailing (clipping) the outliers of trip distance to 50 miles"
      ]
    },
    {
      "cell_type": "code",
      "execution_count": 115,
      "metadata": {
        "id": "xbiQH6uwPB6m"
      },
      "outputs": [],
      "source": [
        "trips['trip_distance']=trips['trip_distance'].clip(trips['trip_distance'].min(),50)"
      ]
    },
    {
      "cell_type": "code",
      "execution_count": 116,
      "metadata": {
        "colab": {
          "base_uri": "https://localhost:8080/",
          "height": 334
        },
        "id": "8xORLZ9gPB6n",
        "outputId": "25d91540-c956-48b9-8832-8f33993a17b7"
      },
      "outputs": [
        {
          "output_type": "stream",
          "name": "stderr",
          "text": [
            "/usr/local/lib/python3.7/dist-packages/seaborn/_decorators.py:43: FutureWarning: Pass the following variable as a keyword arg: x. From version 0.12, the only valid positional argument will be `data`, and passing other arguments without an explicit keyword will result in an error or misinterpretation.\n",
            "  FutureWarning\n"
          ]
        },
        {
          "output_type": "display_data",
          "data": {
            "text/plain": [
              "<Figure size 432x288 with 1 Axes>"
            ],
            "image/png": "[encoded data removed]"
          },
          "metadata": {
            "needs_background": "light"
          }
        }
      ],
      "source": [
        "sns.boxplot(trips['trip_distance'])\n",
        "plt.show()"
      ]
    },
    {
      "cell_type": "markdown",
      "metadata": {
        "id": "_zQwFZpZPB6o"
      },
      "source": [
        "## Investigating the number of passengers on trips further by countploting  Passenger_count. "
      ]
    },
    {
      "cell_type": "code",
      "execution_count": 117,
      "metadata": {
        "colab": {
          "base_uri": "https://localhost:8080/",
          "height": 388
        },
        "id": "_gQwJ8jYPB6o",
        "outputId": "442926e4-c7b5-4ae9-beac-ae4fd8aeb95f"
      },
      "outputs": [
        {
          "output_type": "stream",
          "name": "stderr",
          "text": [
            "/usr/local/lib/python3.7/dist-packages/seaborn/_decorators.py:43: FutureWarning: Pass the following variable as a keyword arg: x. From version 0.12, the only valid positional argument will be `data`, and passing other arguments without an explicit keyword will result in an error or misinterpretation.\n",
            "  FutureWarning\n"
          ]
        },
        {
          "output_type": "display_data",
          "data": {
            "text/plain": [
              "<Figure size 1440x360 with 1 Axes>"
            ],
            "image/png": "[encoded data removed]"
          },
          "metadata": {
            "needs_background": "light"
          }
        }
      ],
      "source": [
        "plt.figure(figsize=(20,5))\n",
        "sns.countplot(trips.passenger_count)\n",
        "plt.show()"
      ]
    },
    {
      "cell_type": "code",
      "execution_count": 118,
      "metadata": {
        "colab": {
          "base_uri": "https://localhost:8080/"
        },
        "id": "pBmozo5vPB6p",
        "outputId": "d11e6273-df69-45ac-fe0e-50686d00e1cb"
      },
      "outputs": [
        {
          "output_type": "execute_result",
          "data": {
            "text/plain": [
              "1    70.933356\n",
              "2    14.341924\n",
              "5     5.340878\n",
              "3     4.113981\n",
              "6     3.333405\n",
              "4     1.933788\n",
              "0     0.002463\n",
              "9     0.000205\n",
              "Name: passenger_count, dtype: float64"
            ]
          },
          "metadata": {},
          "execution_count": 118
        }
      ],
      "source": [
        "trips.passenger_count.value_counts(normalize=True)*100"
      ]
    },
    {
      "cell_type": "markdown",
      "metadata": {
        "id": "JnmxZLeqPB6p"
      },
      "source": [
        "**Comments:**\n",
        "- The vast majority of the trips (70%) have one passenger. \n",
        "- 14% of the trips have 2 passengers on them.\n",
        "- Trips of more than 2 passengers  are less than 6% each. "
      ]
    },
    {
      "cell_type": "markdown",
      "metadata": {
        "id": "bS_kU16BPB6p"
      },
      "source": [
        "## Plotting countplot for pickup_neighborhood and dropoff_neighborhood"
      ]
    },
    {
      "cell_type": "code",
      "execution_count": 119,
      "metadata": {
        "colab": {
          "base_uri": "https://localhost:8080/",
          "height": 397
        },
        "id": "LfG0wLxZPB6q",
        "outputId": "15608160-e9eb-480c-d2cf-9306aff7f1ac"
      },
      "outputs": [
        {
          "output_type": "execute_result",
          "data": {
            "text/plain": [
              "<matplotlib.axes._subplots.AxesSubplot at 0x7f090edfe190>"
            ]
          },
          "metadata": {},
          "execution_count": 119
        },
        {
          "output_type": "display_data",
          "data": {
            "text/plain": [
              "<Figure size 1440x432 with 1 Axes>"
            ],
            "image/png": "[encoded data removed]"
          },
          "metadata": {
            "needs_background": "light"
          }
        }
      ],
      "source": [
        "from pandas._libs.hashtable import value_count\n",
        "trips.pickup_neighborhood.value_counts().sort_values(ascending=False).plot(kind='bar',figsize=(20,6))"
      ]
    },
    {
      "cell_type": "code",
      "execution_count": 120,
      "metadata": {
        "colab": {
          "base_uri": "https://localhost:8080/",
          "height": 397
        },
        "id": "C6AV1yvqPB6q",
        "outputId": "a9eca041-16c4-43ba-eae1-b3320f868129"
      },
      "outputs": [
        {
          "output_type": "execute_result",
          "data": {
            "text/plain": [
              "<matplotlib.axes._subplots.AxesSubplot at 0x7f090ec827d0>"
            ]
          },
          "metadata": {},
          "execution_count": 120
        },
        {
          "output_type": "display_data",
          "data": {
            "text/plain": [
              "<Figure size 1440x432 with 1 Axes>"
            ],
            "image/png": "[encoded data removed]"
          },
          "metadata": {
            "needs_background": "light"
          }
        }
      ],
      "source": [
        "trips.dropoff_neighborhood.value_counts().sort_values(ascending=False).plot(kind='bar', figsize=(20,6))"
      ]
    },
    {
      "cell_type": "markdown",
      "metadata": {
        "id": "LtOXDjn9PB6q"
      },
      "source": [
        "**Comments:**\n",
        "- M, T, AF, B, AE, AQ, AJ, and AE are the less busy places.\n",
        "- Places like AD, A, AA, and D are the busiest places. \n",
        "- All other places are in between. "
      ]
    },
    {
      "cell_type": "markdown",
      "metadata": {
        "id": "uWw2m2rIPB6r"
      },
      "source": [
        "## Bivariate analysis"
      ]
    },
    {
      "cell_type": "markdown",
      "metadata": {
        "id": "IQrwcogcPB6r"
      },
      "source": [
        "### Scatterplot for trip distance and trip duration"
      ]
    },
    {
      "cell_type": "code",
      "execution_count": 121,
      "metadata": {
        "colab": {
          "base_uri": "https://localhost:8080/",
          "height": 351
        },
        "id": "zD7qXvRGPB6s",
        "outputId": "c2e624a3-3dd1-43fd-f745-7c2ff05a9e8d"
      },
      "outputs": [
        {
          "output_type": "stream",
          "name": "stderr",
          "text": [
            "/usr/local/lib/python3.7/dist-packages/seaborn/_decorators.py:43: FutureWarning: Pass the following variables as keyword args: x, y. From version 0.12, the only valid positional argument will be `data`, and passing other arguments without an explicit keyword will result in an error or misinterpretation.\n",
            "  FutureWarning\n"
          ]
        },
        {
          "output_type": "execute_result",
          "data": {
            "text/plain": [
              "<matplotlib.axes._subplots.AxesSubplot at 0x7f090ed2f090>"
            ]
          },
          "metadata": {},
          "execution_count": 121
        },
        {
          "output_type": "display_data",
          "data": {
            "text/plain": [
              "<Figure size 432x288 with 1 Axes>"
            ],
            "image/png": "[encoded data removed]"
          },
          "metadata": {
            "needs_background": "light"
          }
        }
      ],
      "source": [
        "sns.scatterplot(trips['trip_distance'],trips['trip_duration'])"
      ]
    },
    {
      "cell_type": "markdown",
      "metadata": {
        "id": "fZH4jV1kPB6s"
      },
      "source": [
        "**Comments:**\n",
        "- There is some positive correlation between trip_distance and trip_duration."
      ]
    },
    {
      "cell_type": "markdown",
      "metadata": {
        "id": "CpK-AUuFLXS7"
      },
      "source": [
        "### Countplot passenger_count using payment_type as hue."
      ]
    },
    {
      "cell_type": "code",
      "execution_count": 122,
      "metadata": {
        "colab": {
          "base_uri": "https://localhost:8080/",
          "height": 351
        },
        "id": "4LZUO7hjPB6s",
        "outputId": "b7cc5a9c-7fa8-462e-e746-139cad0f9fee"
      },
      "outputs": [
        {
          "output_type": "stream",
          "name": "stderr",
          "text": [
            "/usr/local/lib/python3.7/dist-packages/seaborn/_decorators.py:43: FutureWarning: Pass the following variable as a keyword arg: x. From version 0.12, the only valid positional argument will be `data`, and passing other arguments without an explicit keyword will result in an error or misinterpretation.\n",
            "  FutureWarning\n"
          ]
        },
        {
          "output_type": "execute_result",
          "data": {
            "text/plain": [
              "<matplotlib.axes._subplots.AxesSubplot at 0x7f090eb2cdd0>"
            ]
          },
          "metadata": {},
          "execution_count": 122
        },
        {
          "output_type": "display_data",
          "data": {
            "text/plain": [
              "<Figure size 432x288 with 1 Axes>"
            ],
            "image/png": "[encoded data removed]"
          },
          "metadata": {
            "needs_background": "light"
          }
        }
      ],
      "source": [
        "sns.countplot(trips['passenger_count'],hue=trips['payment_type'])"
      ]
    },
    {
      "cell_type": "markdown",
      "metadata": {
        "id": "VoP3TMMsPB6s"
      },
      "source": [
        "**Comments:**\n",
        "- There is no clear pattern observed here.\n",
        "- But we can notice that the payment types 1 is most used by far, followed by the type 2. \n",
        "- Now that I have explored the data enough, it is time to start building the models."
      ]
    },
    {
      "cell_type": "markdown",
      "metadata": {
        "id": "vIaycjFpOq2K"
      },
      "source": [
        "# Step 2: Preparing the Data for building the models"
      ]
    },
    {
      "cell_type": "markdown",
      "metadata": {
        "id": "0ApSG5MFPB6t"
      },
      "source": [
        "**Notes:**\n",
        "\n",
        "Lets create entities and relationships. The three entities in this data are \n",
        "- trips \n",
        "- pickup_neighborhoods\n",
        "- dropoff_neighborhoods\n",
        "\n",
        "The data has the following relationships\n",
        "- **pickup_neighborhoods --> trips:** because one neighborhood can have multiple trips that start in it. This means pickup_neighborhoods is the ``parent_entity`` and trips is the ``child_entity``\n",
        "- **dropoff_neighborhoods --> trips:** because one neighborhood can have multiple trips that end in it. This means dropoff_neighborhoods is the ``parent_entity`` and trips is the ``child entity``\n"
      ]
    },
    {
      "cell_type": "markdown",
      "metadata": {
        "id": "vQTBim4dPB6t"
      },
      "source": [
        "## Defining entities and relationships for the Deep Feature Synthesis (DFS)"
      ]
    },
    {
      "cell_type": "code",
      "execution_count": 123,
      "metadata": {
        "id": "cefZpmjKPB6t"
      },
      "outputs": [],
      "source": [
        "entities = {\n",
        "            \"trips\": (trips, \"id\", \"pickup_datetime\"),\n",
        "            \"pickup_neighborhoods\": (pickup_neighborhoods, \"neighborhood_id\"),\n",
        "            \"dropoff_neighborhoods\": (dropoff_neighborhoods, \"neighborhood_id\")\n",
        "            }\n",
        "\n",
        "relationships = [(\"pickup_neighborhoods\", \"neighborhood_id\", \"trips\", \"pickup_neighborhood\"),\n",
        "                 (\"dropoff_neighborhoods\", \"neighborhood_id\", \"trips\", \"dropoff_neighborhood\")]"
      ]
    },
    {
      "cell_type": "markdown",
      "metadata": {
        "id": "U-6aOYRGPB6u"
      },
      "source": [
        "**Notes:**\n",
        "\n",
        "- Next, we specify the cutoff time for each instance of the target_entity, in this case ``trips``\n",
        "- This timestamp represents the last time data can be used for calculating features by DFS. \n",
        "- In this scenario, that would be the pickup time because we would like to make the duration prediction using data before the trip starts. \n",
        "  - e.g. If we use the dropoff time instead, we may end up having a trip which has its dropoff in the testing set while its pickup is in the training set. And, this would be bad for our prediction. \n",
        "- For the purposes of the case study, we choose to only select trips that started after January 12th, 2016. "
      ]
    },
    {
      "cell_type": "code",
      "execution_count": 124,
      "metadata": {
        "id": "kPid4qw1PB6u"
      },
      "outputs": [],
      "source": [
        "cutoff_time = trips[['id', 'pickup_datetime']]\n",
        "cutoff_time = cutoff_time[cutoff_time['pickup_datetime'] > \"2016-01-12\"]"
      ]
    },
    {
      "cell_type": "markdown",
      "metadata": {
        "id": "-8XE8lf_oSnH"
      },
      "source": [
        "# Step 3: Creating the models"
      ]
    },
    {
      "cell_type": "markdown",
      "metadata": {
        "id": "ReqYrz06PB6u"
      },
      "source": [
        "## Creating baseline features using Deep Feature Synthesis\n",
        "\n",
        "Instead of manually creating features, such as \"month of pickup datetime\", we can let DFS come up with them automatically. It does this by \n",
        "* interpreting the variable types of the columns e.g categorical, numeric and others \n",
        "* matching the columns to the primitives that can be applied to their variable types\n",
        "* creating features based on these matches"
      ]
    },
    {
      "cell_type": "markdown",
      "metadata": {
        "id": "Ehkinsw1PB6v"
      },
      "source": [
        "**Create transform features using transform primitives**\n",
        "\n",
        "Features fall into two major categories, ``transform`` and ``aggregate``. In featureools, we can create transform features by specifying ``transform`` primitives. Below we specify a ``transform`` primitive called ``weekend`` and it works as follows:\n",
        "\n",
        "* It can be applied to any ``datetime`` column in the data. \n",
        "* For each entry in the column, it assess if it is a ``weekend`` and returns a boolean. \n",
        "\n",
        "In this specific data, there are two ``datetime`` columns: ``pickup_datetime`` and ``dropoff_datetime``. The tool automatically creates features using the primitive and these two columns as shown below. "
      ]
    },
    {
      "cell_type": "markdown",
      "metadata": {
        "id": "-7lqx-WtPB6v"
      },
      "source": [
        "## Creating a baseline model with only one transform primitive\n",
        "\n",
        "**Defining transform primitive for weekend and define features using DFS** "
      ]
    },
    {
      "cell_type": "code",
      "execution_count": 125,
      "metadata": {
        "id": "RBaSglVHPB6w"
      },
      "outputs": [],
      "source": [
        "trans_primitives = [IsWeekend]\n",
        "\n",
        "features = ft.dfs(entities=entities,\n",
        "                  relationships=relationships,\n",
        "                  target_entity=\"trips\",\n",
        "                  trans_primitives=trans_primitives,\n",
        "                  agg_primitives=[],\n",
        "                  ignore_variables={\"trips\": [\"pickup_latitude\", \"pickup_longitude\",\n",
        "                                              \"dropoff_latitude\", \"dropoff_longitude\"]},\n",
        "                  features_only=True)"
      ]
    },
    {
      "cell_type": "code",
      "execution_count": 126,
      "metadata": {
        "colab": {
          "base_uri": "https://localhost:8080/"
        },
        "id": "LYcSIARaPB6x",
        "outputId": "aaadb6db-55ba-4372-9798-399c208cfed9"
      },
      "outputs": [
        {
          "output_type": "stream",
          "name": "stdout",
          "text": [
            "Number of features: 13\n"
          ]
        },
        {
          "output_type": "execute_result",
          "data": {
            "text/plain": [
              "[<Feature: vendor_id>,\n",
              " <Feature: passenger_count>,\n",
              " <Feature: trip_distance>,\n",
              " <Feature: payment_type>,\n",
              " <Feature: trip_duration>,\n",
              " <Feature: pickup_neighborhood>,\n",
              " <Feature: dropoff_neighborhood>,\n",
              " <Feature: IS_WEEKEND(dropoff_datetime)>,\n",
              " <Feature: IS_WEEKEND(pickup_datetime)>,\n",
              " <Feature: pickup_neighborhoods.latitude>,\n",
              " <Feature: pickup_neighborhoods.longitude>,\n",
              " <Feature: dropoff_neighborhoods.latitude>,\n",
              " <Feature: dropoff_neighborhoods.longitude>]"
            ]
          },
          "metadata": {},
          "execution_count": 126
        }
      ],
      "source": [
        "print (\"Number of features: %d\" % len(features))\n",
        "features"
      ]
    },
    {
      "cell_type": "code",
      "execution_count": 127,
      "metadata": {
        "id": "ovBn3t1IPB6y"
      },
      "outputs": [],
      "source": [
        "# Compute features and define feature matrix\n",
        "def compute_features(features, cutoff_time):\n",
        "    # shuffle so we don't see encoded features in the front or backs\n",
        "    np.random.shuffle(features)\n",
        "    feature_matrix = ft.calculate_feature_matrix(features,\n",
        "                                                 cutoff_time=cutoff_time,\n",
        "                                                 approximate='36d',\n",
        "                                                 verbose=True,entities=entities, relationships=relationships)\n",
        "    print(\"Finishing computing...\")\n",
        "    feature_matrix, features = ft.encode_features(feature_matrix, features,\n",
        "                                                  to_encode=[\"pickup_neighborhood\", \"dropoff_neighborhood\"],\n",
        "                                                  include_unknown=False)\n",
        "    return feature_matrix"
      ]
    },
    {
      "cell_type": "code",
      "execution_count": 128,
      "metadata": {
        "colab": {
          "base_uri": "https://localhost:8080/"
        },
        "id": "KY_kz43rPB6y",
        "outputId": "f3481da9-3b77-4e2c-806b-979e6c346eff"
      },
      "outputs": [
        {
          "output_type": "stream",
          "name": "stdout",
          "text": [
            "Elapsed: 00:16 | Progress: 100%|██████████\n",
            "Finishing computing...\n"
          ]
        }
      ],
      "source": [
        "feature_matrix1 = compute_features(features, cutoff_time)"
      ]
    },
    {
      "cell_type": "code",
      "execution_count": 129,
      "metadata": {
        "colab": {
          "base_uri": "https://localhost:8080/",
          "height": 345
        },
        "id": "zFaLT1l2PB6z",
        "outputId": "cd1a2500-4f3b-4400-a082-99c7bf80e39b"
      },
      "outputs": [
        {
          "output_type": "execute_result",
          "data": {
            "text/plain": [
              "        dropoff_neighborhood = AD  dropoff_neighborhood = A  \\\n",
              "id                                                            \n",
              "56311                       False                     False   \n",
              "698423                       True                     False   \n",
              "698424                      False                     False   \n",
              "698425                      False                     False   \n",
              "698426                      False                     False   \n",
              "\n",
              "        dropoff_neighborhood = AA  dropoff_neighborhood = D  \\\n",
              "id                                                            \n",
              "56311                       False                     False   \n",
              "698423                      False                     False   \n",
              "698424                      False                     False   \n",
              "698425                      False                     False   \n",
              "698426                      False                     False   \n",
              "\n",
              "        dropoff_neighborhood = AR  dropoff_neighborhood = C  \\\n",
              "id                                                            \n",
              "56311                       False                     False   \n",
              "698423                      False                     False   \n",
              "698424                      False                     False   \n",
              "698425                      False                     False   \n",
              "698426                      False                     False   \n",
              "\n",
              "        dropoff_neighborhood = O  dropoff_neighborhood = N  \\\n",
              "id                                                           \n",
              "56311                      False                     False   \n",
              "698423                     False                     False   \n",
              "698424                      True                     False   \n",
              "698425                     False                     False   \n",
              "698426                     False                     False   \n",
              "\n",
              "        dropoff_neighborhood = AK  dropoff_neighborhood = AO  ...  \\\n",
              "id                                                            ...   \n",
              "56311                       False                      False  ...   \n",
              "698423                      False                      False  ...   \n",
              "698424                      False                      False  ...   \n",
              "698425                      False                      False  ...   \n",
              "698426                      False                      False  ...   \n",
              "\n",
              "        pickup_neighborhood = A pickup_neighborhood = AR  \\\n",
              "id                                                         \n",
              "56311                     False                    False   \n",
              "698423                    False                    False   \n",
              "698424                    False                    False   \n",
              "698425                    False                    False   \n",
              "698426                    False                    False   \n",
              "\n",
              "        pickup_neighborhood = AK  pickup_neighborhood = AO  \\\n",
              "id                                                           \n",
              "56311                      False                     False   \n",
              "698423                      True                     False   \n",
              "698424                      True                     False   \n",
              "698425                     False                     False   \n",
              "698426                     False                     False   \n",
              "\n",
              "        pickup_neighborhood = N  pickup_neighborhood = O  \\\n",
              "id                                                         \n",
              "56311                     False                    False   \n",
              "698423                    False                    False   \n",
              "698424                    False                    False   \n",
              "698425                    False                    False   \n",
              "698426                    False                    False   \n",
              "\n",
              "        pickup_neighborhood = R dropoff_neighborhoods.latitude  \\\n",
              "id                                                               \n",
              "56311                     False                      40.721435   \n",
              "698423                    False                      40.752186   \n",
              "698424                    False                      40.775299   \n",
              "698425                    False                      40.793597   \n",
              "698426                    False                      40.766809   \n",
              "\n",
              "        dropoff_neighborhoods.longitude  IS_WEEKEND(pickup_datetime)  \n",
              "id                                                                    \n",
              "56311                        -73.998366                        False  \n",
              "698423                       -73.976515                        False  \n",
              "698424                       -73.960551                        False  \n",
              "698425                       -73.969822                        False  \n",
              "698426                       -73.956886                        False  \n",
              "\n",
              "[5 rows x 31 columns]"
            ],
            "text/html": [
              "\n",
              "  <div id=\"df-c34c0e8b-beea-4172-9188-e7726ed5bfbf\">\n",
              "    <div class=\"colab-df-container\">\n",
              "      <div>\n",
              "<style scoped>\n",
              "    .dataframe tbody tr th:only-of-type {\n",
              "        vertical-align: middle;\n",
              "    }\n",
              "\n",
              "    .dataframe tbody tr th {\n",
              "        vertical-align: top;\n",
              "    }\n",
              "\n",
              "    .dataframe thead th {\n",
              "        text-align: right;\n",
              "    }\n",
              "</style>\n",
              "<table border=\"1\" class=\"dataframe\">\n",
              "  <thead>\n",
              "    <tr style=\"text-align: right;\">\n",
              "      <th></th>\n",
              "      <th>dropoff_neighborhood = AD</th>\n",
              "      <th>dropoff_neighborhood = A</th>\n",
              "      <th>dropoff_neighborhood = AA</th>\n",
              "      <th>dropoff_neighborhood = D</th>\n",
              "      <th>dropoff_neighborhood = AR</th>\n",
              "      <th>dropoff_neighborhood = C</th>\n",
              "      <th>dropoff_neighborhood = O</th>\n",
              "      <th>dropoff_neighborhood = N</th>\n",
              "      <th>dropoff_neighborhood = AK</th>\n",
              "      <th>dropoff_neighborhood = AO</th>\n",
              "      <th>...</th>\n",
              "      <th>pickup_neighborhood = A</th>\n",
              "      <th>pickup_neighborhood = AR</th>\n",
              "      <th>pickup_neighborhood = AK</th>\n",
              "      <th>pickup_neighborhood = AO</th>\n",
              "      <th>pickup_neighborhood = N</th>\n",
              "      <th>pickup_neighborhood = O</th>\n",
              "      <th>pickup_neighborhood = R</th>\n",
              "      <th>dropoff_neighborhoods.latitude</th>\n",
              "      <th>dropoff_neighborhoods.longitude</th>\n",
              "      <th>IS_WEEKEND(pickup_datetime)</th>\n",
              "    </tr>\n",
              "    <tr>\n",
              "      <th>id</th>\n",
              "      <th></th>\n",
              "      <th></th>\n",
              "      <th></th>\n",
              "      <th></th>\n",
              "      <th></th>\n",
              "      <th></th>\n",
              "      <th></th>\n",
              "      <th></th>\n",
              "      <th></th>\n",
              "      <th></th>\n",
              "      <th></th>\n",
              "      <th></th>\n",
              "      <th></th>\n",
              "      <th></th>\n",
              "      <th></th>\n",
              "      <th></th>\n",
              "      <th></th>\n",
              "      <th></th>\n",
              "      <th></th>\n",
              "      <th></th>\n",
              "      <th></th>\n",
              "    </tr>\n",
              "  </thead>\n",
              "  <tbody>\n",
              "    <tr>\n",
              "      <th>56311</th>\n",
              "      <td>False</td>\n",
              "      <td>False</td>\n",
              "      <td>False</td>\n",
              "      <td>False</td>\n",
              "      <td>False</td>\n",
              "      <td>False</td>\n",
              "      <td>False</td>\n",
              "      <td>False</td>\n",
              "      <td>False</td>\n",
              "      <td>False</td>\n",
              "      <td>...</td>\n",
              "      <td>False</td>\n",
              "      <td>False</td>\n",
              "      <td>False</td>\n",
              "      <td>False</td>\n",
              "      <td>False</td>\n",
              "      <td>False</td>\n",
              "      <td>False</td>\n",
              "      <td>40.721435</td>\n",
              "      <td>-73.998366</td>\n",
              "      <td>False</td>\n",
              "    </tr>\n",
              "    <tr>\n",
              "      <th>698423</th>\n",
              "      <td>True</td>\n",
              "      <td>False</td>\n",
              "      <td>False</td>\n",
              "      <td>False</td>\n",
              "      <td>False</td>\n",
              "      <td>False</td>\n",
              "      <td>False</td>\n",
              "      <td>False</td>\n",
              "      <td>False</td>\n",
              "      <td>False</td>\n",
              "      <td>...</td>\n",
              "      <td>False</td>\n",
              "      <td>False</td>\n",
              "      <td>True</td>\n",
              "      <td>False</td>\n",
              "      <td>False</td>\n",
              "      <td>False</td>\n",
              "      <td>False</td>\n",
              "      <td>40.752186</td>\n",
              "      <td>-73.976515</td>\n",
              "      <td>False</td>\n",
              "    </tr>\n",
              "    <tr>\n",
              "      <th>698424</th>\n",
              "      <td>False</td>\n",
              "      <td>False</td>\n",
              "      <td>False</td>\n",
              "      <td>False</td>\n",
              "      <td>False</td>\n",
              "      <td>False</td>\n",
              "      <td>True</td>\n",
              "      <td>False</td>\n",
              "      <td>False</td>\n",
              "      <td>False</td>\n",
              "      <td>...</td>\n",
              "      <td>False</td>\n",
              "      <td>False</td>\n",
              "      <td>True</td>\n",
              "      <td>False</td>\n",
              "      <td>False</td>\n",
              "      <td>False</td>\n",
              "      <td>False</td>\n",
              "      <td>40.775299</td>\n",
              "      <td>-73.960551</td>\n",
              "      <td>False</td>\n",
              "    </tr>\n",
              "    <tr>\n",
              "      <th>698425</th>\n",
              "      <td>False</td>\n",
              "      <td>False</td>\n",
              "      <td>False</td>\n",
              "      <td>False</td>\n",
              "      <td>False</td>\n",
              "      <td>False</td>\n",
              "      <td>False</td>\n",
              "      <td>False</td>\n",
              "      <td>False</td>\n",
              "      <td>False</td>\n",
              "      <td>...</td>\n",
              "      <td>False</td>\n",
              "      <td>False</td>\n",
              "      <td>False</td>\n",
              "      <td>False</td>\n",
              "      <td>False</td>\n",
              "      <td>False</td>\n",
              "      <td>False</td>\n",
              "      <td>40.793597</td>\n",
              "      <td>-73.969822</td>\n",
              "      <td>False</td>\n",
              "    </tr>\n",
              "    <tr>\n",
              "      <th>698426</th>\n",
              "      <td>False</td>\n",
              "      <td>False</td>\n",
              "      <td>False</td>\n",
              "      <td>False</td>\n",
              "      <td>False</td>\n",
              "      <td>False</td>\n",
              "      <td>False</td>\n",
              "      <td>False</td>\n",
              "      <td>False</td>\n",
              "      <td>False</td>\n",
              "      <td>...</td>\n",
              "      <td>False</td>\n",
              "      <td>False</td>\n",
              "      <td>False</td>\n",
              "      <td>False</td>\n",
              "      <td>False</td>\n",
              "      <td>False</td>\n",
              "      <td>False</td>\n",
              "      <td>40.766809</td>\n",
              "      <td>-73.956886</td>\n",
              "      <td>False</td>\n",
              "    </tr>\n",
              "  </tbody>\n",
              "</table>\n",
              "<p>5 rows × 31 columns</p>\n",
              "</div>\n",
              "      <button class=\"colab-df-convert\" onclick=\"convertToInteractive('df-c34c0e8b-beea-4172-9188-e7726ed5bfbf')\"\n",
              "              title=\"Convert this dataframe to an interactive table.\"\n",
              "              style=\"display:none;\">\n",
              "        \n",
              "  <svg xmlns=\"http://www.w3.org/2000/svg\" height=\"24px\"viewBox=\"0 0 24 24\"\n",
              "       width=\"24px\">\n",
              "    <path d=\"M0 0h24v24H0V0z\" fill=\"none\"/>\n",
              "    <path d=\"M18.56 5.44l.94 2.06.94-2.06 2.06-.94-2.06-.94-.94-2.06-.94 2.06-2.06.94zm-11 1L8.5 8.5l.94-2.06 2.06-.94-2.06-.94L8.5 2.5l-.94 2.06-2.06.94zm10 10l.94 2.06.94-2.06 2.06-.94-2.06-.94-.94-2.06-.94 2.06-2.06.94z\"/><path d=\"M17.41 7.96l-1.37-1.37c-.4-.4-.92-.59-1.43-.59-.52 0-1.04.2-1.43.59L10.3 9.45l-7.72 7.72c-.78.78-.78 2.05 0 2.83L4 21.41c.39.39.9.59 1.41.59.51 0 1.02-.2 1.41-.59l7.78-7.78 2.81-2.81c.8-.78.8-2.07 0-2.86zM5.41 20L4 18.59l7.72-7.72 1.47 1.35L5.41 20z\"/>\n",
              "  </svg>\n",
              "      </button>\n",
              "      \n",
              "  <style>\n",
              "    .colab-df-container {\n",
              "      display:flex;\n",
              "      flex-wrap:wrap;\n",
              "      gap: 12px;\n",
              "    }\n",
              "\n",
              "    .colab-df-convert {\n",
              "      background-color: #E8F0FE;\n",
              "      border: none;\n",
              "      border-radius: 50%;\n",
              "      cursor: pointer;\n",
              "      display: none;\n",
              "      fill: #1967D2;\n",
              "      height: 32px;\n",
              "      padding: 0 0 0 0;\n",
              "      width: 32px;\n",
              "    }\n",
              "\n",
              "    .colab-df-convert:hover {\n",
              "      background-color: #E2EBFA;\n",
              "      box-shadow: 0px 1px 2px rgba(60, 64, 67, 0.3), 0px 1px 3px 1px rgba(60, 64, 67, 0.15);\n",
              "      fill: #174EA6;\n",
              "    }\n",
              "\n",
              "    [theme=dark] .colab-df-convert {\n",
              "      background-color: #3B4455;\n",
              "      fill: #D2E3FC;\n",
              "    }\n",
              "\n",
              "    [theme=dark] .colab-df-convert:hover {\n",
              "      background-color: #434B5C;\n",
              "      box-shadow: 0px 1px 3px 1px rgba(0, 0, 0, 0.15);\n",
              "      filter: drop-shadow(0px 1px 2px rgba(0, 0, 0, 0.3));\n",
              "      fill: #FFFFFF;\n",
              "    }\n",
              "  </style>\n",
              "\n",
              "      <script>\n",
              "        const buttonEl =\n",
              "          document.querySelector('#df-c34c0e8b-beea-4172-9188-e7726ed5bfbf button.colab-df-convert');\n",
              "        buttonEl.style.display =\n",
              "          google.colab.kernel.accessAllowed ? 'block' : 'none';\n",
              "\n",
              "        async function convertToInteractive(key) {\n",
              "          const element = document.querySelector('#df-c34c0e8b-beea-4172-9188-e7726ed5bfbf');\n",
              "          const dataTable =\n",
              "            await google.colab.kernel.invokeFunction('convertToInteractive',\n",
              "                                                     [key], {});\n",
              "          if (!dataTable) return;\n",
              "\n",
              "          const docLinkHtml = 'Like what you see? Visit the ' +\n",
              "            '<a target=\"_blank\" href=https://colab.research.google.com/notebooks/data_table.ipynb>data table notebook</a>'\n",
              "            + ' to learn more about interactive tables.';\n",
              "          element.innerHTML = '';\n",
              "          dataTable['output_type'] = 'display_data';\n",
              "          await google.colab.output.renderOutput(dataTable, element);\n",
              "          const docLink = document.createElement('div');\n",
              "          docLink.innerHTML = docLinkHtml;\n",
              "          element.appendChild(docLink);\n",
              "        }\n",
              "      </script>\n",
              "    </div>\n",
              "  </div>\n",
              "  "
            ]
          },
          "metadata": {},
          "execution_count": 129
        }
      ],
      "source": [
        "preview(feature_matrix1, 5)"
      ]
    },
    {
      "cell_type": "code",
      "execution_count": 130,
      "metadata": {
        "colab": {
          "base_uri": "https://localhost:8080/"
        },
        "id": "VPQooJ1wPB6z",
        "outputId": "abbfce3b-62ab-47f1-84ba-7e27bd98a713"
      },
      "outputs": [
        {
          "output_type": "execute_result",
          "data": {
            "text/plain": [
              "(920378, 31)"
            ]
          },
          "metadata": {},
          "execution_count": 130
        }
      ],
      "source": [
        "feature_matrix1.shape"
      ]
    },
    {
      "cell_type": "markdown",
      "metadata": {
        "id": "bI2ILj96PB6z"
      },
      "source": [
        "## Build the Model\n",
        "\n",
        "To build a model, I will:\n",
        "* Separate the data into a portion for ``training`` (75% in this case) and a portion for ``testing`` (the remaining 25%). \n",
        "* Get the log of the trip duration so that a more linear relationship can be found.\n",
        "* Train a model using a **``Linear Regression, Decision Tree** and **Random Forest** model``."
      ]
    },
    {
      "cell_type": "markdown",
      "metadata": {
        "id": "pMd0OUSaPB60"
      },
      "source": [
        "#### Transforming the duration variable with sqrt and log"
      ]
    },
    {
      "cell_type": "code",
      "execution_count": 133,
      "metadata": {
        "colab": {
          "base_uri": "https://localhost:8080/",
          "height": 367
        },
        "id": "DrjqHmzOPB60",
        "outputId": "02e5352d-627c-4849-f8d4-9b02b288d405"
      },
      "outputs": [
        {
          "output_type": "execute_result",
          "data": {
            "text/plain": [
              "(array([  4566.,  35831., 163872., 249551., 225381., 149544.,  80472.,\n",
              "         38481.,  18054.,   8657.]),\n",
              " array([ 1.        ,  6.90499792, 12.80999584, 18.71499376, 24.61999167,\n",
              "        30.52498959, 36.42998751, 42.33498543, 48.23998335, 54.14498127,\n",
              "        60.04997918]),\n",
              " <a list of 10 Patch objects>)"
            ]
          },
          "metadata": {},
          "execution_count": 133
        },
        {
          "output_type": "display_data",
          "data": {
            "text/plain": [
              "<Figure size 432x288 with 1 Axes>"
            ],
            "image/png": "[encoded data removed]"
          },
          "metadata": {
            "needs_background": "light"
          }
        }
      ],
      "source": [
        "plt.hist(np.sqrt(trips['trip_duration']))"
      ]
    },
    {
      "cell_type": "code",
      "execution_count": 132,
      "metadata": {
        "colab": {
          "base_uri": "https://localhost:8080/",
          "height": 367
        },
        "id": "Z0m_sr0KPB61",
        "outputId": "629b547f-abc7-4a98-e250-18adf4cc45cd"
      },
      "outputs": [
        {
          "output_type": "execute_result",
          "data": {
            "text/plain": [
              "(array([1.81000e+02, 5.97000e+02, 7.44000e+02, 1.43900e+03, 2.86700e+03,\n",
              "        2.00260e+04, 1.35785e+05, 3.69738e+05, 3.50815e+05, 9.22170e+04]),\n",
              " array([0.        , 0.81903544, 1.63807088, 2.45710632, 3.27614176,\n",
              "        4.0951772 , 4.91421264, 5.73324808, 6.55228352, 7.37131896,\n",
              "        8.1903544 ]),\n",
              " <a list of 10 Patch objects>)"
            ]
          },
          "metadata": {},
          "execution_count": 132
        },
        {
          "output_type": "display_data",
          "data": {
            "text/plain": [
              "<Figure size 432x288 with 1 Axes>"
            ],
            "image/png": "[encoded data removed]"
          },
          "metadata": {
            "needs_background": "light"
          }
        }
      ],
      "source": [
        "plt.hist(np.log(trips['trip_duration']))"
      ]
    },
    {
      "cell_type": "markdown",
      "metadata": {
        "id": "rDpY7v-KPB61"
      },
      "source": [
        "**Comments:**\n",
        "- We can clearly see that the sqrt transformation is giving nearly normal distribution.\n",
        "- Therefore, we can choose the sqrt transformation of the dependent variable, trip_duration."
      ]
    },
    {
      "cell_type": "markdown",
      "metadata": {
        "id": "qwSjm5aTPB61"
      },
      "source": [
        "### Splitting the data into train and test"
      ]
    },
    {
      "cell_type": "code",
      "execution_count": 134,
      "metadata": {
        "id": "1exHpk0yPB61"
      },
      "outputs": [],
      "source": [
        "# Separating the whole feature matrix into train data feature matrix, using 75% training and 25% testing split. \n",
        "X_train, y_train, X_test, y_test = get_train_test_fm(feature_matrix1,.75)\n",
        "y_train = np.sqrt(y_train)\n",
        "y_test = np.sqrt(y_test)"
      ]
    },
    {
      "cell_type": "markdown",
      "metadata": {
        "id": "oR629DhIPB62"
      },
      "source": [
        "### Defining function for to check the performance of the model. "
      ]
    },
    {
      "cell_type": "code",
      "execution_count": 135,
      "metadata": {
        "id": "v--HBp3fPB62"
      },
      "outputs": [],
      "source": [
        "#RMSE\n",
        "def rmse(predictions, targets):\n",
        "    return np.sqrt(((targets - predictions) ** 2).mean())\n",
        "\n",
        "# MAE\n",
        "def mae(predictions, targets):\n",
        "    return np.mean(np.abs((targets - predictions)))\n",
        "\n",
        "\n",
        "# Model Performance on test and train data\n",
        "def model_pref(model, x_train, x_test, y_train,y_test):\n",
        "\n",
        "    # Insample Prediction\n",
        "    y_pred_train = model.predict(x_train)\n",
        "    y_observed_train = y_train\n",
        "\n",
        "    # Prediction on test data\n",
        "    y_pred_test = model.predict(x_test)\n",
        "    y_observed_test = y_test\n",
        "\n",
        "    print(\n",
        "        pd.DataFrame(\n",
        "            {\n",
        "                \"Data\": [\"Train\", \"Test\"],\n",
        "                'RSquared':\n",
        "                    [r2_score(y_observed_train,y_pred_train),\n",
        "                    r2_score(y_observed_test,y_pred_test )\n",
        "                    ],\n",
        "                \"RMSE\": [\n",
        "                    rmse(y_pred_train, y_observed_train),\n",
        "                    rmse(y_pred_test, y_observed_test),\n",
        "                ],\n",
        "                \"MAE\": [\n",
        "                    mae(y_pred_train, y_observed_train),\n",
        "                    mae(y_pred_test, y_observed_test),\n",
        "                ],\n",
        "            }\n",
        "        )\n",
        "    )"
      ]
    },
    {
      "cell_type": "markdown",
      "metadata": {
        "id": "8pxWTtVdPB63"
      },
      "source": [
        "## Build Linear regression using only weekend transform primitive"
      ]
    },
    {
      "cell_type": "code",
      "execution_count": 136,
      "metadata": {
        "colab": {
          "base_uri": "https://localhost:8080/"
        },
        "id": "wjWo7DiVPB63",
        "outputId": "c18b9465-2b23-4bca-b0bc-b2919ac0bef9"
      },
      "outputs": [
        {
          "output_type": "execute_result",
          "data": {
            "text/plain": [
              "LinearRegression()"
            ]
          },
          "metadata": {},
          "execution_count": 136
        }
      ],
      "source": [
        "# Defining the model\n",
        "lr1=LinearRegression()\n",
        "#fitting the model\n",
        "lr1.fit(X_train, y_train)\n"
      ]
    },
    {
      "cell_type": "code",
      "execution_count": 137,
      "metadata": {
        "colab": {
          "base_uri": "https://localhost:8080/"
        },
        "id": "nmU6zdpHPB64",
        "outputId": "a0dc72a6-9517-400d-c9d7-7b25cd679aad"
      },
      "outputs": [
        {
          "output_type": "stream",
          "name": "stdout",
          "text": [
            "    Data  RSquared      RMSE       MAE\n",
            "0  Train  0.576106  6.132169  4.736641\n",
            "1   Test  0.555831  6.558806  5.024874\n"
          ]
        }
      ],
      "source": [
        "# Checking the performance of the model\n",
        "model_pref(lr1, X_train, X_test, y_train, y_test)  "
      ]
    },
    {
      "cell_type": "markdown",
      "metadata": {
        "id": "Zlp3Nfh9PB64"
      },
      "source": [
        "**Comments:**\n",
        "- The R-square on the trainset is around 0.58, which is greater than the R-squared on the testset which is 0.55. \n",
        "- The RMSE of the trainset is  all less than the one on the testset, and the same thing is observed for the MAE. \n",
        "-The points above suggest that the model is overfitting. "
      ]
    },
    {
      "cell_type": "markdown",
      "metadata": {
        "id": "gL6Kq5MxPB64"
      },
      "source": [
        "## Building decision tree using only weekend transform primitive"
      ]
    },
    {
      "cell_type": "code",
      "execution_count": 138,
      "metadata": {
        "colab": {
          "base_uri": "https://localhost:8080/"
        },
        "id": "WUm3CMOWPB64",
        "outputId": "40069958-6119-4e46-b12c-c995ca4b985c"
      },
      "outputs": [
        {
          "output_type": "execute_result",
          "data": {
            "text/plain": [
              "DecisionTreeRegressor()"
            ]
          },
          "metadata": {},
          "execution_count": 138
        }
      ],
      "source": [
        "# define the model\n",
        "dt=DecisionTreeRegressor()\n",
        "# fit the model\n",
        "dt.fit(X_train, y_train)"
      ]
    },
    {
      "cell_type": "code",
      "execution_count": 139,
      "metadata": {
        "colab": {
          "base_uri": "https://localhost:8080/"
        },
        "id": "5oblotTRPB65",
        "outputId": "3a798905-9530-4c3a-db20-9766e841fb60"
      },
      "outputs": [
        {
          "output_type": "stream",
          "name": "stdout",
          "text": [
            "    Data  RSquared      RMSE       MAE\n",
            "0  Train  0.917069  2.712331  1.518055\n",
            "1   Test  0.597426  6.244153  4.638653\n"
          ]
        }
      ],
      "source": [
        "# Checking the performance of the model\n",
        "model_pref(dt, X_train, X_test, y_train, y_test)  "
      ]
    },
    {
      "cell_type": "markdown",
      "metadata": {
        "id": "_5-8c655PB65"
      },
      "source": [
        "**Comments:**\n",
        "- The model is super overfitting comapared to the above OLS. \n",
        "- The gaps of the metrics between train and test is wide !\n",
        "  - R-squared train = 92% and R-squared test = 60%\n",
        "  - RMSE train is 2.7 and RMSE test is 6.2\n",
        "  - MAE trainset is 1.51 and MAE testset is 4.6"
      ]
    },
    {
      "cell_type": "markdown",
      "metadata": {
        "id": "XP8A6IRlPB65"
      },
      "source": [
        "## Building pruned decision tree using only weekend transform primitive"
      ]
    },
    {
      "cell_type": "code",
      "execution_count": 140,
      "metadata": {
        "colab": {
          "base_uri": "https://localhost:8080/"
        },
        "id": "kkYbGykvPB66",
        "outputId": "e5d07291-0cc0-485a-81ba-0bd02279a073"
      },
      "outputs": [
        {
          "output_type": "execute_result",
          "data": {
            "text/plain": [
              "DecisionTreeRegressor(max_depth=7)"
            ]
          },
          "metadata": {},
          "execution_count": 140
        }
      ],
      "source": [
        "# Define the model using max_depth=7\n",
        "dt_pruned=DecisionTreeRegressor(max_depth=7)\n",
        "# fit the model\n",
        "dt_pruned.fit(X_train, y_train)"
      ]
    },
    {
      "cell_type": "code",
      "execution_count": 141,
      "metadata": {
        "colab": {
          "base_uri": "https://localhost:8080/"
        },
        "id": "NG9YmmKCPB66",
        "outputId": "d1760896-54eb-4842-993d-6a61f6d83e74"
      },
      "outputs": [
        {
          "output_type": "stream",
          "name": "stdout",
          "text": [
            "    Data  RSquared      RMSE       MAE\n",
            "0  Train  0.733766  4.859783  3.708634\n",
            "1   Test  0.704190  5.352503  4.049448\n"
          ]
        }
      ],
      "source": [
        "# Check the performance of the model\n",
        "model_pref(dt_pruned, X_train, X_test, y_train, y_test)  "
      ]
    },
    {
      "cell_type": "markdown",
      "metadata": {
        "id": "9waLGxgrPB67"
      },
      "source": [
        "**Comments:**\n",
        "- The pruned decision tree model perfomed way better than the simple decision tree model. \n",
        "- The gaps between the metrics now have reduced drastically based on the above table. \n",
        "- But overall, it overfits the data.\n"
      ]
    },
    {
      "cell_type": "markdown",
      "metadata": {
        "id": "7SuvaahvPB67"
      },
      "source": [
        "## Building Random Forest using only weekend transform primitive"
      ]
    },
    {
      "cell_type": "code",
      "execution_count": 142,
      "metadata": {
        "colab": {
          "base_uri": "https://localhost:8080/"
        },
        "id": "eolcLDZ0PB67",
        "outputId": "550a3f4a-4ec8-4683-fc2a-6541289fee37"
      },
      "outputs": [
        {
          "output_type": "execute_result",
          "data": {
            "text/plain": [
              "RandomForestRegressor(max_depth=7, n_estimators=60)"
            ]
          },
          "metadata": {},
          "execution_count": 142
        }
      ],
      "source": [
        "# Define the model\n",
        "rf=RandomForestRegressor(n_estimators=60,max_depth=7)\n",
        "# Fit the model\n",
        "rf.fit(X_train, y_train)"
      ]
    },
    {
      "cell_type": "code",
      "execution_count": 143,
      "metadata": {
        "colab": {
          "base_uri": "https://localhost:8080/"
        },
        "id": "9gXGLXHOPB69",
        "outputId": "91d3246a-f93a-4584-f231-adf8eee572f1",
        "scrolled": true
      },
      "outputs": [
        {
          "output_type": "stream",
          "name": "stdout",
          "text": [
            "    Data  RSquared      RMSE       MAE\n",
            "0  Train  0.738265  4.818549  3.676261\n",
            "1   Test  0.708235  5.315778  4.019578\n"
          ]
        }
      ],
      "source": [
        "# Check the performance of the model\n",
        "model_pref(rf, X_train, X_test, y_train, y_test)"
      ]
    },
    {
      "cell_type": "markdown",
      "metadata": {
        "id": "7eTVyBSwPB69"
      },
      "source": [
        "**Comments:**\n",
        "- The random forest performance is not too bad but still slightly overfitting. \n"
      ]
    },
    {
      "cell_type": "markdown",
      "metadata": {
        "id": "Vj85kMiNofa6"
      },
      "source": [
        "# Step 4"
      ]
    },
    {
      "cell_type": "markdown",
      "metadata": {
        "id": "RPO1pRB2PB6-"
      },
      "source": [
        "## Adding more Transform Primitives and creating new model\n",
        "\n",
        "* Add ``Minute``, ``Hour``, ``Month``, ``Weekday`` , etc primitives\n",
        "* All these transform primitives apply to ``datetime`` columns"
      ]
    },
    {
      "cell_type": "code",
      "execution_count": 144,
      "metadata": {
        "id": "lelJbcYqPB6-"
      },
      "outputs": [],
      "source": [
        "# Define more transform primitives and define features using DFS\n",
        "trans_primitives = [Minute, Hour, Day, Month, Weekday, IsWeekend]\n",
        "features = ft.dfs(entities=entities,\n",
        "                  relationships=relationships,\n",
        "                  target_entity=\"trips\",\n",
        "                  trans_primitives=trans_primitives,\n",
        "                  agg_primitives=[],\n",
        "                  ignore_variables={\"trips\": [\"pickup_latitude\", \"pickup_longitude\",\n",
        "                                              \"dropoff_latitude\", \"dropoff_longitude\"]},\n",
        "                  features_only=True)"
      ]
    },
    {
      "cell_type": "code",
      "execution_count": 145,
      "metadata": {
        "colab": {
          "base_uri": "https://localhost:8080/"
        },
        "id": "PxM13bKnPB6-",
        "outputId": "7e7621a0-d74e-4616-cd82-fd6ca6af7106"
      },
      "outputs": [
        {
          "output_type": "stream",
          "name": "stdout",
          "text": [
            "Number of features: 23\n"
          ]
        },
        {
          "output_type": "execute_result",
          "data": {
            "text/plain": [
              "[<Feature: vendor_id>,\n",
              " <Feature: passenger_count>,\n",
              " <Feature: trip_distance>,\n",
              " <Feature: payment_type>,\n",
              " <Feature: trip_duration>,\n",
              " <Feature: pickup_neighborhood>,\n",
              " <Feature: dropoff_neighborhood>,\n",
              " <Feature: DAY(dropoff_datetime)>,\n",
              " <Feature: DAY(pickup_datetime)>,\n",
              " <Feature: HOUR(dropoff_datetime)>,\n",
              " <Feature: HOUR(pickup_datetime)>,\n",
              " <Feature: IS_WEEKEND(dropoff_datetime)>,\n",
              " <Feature: IS_WEEKEND(pickup_datetime)>,\n",
              " <Feature: MINUTE(dropoff_datetime)>,\n",
              " <Feature: MINUTE(pickup_datetime)>,\n",
              " <Feature: MONTH(dropoff_datetime)>,\n",
              " <Feature: MONTH(pickup_datetime)>,\n",
              " <Feature: WEEKDAY(dropoff_datetime)>,\n",
              " <Feature: WEEKDAY(pickup_datetime)>,\n",
              " <Feature: pickup_neighborhoods.latitude>,\n",
              " <Feature: pickup_neighborhoods.longitude>,\n",
              " <Feature: dropoff_neighborhoods.latitude>,\n",
              " <Feature: dropoff_neighborhoods.longitude>]"
            ]
          },
          "metadata": {},
          "execution_count": 145
        }
      ],
      "source": [
        "print (\"Number of features: %d\" % len(features))\n",
        "features"
      ]
    },
    {
      "cell_type": "code",
      "execution_count": 146,
      "metadata": {
        "colab": {
          "base_uri": "https://localhost:8080/"
        },
        "id": "QyjWal5xPB6_",
        "outputId": "9dd52658-4ead-4709-a213-50c8d626ceee"
      },
      "outputs": [
        {
          "output_type": "stream",
          "name": "stdout",
          "text": [
            "Elapsed: 00:10 | Progress: 100%|██████████\n",
            "Finishing computing...\n"
          ]
        }
      ],
      "source": [
        "# Compute features and define feature matrix\n",
        "feature_matrix2 = compute_features(features, cutoff_time)"
      ]
    },
    {
      "cell_type": "code",
      "execution_count": 147,
      "metadata": {
        "colab": {
          "base_uri": "https://localhost:8080/"
        },
        "id": "jym8YpDTPB6_",
        "outputId": "548d21ff-fb96-446d-8fe2-9f7d19919879"
      },
      "outputs": [
        {
          "output_type": "execute_result",
          "data": {
            "text/plain": [
              "(920378, 41)"
            ]
          },
          "metadata": {},
          "execution_count": 147
        }
      ],
      "source": [
        "feature_matrix2.shape"
      ]
    },
    {
      "cell_type": "code",
      "execution_count": 148,
      "metadata": {
        "colab": {
          "base_uri": "https://localhost:8080/",
          "height": 345
        },
        "id": "M8BshWFyPB7A",
        "outputId": "10fc2a44-63bb-463a-e0f0-d7bfeb5f4aef"
      },
      "outputs": [
        {
          "output_type": "execute_result",
          "data": {
            "text/plain": [
              "       WEEKDAY(pickup_datetime)  trip_duration  MINUTE(pickup_datetime)  \\\n",
              "id                                                                        \n",
              "56311                         1          645.0                        0   \n",
              "56312                         1         1270.0                        2   \n",
              "56313                         1          207.0                        2   \n",
              "56314                         1          214.0                        2   \n",
              "56315                         1          570.0                        3   \n",
              "\n",
              "       DAY(dropoff_datetime) payment_type  IS_WEEKEND(dropoff_datetime)  \\\n",
              "id                                                                        \n",
              "56311                     12            1                         False   \n",
              "56312                     12            2                         False   \n",
              "56313                     12            1                         False   \n",
              "56314                     12            2                         False   \n",
              "56315                     12            1                         False   \n",
              "\n",
              "       pickup_neighborhoods.latitude  DAY(pickup_datetime)  \\\n",
              "id                                                           \n",
              "56311                      40.720245                    12   \n",
              "56312                      40.646194                    12   \n",
              "56313                      40.818445                    12   \n",
              "56314                      40.729652                    12   \n",
              "56315                      40.793597                    12   \n",
              "\n",
              "       dropoff_neighborhood = AD  dropoff_neighborhood = A  ...  \\\n",
              "id                                                          ...   \n",
              "56311                      False                     False  ...   \n",
              "56312                      False                     False  ...   \n",
              "56313                      False                     False  ...   \n",
              "56314                      False                     False  ...   \n",
              "56315                      False                     False  ...   \n",
              "\n",
              "       HOUR(dropoff_datetime)  dropoff_neighborhoods.latitude  vendor_id  \\\n",
              "id                                                                         \n",
              "56311                       0                       40.721435          2   \n",
              "56312                       0                       40.715828          2   \n",
              "56313                       0                       40.818445          1   \n",
              "56314                       0                       40.742531          2   \n",
              "56315                       0                       40.818445          2   \n",
              "\n",
              "       MINUTE(dropoff_datetime)  MONTH(dropoff_datetime)  \\\n",
              "id                                                         \n",
              "56311                        11                        1   \n",
              "56312                        23                        1   \n",
              "56313                         5                        1   \n",
              "56314                         6                        1   \n",
              "56315                        13                        1   \n",
              "\n",
              "       dropoff_neighborhoods.longitude  trip_distance  MONTH(pickup_datetime)  \\\n",
              "id                                                                              \n",
              "56311                       -73.998366           1.61                       1   \n",
              "56312                       -73.954298          16.15                       1   \n",
              "56313                       -73.948046           0.80                       1   \n",
              "56314                       -73.977943           1.33                       1   \n",
              "56315                       -73.948046           2.35                       1   \n",
              "\n",
              "       WEEKDAY(dropoff_datetime)  HOUR(pickup_datetime)  \n",
              "id                                                       \n",
              "56311                          1                      0  \n",
              "56312                          1                      0  \n",
              "56313                          1                      0  \n",
              "56314                          1                      0  \n",
              "56315                          1                      0  \n",
              "\n",
              "[5 rows x 41 columns]"
            ],
            "text/html": [
              "\n",
              "  <div id=\"df-83dfb1d1-d2cc-4eca-8867-6ec19024d037\">\n",
              "    <div class=\"colab-df-container\">\n",
              "      <div>\n",
              "<style scoped>\n",
              "    .dataframe tbody tr th:only-of-type {\n",
              "        vertical-align: middle;\n",
              "    }\n",
              "\n",
              "    .dataframe tbody tr th {\n",
              "        vertical-align: top;\n",
              "    }\n",
              "\n",
              "    .dataframe thead th {\n",
              "        text-align: right;\n",
              "    }\n",
              "</style>\n",
              "<table border=\"1\" class=\"dataframe\">\n",
              "  <thead>\n",
              "    <tr style=\"text-align: right;\">\n",
              "      <th></th>\n",
              "      <th>WEEKDAY(pickup_datetime)</th>\n",
              "      <th>trip_duration</th>\n",
              "      <th>MINUTE(pickup_datetime)</th>\n",
              "      <th>DAY(dropoff_datetime)</th>\n",
              "      <th>payment_type</th>\n",
              "      <th>IS_WEEKEND(dropoff_datetime)</th>\n",
              "      <th>pickup_neighborhoods.latitude</th>\n",
              "      <th>DAY(pickup_datetime)</th>\n",
              "      <th>dropoff_neighborhood = AD</th>\n",
              "      <th>dropoff_neighborhood = A</th>\n",
              "      <th>...</th>\n",
              "      <th>HOUR(dropoff_datetime)</th>\n",
              "      <th>dropoff_neighborhoods.latitude</th>\n",
              "      <th>vendor_id</th>\n",
              "      <th>MINUTE(dropoff_datetime)</th>\n",
              "      <th>MONTH(dropoff_datetime)</th>\n",
              "      <th>dropoff_neighborhoods.longitude</th>\n",
              "      <th>trip_distance</th>\n",
              "      <th>MONTH(pickup_datetime)</th>\n",
              "      <th>WEEKDAY(dropoff_datetime)</th>\n",
              "      <th>HOUR(pickup_datetime)</th>\n",
              "    </tr>\n",
              "    <tr>\n",
              "      <th>id</th>\n",
              "      <th></th>\n",
              "      <th></th>\n",
              "      <th></th>\n",
              "      <th></th>\n",
              "      <th></th>\n",
              "      <th></th>\n",
              "      <th></th>\n",
              "      <th></th>\n",
              "      <th></th>\n",
              "      <th></th>\n",
              "      <th></th>\n",
              "      <th></th>\n",
              "      <th></th>\n",
              "      <th></th>\n",
              "      <th></th>\n",
              "      <th></th>\n",
              "      <th></th>\n",
              "      <th></th>\n",
              "      <th></th>\n",
              "      <th></th>\n",
              "      <th></th>\n",
              "    </tr>\n",
              "  </thead>\n",
              "  <tbody>\n",
              "    <tr>\n",
              "      <th>56311</th>\n",
              "      <td>1</td>\n",
              "      <td>645.0</td>\n",
              "      <td>0</td>\n",
              "      <td>12</td>\n",
              "      <td>1</td>\n",
              "      <td>False</td>\n",
              "      <td>40.720245</td>\n",
              "      <td>12</td>\n",
              "      <td>False</td>\n",
              "      <td>False</td>\n",
              "      <td>...</td>\n",
              "      <td>0</td>\n",
              "      <td>40.721435</td>\n",
              "      <td>2</td>\n",
              "      <td>11</td>\n",
              "      <td>1</td>\n",
              "      <td>-73.998366</td>\n",
              "      <td>1.61</td>\n",
              "      <td>1</td>\n",
              "      <td>1</td>\n",
              "      <td>0</td>\n",
              "    </tr>\n",
              "    <tr>\n",
              "      <th>56312</th>\n",
              "      <td>1</td>\n",
              "      <td>1270.0</td>\n",
              "      <td>2</td>\n",
              "      <td>12</td>\n",
              "      <td>2</td>\n",
              "      <td>False</td>\n",
              "      <td>40.646194</td>\n",
              "      <td>12</td>\n",
              "      <td>False</td>\n",
              "      <td>False</td>\n",
              "      <td>...</td>\n",
              "      <td>0</td>\n",
              "      <td>40.715828</td>\n",
              "      <td>2</td>\n",
              "      <td>23</td>\n",
              "      <td>1</td>\n",
              "      <td>-73.954298</td>\n",
              "      <td>16.15</td>\n",
              "      <td>1</td>\n",
              "      <td>1</td>\n",
              "      <td>0</td>\n",
              "    </tr>\n",
              "    <tr>\n",
              "      <th>56313</th>\n",
              "      <td>1</td>\n",
              "      <td>207.0</td>\n",
              "      <td>2</td>\n",
              "      <td>12</td>\n",
              "      <td>1</td>\n",
              "      <td>False</td>\n",
              "      <td>40.818445</td>\n",
              "      <td>12</td>\n",
              "      <td>False</td>\n",
              "      <td>False</td>\n",
              "      <td>...</td>\n",
              "      <td>0</td>\n",
              "      <td>40.818445</td>\n",
              "      <td>1</td>\n",
              "      <td>5</td>\n",
              "      <td>1</td>\n",
              "      <td>-73.948046</td>\n",
              "      <td>0.80</td>\n",
              "      <td>1</td>\n",
              "      <td>1</td>\n",
              "      <td>0</td>\n",
              "    </tr>\n",
              "    <tr>\n",
              "      <th>56314</th>\n",
              "      <td>1</td>\n",
              "      <td>214.0</td>\n",
              "      <td>2</td>\n",
              "      <td>12</td>\n",
              "      <td>2</td>\n",
              "      <td>False</td>\n",
              "      <td>40.729652</td>\n",
              "      <td>12</td>\n",
              "      <td>False</td>\n",
              "      <td>False</td>\n",
              "      <td>...</td>\n",
              "      <td>0</td>\n",
              "      <td>40.742531</td>\n",
              "      <td>2</td>\n",
              "      <td>6</td>\n",
              "      <td>1</td>\n",
              "      <td>-73.977943</td>\n",
              "      <td>1.33</td>\n",
              "      <td>1</td>\n",
              "      <td>1</td>\n",
              "      <td>0</td>\n",
              "    </tr>\n",
              "    <tr>\n",
              "      <th>56315</th>\n",
              "      <td>1</td>\n",
              "      <td>570.0</td>\n",
              "      <td>3</td>\n",
              "      <td>12</td>\n",
              "      <td>1</td>\n",
              "      <td>False</td>\n",
              "      <td>40.793597</td>\n",
              "      <td>12</td>\n",
              "      <td>False</td>\n",
              "      <td>False</td>\n",
              "      <td>...</td>\n",
              "      <td>0</td>\n",
              "      <td>40.818445</td>\n",
              "      <td>2</td>\n",
              "      <td>13</td>\n",
              "      <td>1</td>\n",
              "      <td>-73.948046</td>\n",
              "      <td>2.35</td>\n",
              "      <td>1</td>\n",
              "      <td>1</td>\n",
              "      <td>0</td>\n",
              "    </tr>\n",
              "  </tbody>\n",
              "</table>\n",
              "<p>5 rows × 41 columns</p>\n",
              "</div>\n",
              "      <button class=\"colab-df-convert\" onclick=\"convertToInteractive('df-83dfb1d1-d2cc-4eca-8867-6ec19024d037')\"\n",
              "              title=\"Convert this dataframe to an interactive table.\"\n",
              "              style=\"display:none;\">\n",
              "        \n",
              "  <svg xmlns=\"http://www.w3.org/2000/svg\" height=\"24px\"viewBox=\"0 0 24 24\"\n",
              "       width=\"24px\">\n",
              "    <path d=\"M0 0h24v24H0V0z\" fill=\"none\"/>\n",
              "    <path d=\"M18.56 5.44l.94 2.06.94-2.06 2.06-.94-2.06-.94-.94-2.06-.94 2.06-2.06.94zm-11 1L8.5 8.5l.94-2.06 2.06-.94-2.06-.94L8.5 2.5l-.94 2.06-2.06.94zm10 10l.94 2.06.94-2.06 2.06-.94-2.06-.94-.94-2.06-.94 2.06-2.06.94z\"/><path d=\"M17.41 7.96l-1.37-1.37c-.4-.4-.92-.59-1.43-.59-.52 0-1.04.2-1.43.59L10.3 9.45l-7.72 7.72c-.78.78-.78 2.05 0 2.83L4 21.41c.39.39.9.59 1.41.59.51 0 1.02-.2 1.41-.59l7.78-7.78 2.81-2.81c.8-.78.8-2.07 0-2.86zM5.41 20L4 18.59l7.72-7.72 1.47 1.35L5.41 20z\"/>\n",
              "  </svg>\n",
              "      </button>\n",
              "      \n",
              "  <style>\n",
              "    .colab-df-container {\n",
              "      display:flex;\n",
              "      flex-wrap:wrap;\n",
              "      gap: 12px;\n",
              "    }\n",
              "\n",
              "    .colab-df-convert {\n",
              "      background-color: #E8F0FE;\n",
              "      border: none;\n",
              "      border-radius: 50%;\n",
              "      cursor: pointer;\n",
              "      display: none;\n",
              "      fill: #1967D2;\n",
              "      height: 32px;\n",
              "      padding: 0 0 0 0;\n",
              "      width: 32px;\n",
              "    }\n",
              "\n",
              "    .colab-df-convert:hover {\n",
              "      background-color: #E2EBFA;\n",
              "      box-shadow: 0px 1px 2px rgba(60, 64, 67, 0.3), 0px 1px 3px 1px rgba(60, 64, 67, 0.15);\n",
              "      fill: #174EA6;\n",
              "    }\n",
              "\n",
              "    [theme=dark] .colab-df-convert {\n",
              "      background-color: #3B4455;\n",
              "      fill: #D2E3FC;\n",
              "    }\n",
              "\n",
              "    [theme=dark] .colab-df-convert:hover {\n",
              "      background-color: #434B5C;\n",
              "      box-shadow: 0px 1px 3px 1px rgba(0, 0, 0, 0.15);\n",
              "      filter: drop-shadow(0px 1px 2px rgba(0, 0, 0, 0.3));\n",
              "      fill: #FFFFFF;\n",
              "    }\n",
              "  </style>\n",
              "\n",
              "      <script>\n",
              "        const buttonEl =\n",
              "          document.querySelector('#df-83dfb1d1-d2cc-4eca-8867-6ec19024d037 button.colab-df-convert');\n",
              "        buttonEl.style.display =\n",
              "          google.colab.kernel.accessAllowed ? 'block' : 'none';\n",
              "\n",
              "        async function convertToInteractive(key) {\n",
              "          const element = document.querySelector('#df-83dfb1d1-d2cc-4eca-8867-6ec19024d037');\n",
              "          const dataTable =\n",
              "            await google.colab.kernel.invokeFunction('convertToInteractive',\n",
              "                                                     [key], {});\n",
              "          if (!dataTable) return;\n",
              "\n",
              "          const docLinkHtml = 'Like what you see? Visit the ' +\n",
              "            '<a target=\"_blank\" href=https://colab.research.google.com/notebooks/data_table.ipynb>data table notebook</a>'\n",
              "            + ' to learn more about interactive tables.';\n",
              "          element.innerHTML = '';\n",
              "          dataTable['output_type'] = 'display_data';\n",
              "          await google.colab.output.renderOutput(dataTable, element);\n",
              "          const docLink = document.createElement('div');\n",
              "          docLink.innerHTML = docLinkHtml;\n",
              "          element.appendChild(docLink);\n",
              "        }\n",
              "      </script>\n",
              "    </div>\n",
              "  </div>\n",
              "  "
            ]
          },
          "metadata": {},
          "execution_count": 148
        }
      ],
      "source": [
        "feature_matrix2.head()"
      ]
    },
    {
      "cell_type": "markdown",
      "metadata": {
        "id": "NTr-LrFHPB7A"
      },
      "source": [
        "## Build the new models more transform features"
      ]
    },
    {
      "cell_type": "code",
      "execution_count": 149,
      "metadata": {
        "id": "Xy6tpvLkPB7A"
      },
      "outputs": [],
      "source": [
        "# Separate the whole feature matrix into train and test data feature matrix,\n",
        "X_train2, y_train2, X_test2, y_test2 = get_train_test_fm(feature_matrix2,.75)\n",
        "y_train2 = np.sqrt(y_train2)\n",
        "y_test2 = np.sqrt(y_test2)"
      ]
    },
    {
      "cell_type": "markdown",
      "metadata": {
        "id": "qEZrHEYkPB7A"
      },
      "source": [
        "## Building Linear regression using more transform primitive"
      ]
    },
    {
      "cell_type": "code",
      "execution_count": 150,
      "metadata": {
        "colab": {
          "base_uri": "https://localhost:8080/"
        },
        "id": "Gao-HOWCPB7B",
        "outputId": "cbd1ad28-898c-42b4-9725-97af57592b0c"
      },
      "outputs": [
        {
          "output_type": "execute_result",
          "data": {
            "text/plain": [
              "LinearRegression()"
            ]
          },
          "metadata": {},
          "execution_count": 150
        }
      ],
      "source": [
        "# Defining the model\n",
        "lr2=LinearRegression()\n",
        "# Fitting the model\n",
        "lr2.fit(X_train2, y_train2)\n"
      ]
    },
    {
      "cell_type": "code",
      "execution_count": 151,
      "metadata": {
        "colab": {
          "base_uri": "https://localhost:8080/"
        },
        "id": "BP6tUEg5PB7B",
        "outputId": "ed2c712d-58db-46c2-cfe9-577e5cf7e8f9"
      },
      "outputs": [
        {
          "output_type": "stream",
          "name": "stdout",
          "text": [
            "    Data  RSquared      RMSE       MAE\n",
            "0  Train  0.623501  5.779195  4.273127\n",
            "1   Test  0.623651  6.037346  4.537582\n"
          ]
        }
      ],
      "source": [
        "# Check the performance of the model\n",
        "model_pref(lr2, X_train2, X_test2, y_train2, y_test2)  "
      ]
    },
    {
      "cell_type": "markdown",
      "metadata": {
        "id": "GJahY9YIPB7B"
      },
      "source": [
        "**Comments:**\n",
        "- The metrics on the train and test are almost the same. \n",
        "- But the RMSE and the MAE are still slightly lower on the train than on the test data.\n",
        "- Overall, the model is not too bad."
      ]
    },
    {
      "cell_type": "markdown",
      "metadata": {
        "id": "ROgsAUWpPB7C"
      },
      "source": [
        "## Building Decision tree using more transform primitive"
      ]
    },
    {
      "cell_type": "code",
      "execution_count": 153,
      "metadata": {
        "colab": {
          "base_uri": "https://localhost:8080/"
        },
        "id": "Ya5UFspZPB7C",
        "outputId": "1f5a3fd1-493b-4b4b-c00c-3377b681111e"
      },
      "outputs": [
        {
          "output_type": "execute_result",
          "data": {
            "text/plain": [
              "DecisionTreeRegressor()"
            ]
          },
          "metadata": {},
          "execution_count": 153
        }
      ],
      "source": [
        "# Define the model\n",
        "dt2=DecisionTreeRegressor()\n",
        "# Fit the model\n",
        "dt2.fit(X_train2, y_train2)"
      ]
    },
    {
      "cell_type": "code",
      "execution_count": 154,
      "metadata": {
        "colab": {
          "base_uri": "https://localhost:8080/"
        },
        "id": "P3M-cpsfPB7C",
        "outputId": "fc49613b-8ed8-43a0-80f3-4d8f8ff302a9"
      },
      "outputs": [
        {
          "output_type": "stream",
          "name": "stdout",
          "text": [
            "    Data  RSquared      RMSE       MAE\n",
            "0  Train  1.000000  0.001479  0.000004\n",
            "1   Test  0.712373  5.277952  3.796112\n"
          ]
        }
      ],
      "source": [
        "# Check the performance of the model\n",
        "model_pref(dt2, X_train2, X_test2, y_train2, y_test2)  "
      ]
    },
    {
      "cell_type": "markdown",
      "metadata": {
        "id": "2tY9T9XLPB7C"
      },
      "source": [
        "**Comments:**\n",
        "- This model is really bad! \n",
        "- It strongly overfitted the data. "
      ]
    },
    {
      "cell_type": "markdown",
      "metadata": {
        "id": "ldhaS-xsPB7D"
      },
      "source": [
        "## Building Pruned Decision tree using more transform primitive"
      ]
    },
    {
      "cell_type": "code",
      "execution_count": 157,
      "metadata": {
        "colab": {
          "base_uri": "https://localhost:8080/"
        },
        "id": "fPEyieISPB7D",
        "outputId": "cfd74ef9-8233-4571-813e-6a6fa29a873c"
      },
      "outputs": [
        {
          "output_type": "execute_result",
          "data": {
            "text/plain": [
              "DecisionTreeRegressor(max_depth=4)"
            ]
          },
          "metadata": {},
          "execution_count": 157
        }
      ],
      "source": [
        "# Define the model using max_depth=7\n",
        "dt_pruned2=DecisionTreeRegressor(max_depth=4)\n",
        "# Fit the model\n",
        "dt_pruned2.fit(X_train2, y_train2)"
      ]
    },
    {
      "cell_type": "code",
      "execution_count": 158,
      "metadata": {
        "colab": {
          "base_uri": "https://localhost:8080/"
        },
        "id": "QHkjBVMkPB7D",
        "outputId": "0ccfaeb9-c59f-44bd-f402-23d32cf139a7"
      },
      "outputs": [
        {
          "output_type": "stream",
          "name": "stdout",
          "text": [
            "    Data  RSquared      RMSE       MAE\n",
            "0  Train  0.707305  5.095575  3.910334\n",
            "1   Test  0.679915  5.567791  4.227597\n"
          ]
        }
      ],
      "source": [
        "# Check the performance of the model\n",
        "model_pref(dt_pruned2, X_train2, X_test2, y_train2, y_test2)  "
      ]
    },
    {
      "cell_type": "markdown",
      "metadata": {
        "id": "wbs1QHShPB7E"
      },
      "source": [
        "**Comments:**\n",
        "- The model performs pretty good by drastically reducing the gaps we've observed from the previous model. \n",
        "- But still, very slighly overfitting."
      ]
    },
    {
      "cell_type": "markdown",
      "metadata": {
        "id": "zV0gcQ37PB7E"
      },
      "source": [
        "## Building Random Forest using more transform primitive"
      ]
    },
    {
      "cell_type": "code",
      "execution_count": 159,
      "metadata": {
        "id": "WrY-Yfr9PB7E",
        "colab": {
          "base_uri": "https://localhost:8080/"
        },
        "outputId": "85f392a8-9a39-411e-9032-80fb68cefe28"
      },
      "outputs": [
        {
          "output_type": "execute_result",
          "data": {
            "text/plain": [
              "RandomForestRegressor(max_depth=7, n_estimators=60)"
            ]
          },
          "metadata": {},
          "execution_count": 159
        }
      ],
      "source": [
        "# Defining the model \n",
        "rf2 = RandomForestRegressor(n_estimators=60, max_depth=7)\n",
        "# Fit the model\n",
        "rf2.fit(X_train2, y_train2)"
      ]
    },
    {
      "cell_type": "code",
      "execution_count": 160,
      "metadata": {
        "id": "wrW-Ux4bPB7F",
        "colab": {
          "base_uri": "https://localhost:8080/"
        },
        "outputId": "9e5cbf82-cdfd-4ec4-dfed-4fc4abb834aa"
      },
      "outputs": [
        {
          "output_type": "stream",
          "name": "stdout",
          "text": [
            "    Data  RSquared      RMSE       MAE\n",
            "0  Train  0.774626  4.471335  3.367063\n",
            "1   Test  0.751804  4.902839  3.645093\n"
          ]
        }
      ],
      "source": [
        "# Checking the performance of the model\n",
        "model_pref(rf2, X_train2, X_test2, y_train2, y_test2 )  "
      ]
    },
    {
      "cell_type": "markdown",
      "metadata": {
        "id": "GGW7etwwPB7F"
      },
      "source": [
        "**Comments:**\n",
        "- The model performs fairly well with all the metrics on both the train and test sets all most the same.\n",
        "- The performance of the model drastically improves when we include more transform features.\n"
      ]
    },
    {
      "cell_type": "markdown",
      "metadata": {
        "id": "s5PlN2yxqcMX"
      },
      "source": [
        "# Step 5: Add Aggregation Primitives\n",
        "**Notes:**\n",
        "\n",
        "* Now let's add aggregation primitives. These primitives will generate features for the parent entities ``pickup_neighborhoods``, and ``dropoff_neighborhood`` and then add them to the trips entity, which is the entity for which we are trying to make prediction."
      ]
    },
    {
      "cell_type": "markdown",
      "metadata": {
        "id": "foJtLL1aPB7G"
      },
      "source": [
        "## Create Models with transform and aggregate primitives. "
      ]
    },
    {
      "cell_type": "code",
      "execution_count": 161,
      "metadata": {
        "id": "e1y273_0PB7G"
      },
      "outputs": [],
      "source": [
        "# Define more transform and aggregate primitive and define features using DFS\n",
        "trans_primitives = [Minute, Hour, Day, Month, Weekday, IsWeekend]\n",
        "aggregation_primitives = [Count, Sum, Mean, Median, Std, Max, Min]\n",
        "\n",
        "features = ft.dfs(entities=entities,\n",
        "                  relationships=relationships,\n",
        "                  target_entity=\"trips\",\n",
        "                  trans_primitives=trans_primitives,\n",
        "                  agg_primitives=aggregation_primitives,\n",
        "                  ignore_variables={\"trips\": [\"pickup_latitude\", \"pickup_longitude\",\n",
        "                                              \"dropoff_latitude\", \"dropoff_longitude\"]},\n",
        "                  features_only=True)"
      ]
    },
    {
      "cell_type": "code",
      "execution_count": 162,
      "metadata": {
        "id": "cM2ScilzPB7G",
        "scrolled": false,
        "colab": {
          "base_uri": "https://localhost:8080/"
        },
        "outputId": "dbc4076b-f578-4811-b9e4-1000ede3eab7"
      },
      "outputs": [
        {
          "output_type": "stream",
          "name": "stdout",
          "text": [
            "Number of features: 61\n"
          ]
        },
        {
          "output_type": "execute_result",
          "data": {
            "text/plain": [
              "[<Feature: vendor_id>,\n",
              " <Feature: passenger_count>,\n",
              " <Feature: trip_distance>,\n",
              " <Feature: payment_type>,\n",
              " <Feature: trip_duration>,\n",
              " <Feature: pickup_neighborhood>,\n",
              " <Feature: dropoff_neighborhood>,\n",
              " <Feature: DAY(dropoff_datetime)>,\n",
              " <Feature: DAY(pickup_datetime)>,\n",
              " <Feature: HOUR(dropoff_datetime)>,\n",
              " <Feature: HOUR(pickup_datetime)>,\n",
              " <Feature: IS_WEEKEND(dropoff_datetime)>,\n",
              " <Feature: IS_WEEKEND(pickup_datetime)>,\n",
              " <Feature: MINUTE(dropoff_datetime)>,\n",
              " <Feature: MINUTE(pickup_datetime)>,\n",
              " <Feature: MONTH(dropoff_datetime)>,\n",
              " <Feature: MONTH(pickup_datetime)>,\n",
              " <Feature: WEEKDAY(dropoff_datetime)>,\n",
              " <Feature: WEEKDAY(pickup_datetime)>,\n",
              " <Feature: pickup_neighborhoods.latitude>,\n",
              " <Feature: pickup_neighborhoods.longitude>,\n",
              " <Feature: dropoff_neighborhoods.latitude>,\n",
              " <Feature: dropoff_neighborhoods.longitude>,\n",
              " <Feature: pickup_neighborhoods.COUNT(trips)>,\n",
              " <Feature: pickup_neighborhoods.MAX(trips.passenger_count)>,\n",
              " <Feature: pickup_neighborhoods.MAX(trips.trip_distance)>,\n",
              " <Feature: pickup_neighborhoods.MAX(trips.trip_duration)>,\n",
              " <Feature: pickup_neighborhoods.MEAN(trips.passenger_count)>,\n",
              " <Feature: pickup_neighborhoods.MEAN(trips.trip_distance)>,\n",
              " <Feature: pickup_neighborhoods.MEAN(trips.trip_duration)>,\n",
              " <Feature: pickup_neighborhoods.MEDIAN(trips.passenger_count)>,\n",
              " <Feature: pickup_neighborhoods.MEDIAN(trips.trip_distance)>,\n",
              " <Feature: pickup_neighborhoods.MEDIAN(trips.trip_duration)>,\n",
              " <Feature: pickup_neighborhoods.MIN(trips.passenger_count)>,\n",
              " <Feature: pickup_neighborhoods.MIN(trips.trip_distance)>,\n",
              " <Feature: pickup_neighborhoods.MIN(trips.trip_duration)>,\n",
              " <Feature: pickup_neighborhoods.STD(trips.passenger_count)>,\n",
              " <Feature: pickup_neighborhoods.STD(trips.trip_distance)>,\n",
              " <Feature: pickup_neighborhoods.STD(trips.trip_duration)>,\n",
              " <Feature: pickup_neighborhoods.SUM(trips.passenger_count)>,\n",
              " <Feature: pickup_neighborhoods.SUM(trips.trip_distance)>,\n",
              " <Feature: pickup_neighborhoods.SUM(trips.trip_duration)>,\n",
              " <Feature: dropoff_neighborhoods.COUNT(trips)>,\n",
              " <Feature: dropoff_neighborhoods.MAX(trips.passenger_count)>,\n",
              " <Feature: dropoff_neighborhoods.MAX(trips.trip_distance)>,\n",
              " <Feature: dropoff_neighborhoods.MAX(trips.trip_duration)>,\n",
              " <Feature: dropoff_neighborhoods.MEAN(trips.passenger_count)>,\n",
              " <Feature: dropoff_neighborhoods.MEAN(trips.trip_distance)>,\n",
              " <Feature: dropoff_neighborhoods.MEAN(trips.trip_duration)>,\n",
              " <Feature: dropoff_neighborhoods.MEDIAN(trips.passenger_count)>,\n",
              " <Feature: dropoff_neighborhoods.MEDIAN(trips.trip_distance)>,\n",
              " <Feature: dropoff_neighborhoods.MEDIAN(trips.trip_duration)>,\n",
              " <Feature: dropoff_neighborhoods.MIN(trips.passenger_count)>,\n",
              " <Feature: dropoff_neighborhoods.MIN(trips.trip_distance)>,\n",
              " <Feature: dropoff_neighborhoods.MIN(trips.trip_duration)>,\n",
              " <Feature: dropoff_neighborhoods.STD(trips.passenger_count)>,\n",
              " <Feature: dropoff_neighborhoods.STD(trips.trip_distance)>,\n",
              " <Feature: dropoff_neighborhoods.STD(trips.trip_duration)>,\n",
              " <Feature: dropoff_neighborhoods.SUM(trips.passenger_count)>,\n",
              " <Feature: dropoff_neighborhoods.SUM(trips.trip_distance)>,\n",
              " <Feature: dropoff_neighborhoods.SUM(trips.trip_duration)>]"
            ]
          },
          "metadata": {},
          "execution_count": 162
        }
      ],
      "source": [
        "print (\"Number of features: %d\" % len(features))\n",
        "features"
      ]
    },
    {
      "cell_type": "markdown",
      "metadata": {
        "id": "rzlVikxQPB7H"
      },
      "source": [
        ""
      ]
    },
    {
      "cell_type": "code",
      "execution_count": 163,
      "metadata": {
        "id": "H-j7y0d5PB7H",
        "colab": {
          "base_uri": "https://localhost:8080/"
        },
        "outputId": "d575421d-599c-4b97-ee45-a83b94deffa5"
      },
      "outputs": [
        {
          "output_type": "stream",
          "name": "stdout",
          "text": [
            "Elapsed: 00:19 | Progress: 100%|██████████\n",
            "Finishing computing...\n"
          ]
        }
      ],
      "source": [
        "# Compute features and define feature matrix\n",
        "feature_matrix3 = compute_features(features, cutoff_time)"
      ]
    },
    {
      "cell_type": "code",
      "execution_count": 164,
      "metadata": {
        "id": "xBfEUrCiPB7H",
        "colab": {
          "base_uri": "https://localhost:8080/",
          "height": 345
        },
        "outputId": "7772a3b2-dc65-48ff-b1e1-632996107ffc"
      },
      "outputs": [
        {
          "output_type": "execute_result",
          "data": {
            "text/plain": [
              "       MINUTE(dropoff_datetime)  \\\n",
              "id                                \n",
              "56311                        11   \n",
              "56312                        23   \n",
              "56313                         5   \n",
              "56314                         6   \n",
              "56315                        13   \n",
              "\n",
              "       dropoff_neighborhoods.MEDIAN(trips.passenger_count)  \\\n",
              "id                                                           \n",
              "56311                                                1.0     \n",
              "56312                                                1.0     \n",
              "56313                                                1.0     \n",
              "56314                                                1.0     \n",
              "56315                                                1.0     \n",
              "\n",
              "       dropoff_neighborhood = AD  dropoff_neighborhood = A  \\\n",
              "id                                                           \n",
              "56311                      False                     False   \n",
              "56312                      False                     False   \n",
              "56313                      False                     False   \n",
              "56314                      False                     False   \n",
              "56315                      False                     False   \n",
              "\n",
              "       dropoff_neighborhood = AA  dropoff_neighborhood = D  \\\n",
              "id                                                           \n",
              "56311                      False                     False   \n",
              "56312                      False                     False   \n",
              "56313                      False                     False   \n",
              "56314                      False                     False   \n",
              "56315                      False                     False   \n",
              "\n",
              "       dropoff_neighborhood = AR  dropoff_neighborhood = C  \\\n",
              "id                                                           \n",
              "56311                      False                     False   \n",
              "56312                      False                     False   \n",
              "56313                      False                     False   \n",
              "56314                      False                     False   \n",
              "56315                      False                     False   \n",
              "\n",
              "       dropoff_neighborhood = O  dropoff_neighborhood = N  ...  \\\n",
              "id                                                         ...   \n",
              "56311                     False                     False  ...   \n",
              "56312                     False                     False  ...   \n",
              "56313                     False                     False  ...   \n",
              "56314                     False                     False  ...   \n",
              "56315                     False                     False  ...   \n",
              "\n",
              "       pickup_neighborhood = D  pickup_neighborhood = A  \\\n",
              "id                                                        \n",
              "56311                    False                    False   \n",
              "56312                    False                    False   \n",
              "56313                    False                    False   \n",
              "56314                    False                    False   \n",
              "56315                    False                    False   \n",
              "\n",
              "       pickup_neighborhood = AR  pickup_neighborhood = AK  \\\n",
              "id                                                          \n",
              "56311                     False                     False   \n",
              "56312                     False                     False   \n",
              "56313                     False                     False   \n",
              "56314                     False                     False   \n",
              "56315                     False                     False   \n",
              "\n",
              "       pickup_neighborhood = AO  pickup_neighborhood = N  \\\n",
              "id                                                         \n",
              "56311                     False                    False   \n",
              "56312                     False                    False   \n",
              "56313                     False                    False   \n",
              "56314                     False                    False   \n",
              "56315                     False                    False   \n",
              "\n",
              "       pickup_neighborhood = O  pickup_neighborhood = R  \\\n",
              "id                                                        \n",
              "56311                    False                    False   \n",
              "56312                    False                    False   \n",
              "56313                    False                    False   \n",
              "56314                    False                    False   \n",
              "56315                    False                    False   \n",
              "\n",
              "       pickup_neighborhoods.SUM(trips.trip_distance)  \\\n",
              "id                                                     \n",
              "56311                                        3904.70   \n",
              "56312                                       19468.13   \n",
              "56313                                         625.38   \n",
              "56314                                        3891.78   \n",
              "56315                                        2524.92   \n",
              "\n",
              "       pickup_neighborhoods.MEAN(trips.trip_distance)  \n",
              "id                                                     \n",
              "56311                                        3.008243  \n",
              "56312                                       15.574504  \n",
              "56313                                        2.868716  \n",
              "56314                                        2.285250  \n",
              "56315                                        2.147041  \n",
              "\n",
              "[5 rows x 79 columns]"
            ],
            "text/html": [
              "\n",
              "  <div id=\"df-91bd2ee9-7855-48a8-9b75-6e347547ebf0\">\n",
              "    <div class=\"colab-df-container\">\n",
              "      <div>\n",
              "<style scoped>\n",
              "    .dataframe tbody tr th:only-of-type {\n",
              "        vertical-align: middle;\n",
              "    }\n",
              "\n",
              "    .dataframe tbody tr th {\n",
              "        vertical-align: top;\n",
              "    }\n",
              "\n",
              "    .dataframe thead th {\n",
              "        text-align: right;\n",
              "    }\n",
              "</style>\n",
              "<table border=\"1\" class=\"dataframe\">\n",
              "  <thead>\n",
              "    <tr style=\"text-align: right;\">\n",
              "      <th></th>\n",
              "      <th>MINUTE(dropoff_datetime)</th>\n",
              "      <th>dropoff_neighborhoods.MEDIAN(trips.passenger_count)</th>\n",
              "      <th>dropoff_neighborhood = AD</th>\n",
              "      <th>dropoff_neighborhood = A</th>\n",
              "      <th>dropoff_neighborhood = AA</th>\n",
              "      <th>dropoff_neighborhood = D</th>\n",
              "      <th>dropoff_neighborhood = AR</th>\n",
              "      <th>dropoff_neighborhood = C</th>\n",
              "      <th>dropoff_neighborhood = O</th>\n",
              "      <th>dropoff_neighborhood = N</th>\n",
              "      <th>...</th>\n",
              "      <th>pickup_neighborhood = D</th>\n",
              "      <th>pickup_neighborhood = A</th>\n",
              "      <th>pickup_neighborhood = AR</th>\n",
              "      <th>pickup_neighborhood = AK</th>\n",
              "      <th>pickup_neighborhood = AO</th>\n",
              "      <th>pickup_neighborhood = N</th>\n",
              "      <th>pickup_neighborhood = O</th>\n",
              "      <th>pickup_neighborhood = R</th>\n",
              "      <th>pickup_neighborhoods.SUM(trips.trip_distance)</th>\n",
              "      <th>pickup_neighborhoods.MEAN(trips.trip_distance)</th>\n",
              "    </tr>\n",
              "    <tr>\n",
              "      <th>id</th>\n",
              "      <th></th>\n",
              "      <th></th>\n",
              "      <th></th>\n",
              "      <th></th>\n",
              "      <th></th>\n",
              "      <th></th>\n",
              "      <th></th>\n",
              "      <th></th>\n",
              "      <th></th>\n",
              "      <th></th>\n",
              "      <th></th>\n",
              "      <th></th>\n",
              "      <th></th>\n",
              "      <th></th>\n",
              "      <th></th>\n",
              "      <th></th>\n",
              "      <th></th>\n",
              "      <th></th>\n",
              "      <th></th>\n",
              "      <th></th>\n",
              "      <th></th>\n",
              "    </tr>\n",
              "  </thead>\n",
              "  <tbody>\n",
              "    <tr>\n",
              "      <th>56311</th>\n",
              "      <td>11</td>\n",
              "      <td>1.0</td>\n",
              "      <td>False</td>\n",
              "      <td>False</td>\n",
              "      <td>False</td>\n",
              "      <td>False</td>\n",
              "      <td>False</td>\n",
              "      <td>False</td>\n",
              "      <td>False</td>\n",
              "      <td>False</td>\n",
              "      <td>...</td>\n",
              "      <td>False</td>\n",
              "      <td>False</td>\n",
              "      <td>False</td>\n",
              "      <td>False</td>\n",
              "      <td>False</td>\n",
              "      <td>False</td>\n",
              "      <td>False</td>\n",
              "      <td>False</td>\n",
              "      <td>3904.70</td>\n",
              "      <td>3.008243</td>\n",
              "    </tr>\n",
              "    <tr>\n",
              "      <th>56312</th>\n",
              "      <td>23</td>\n",
              "      <td>1.0</td>\n",
              "      <td>False</td>\n",
              "      <td>False</td>\n",
              "      <td>False</td>\n",
              "      <td>False</td>\n",
              "      <td>False</td>\n",
              "      <td>False</td>\n",
              "      <td>False</td>\n",
              "      <td>False</td>\n",
              "      <td>...</td>\n",
              "      <td>False</td>\n",
              "      <td>False</td>\n",
              "      <td>False</td>\n",
              "      <td>False</td>\n",
              "      <td>False</td>\n",
              "      <td>False</td>\n",
              "      <td>False</td>\n",
              "      <td>False</td>\n",
              "      <td>19468.13</td>\n",
              "      <td>15.574504</td>\n",
              "    </tr>\n",
              "    <tr>\n",
              "      <th>56313</th>\n",
              "      <td>5</td>\n",
              "      <td>1.0</td>\n",
              "      <td>False</td>\n",
              "      <td>False</td>\n",
              "      <td>False</td>\n",
              "      <td>False</td>\n",
              "      <td>False</td>\n",
              "      <td>False</td>\n",
              "      <td>False</td>\n",
              "      <td>False</td>\n",
              "      <td>...</td>\n",
              "      <td>False</td>\n",
              "      <td>False</td>\n",
              "      <td>False</td>\n",
              "      <td>False</td>\n",
              "      <td>False</td>\n",
              "      <td>False</td>\n",
              "      <td>False</td>\n",
              "      <td>False</td>\n",
              "      <td>625.38</td>\n",
              "      <td>2.868716</td>\n",
              "    </tr>\n",
              "    <tr>\n",
              "      <th>56314</th>\n",
              "      <td>6</td>\n",
              "      <td>1.0</td>\n",
              "      <td>False</td>\n",
              "      <td>False</td>\n",
              "      <td>False</td>\n",
              "      <td>False</td>\n",
              "      <td>False</td>\n",
              "      <td>False</td>\n",
              "      <td>False</td>\n",
              "      <td>False</td>\n",
              "      <td>...</td>\n",
              "      <td>False</td>\n",
              "      <td>False</td>\n",
              "      <td>False</td>\n",
              "      <td>False</td>\n",
              "      <td>False</td>\n",
              "      <td>False</td>\n",
              "      <td>False</td>\n",
              "      <td>False</td>\n",
              "      <td>3891.78</td>\n",
              "      <td>2.285250</td>\n",
              "    </tr>\n",
              "    <tr>\n",
              "      <th>56315</th>\n",
              "      <td>13</td>\n",
              "      <td>1.0</td>\n",
              "      <td>False</td>\n",
              "      <td>False</td>\n",
              "      <td>False</td>\n",
              "      <td>False</td>\n",
              "      <td>False</td>\n",
              "      <td>False</td>\n",
              "      <td>False</td>\n",
              "      <td>False</td>\n",
              "      <td>...</td>\n",
              "      <td>False</td>\n",
              "      <td>False</td>\n",
              "      <td>False</td>\n",
              "      <td>False</td>\n",
              "      <td>False</td>\n",
              "      <td>False</td>\n",
              "      <td>False</td>\n",
              "      <td>False</td>\n",
              "      <td>2524.92</td>\n",
              "      <td>2.147041</td>\n",
              "    </tr>\n",
              "  </tbody>\n",
              "</table>\n",
              "<p>5 rows × 79 columns</p>\n",
              "</div>\n",
              "      <button class=\"colab-df-convert\" onclick=\"convertToInteractive('df-91bd2ee9-7855-48a8-9b75-6e347547ebf0')\"\n",
              "              title=\"Convert this dataframe to an interactive table.\"\n",
              "              style=\"display:none;\">\n",
              "        \n",
              "  <svg xmlns=\"http://www.w3.org/2000/svg\" height=\"24px\"viewBox=\"0 0 24 24\"\n",
              "       width=\"24px\">\n",
              "    <path d=\"M0 0h24v24H0V0z\" fill=\"none\"/>\n",
              "    <path d=\"M18.56 5.44l.94 2.06.94-2.06 2.06-.94-2.06-.94-.94-2.06-.94 2.06-2.06.94zm-11 1L8.5 8.5l.94-2.06 2.06-.94-2.06-.94L8.5 2.5l-.94 2.06-2.06.94zm10 10l.94 2.06.94-2.06 2.06-.94-2.06-.94-.94-2.06-.94 2.06-2.06.94z\"/><path d=\"M17.41 7.96l-1.37-1.37c-.4-.4-.92-.59-1.43-.59-.52 0-1.04.2-1.43.59L10.3 9.45l-7.72 7.72c-.78.78-.78 2.05 0 2.83L4 21.41c.39.39.9.59 1.41.59.51 0 1.02-.2 1.41-.59l7.78-7.78 2.81-2.81c.8-.78.8-2.07 0-2.86zM5.41 20L4 18.59l7.72-7.72 1.47 1.35L5.41 20z\"/>\n",
              "  </svg>\n",
              "      </button>\n",
              "      \n",
              "  <style>\n",
              "    .colab-df-container {\n",
              "      display:flex;\n",
              "      flex-wrap:wrap;\n",
              "      gap: 12px;\n",
              "    }\n",
              "\n",
              "    .colab-df-convert {\n",
              "      background-color: #E8F0FE;\n",
              "      border: none;\n",
              "      border-radius: 50%;\n",
              "      cursor: pointer;\n",
              "      display: none;\n",
              "      fill: #1967D2;\n",
              "      height: 32px;\n",
              "      padding: 0 0 0 0;\n",
              "      width: 32px;\n",
              "    }\n",
              "\n",
              "    .colab-df-convert:hover {\n",
              "      background-color: #E2EBFA;\n",
              "      box-shadow: 0px 1px 2px rgba(60, 64, 67, 0.3), 0px 1px 3px 1px rgba(60, 64, 67, 0.15);\n",
              "      fill: #174EA6;\n",
              "    }\n",
              "\n",
              "    [theme=dark] .colab-df-convert {\n",
              "      background-color: #3B4455;\n",
              "      fill: #D2E3FC;\n",
              "    }\n",
              "\n",
              "    [theme=dark] .colab-df-convert:hover {\n",
              "      background-color: #434B5C;\n",
              "      box-shadow: 0px 1px 3px 1px rgba(0, 0, 0, 0.15);\n",
              "      filter: drop-shadow(0px 1px 2px rgba(0, 0, 0, 0.3));\n",
              "      fill: #FFFFFF;\n",
              "    }\n",
              "  </style>\n",
              "\n",
              "      <script>\n",
              "        const buttonEl =\n",
              "          document.querySelector('#df-91bd2ee9-7855-48a8-9b75-6e347547ebf0 button.colab-df-convert');\n",
              "        buttonEl.style.display =\n",
              "          google.colab.kernel.accessAllowed ? 'block' : 'none';\n",
              "\n",
              "        async function convertToInteractive(key) {\n",
              "          const element = document.querySelector('#df-91bd2ee9-7855-48a8-9b75-6e347547ebf0');\n",
              "          const dataTable =\n",
              "            await google.colab.kernel.invokeFunction('convertToInteractive',\n",
              "                                                     [key], {});\n",
              "          if (!dataTable) return;\n",
              "\n",
              "          const docLinkHtml = 'Like what you see? Visit the ' +\n",
              "            '<a target=\"_blank\" href=https://colab.research.google.com/notebooks/data_table.ipynb>data table notebook</a>'\n",
              "            + ' to learn more about interactive tables.';\n",
              "          element.innerHTML = '';\n",
              "          dataTable['output_type'] = 'display_data';\n",
              "          await google.colab.output.renderOutput(dataTable, element);\n",
              "          const docLink = document.createElement('div');\n",
              "          docLink.innerHTML = docLinkHtml;\n",
              "          element.appendChild(docLink);\n",
              "        }\n",
              "      </script>\n",
              "    </div>\n",
              "  </div>\n",
              "  "
            ]
          },
          "metadata": {},
          "execution_count": 164
        }
      ],
      "source": [
        "feature_matrix3.head()"
      ]
    },
    {
      "cell_type": "code",
      "execution_count": 165,
      "metadata": {
        "id": "dtqovOh1PB7I"
      },
      "outputs": [],
      "source": [
        "# Separates the whole feature matrix into train data feature matrix,\n",
        "X_train3, y_train3, X_test3, y_test3 = get_train_test_fm(feature_matrix3,.75)\n",
        "y_train3 = np.sqrt(y_train3)\n",
        "y_test3 = np.sqrt(y_test3)"
      ]
    },
    {
      "cell_type": "markdown",
      "metadata": {
        "id": "SFRV9hI7PB7I"
      },
      "source": [
        "## Building  Linear Regression model with transform and aggregate primitives."
      ]
    },
    {
      "cell_type": "code",
      "execution_count": 166,
      "metadata": {
        "colab": {
          "base_uri": "https://localhost:8080/"
        },
        "id": "gS6F4i7PPB7I",
        "outputId": "58c71d46-d84e-4ea6-d945-155f55355b28"
      },
      "outputs": [
        {
          "output_type": "execute_result",
          "data": {
            "text/plain": [
              "LinearRegression()"
            ]
          },
          "metadata": {},
          "execution_count": 166
        }
      ],
      "source": [
        "# Defining the model\n",
        "lr3=LinearRegression()\n",
        "# Fitting the model\n",
        "lr3.fit(X_train3, y_train3)"
      ]
    },
    {
      "cell_type": "code",
      "execution_count": 167,
      "metadata": {
        "colab": {
          "base_uri": "https://localhost:8080/"
        },
        "id": "bde0cEioPB7J",
        "outputId": "8ccaf5b2-0b3e-4eb7-f1b1-1f864cfbdf7e"
      },
      "outputs": [
        {
          "output_type": "stream",
          "name": "stdout",
          "text": [
            "    Data  RSquared      RMSE       MAE\n",
            "0  Train  0.643423  5.624220  4.134927\n",
            "1   Test  0.631697  5.972457  4.464424\n"
          ]
        }
      ],
      "source": [
        "# Check the performance of the model\n",
        "model_pref(lr3, X_train3, X_test3, y_train3, y_test3)  "
      ]
    },
    {
      "cell_type": "markdown",
      "metadata": {
        "id": "ML8-6o6xPB7J"
      },
      "source": [
        "**Comments:**\n",
        "-  The model performs well but slightly overfitting as the metrics on the train are little bit smaller than the ones on the test. "
      ]
    },
    {
      "cell_type": "markdown",
      "metadata": {
        "id": "5ToQgK2KPB7J"
      },
      "source": [
        "## Building  Decision Tree model with transform and aggregate primitives."
      ]
    },
    {
      "cell_type": "code",
      "execution_count": 168,
      "metadata": {
        "colab": {
          "base_uri": "https://localhost:8080/"
        },
        "id": "YVgEyV6WPB7J",
        "outputId": "97690b6c-04b1-4693-f97c-2337d694f0c3"
      },
      "outputs": [
        {
          "output_type": "execute_result",
          "data": {
            "text/plain": [
              "DecisionTreeRegressor()"
            ]
          },
          "metadata": {},
          "execution_count": 168
        }
      ],
      "source": [
        "# Define the model\n",
        "dt3=DecisionTreeRegressor()\n",
        "# Fitting the model\n",
        "dt3.fit(X_train3, y_train3)"
      ]
    },
    {
      "cell_type": "code",
      "execution_count": 169,
      "metadata": {
        "colab": {
          "base_uri": "https://localhost:8080/"
        },
        "id": "vwHLJ5OrPB7K",
        "outputId": "a2b681d5-3f11-4e5c-ff25-a59ce7246a6f"
      },
      "outputs": [
        {
          "output_type": "stream",
          "name": "stdout",
          "text": [
            "    Data  RSquared      RMSE       MAE\n",
            "0  Train  1.000000  0.001479  0.000004\n",
            "1   Test  0.645696  5.857853  4.207554\n"
          ]
        }
      ],
      "source": [
        "# Check the performance of the model\n",
        "model_pref(dt3, X_train3, X_test3, y_train3, y_test3)  "
      ]
    },
    {
      "cell_type": "markdown",
      "metadata": {
        "id": "PnnRRyGvPB7K"
      },
      "source": [
        "**Comments:**\n",
        "- This decision tree model performs very bad by strongly overfitting the data."
      ]
    },
    {
      "cell_type": "markdown",
      "metadata": {
        "id": "Yq4zmER7PB7K"
      },
      "source": [
        "## Building  Pruned Decision Tree with transform and aggregate primitives."
      ]
    },
    {
      "cell_type": "code",
      "execution_count": 170,
      "metadata": {
        "colab": {
          "base_uri": "https://localhost:8080/"
        },
        "id": "KnVtdm4nPB7L",
        "outputId": "2c5eee32-94aa-44d2-b3fb-898f595ad182"
      },
      "outputs": [
        {
          "output_type": "execute_result",
          "data": {
            "text/plain": [
              "DecisionTreeRegressor(max_depth=7)"
            ]
          },
          "metadata": {},
          "execution_count": 170
        }
      ],
      "source": [
        "# Define the model\n",
        "dt_pruned3=DecisionTreeRegressor(max_depth=7)\n",
        "# Fit the model\n",
        "dt_pruned3.fit(X_train3, y_train3)"
      ]
    },
    {
      "cell_type": "code",
      "execution_count": 171,
      "metadata": {
        "colab": {
          "base_uri": "https://localhost:8080/"
        },
        "id": "rimoN5E2PB7L",
        "outputId": "bdcc0148-ab1c-41bf-9a74-07f5aa7a75c4"
      },
      "outputs": [
        {
          "output_type": "stream",
          "name": "stdout",
          "text": [
            "    Data  RSquared      RMSE       MAE\n",
            "0  Train  0.769212  4.524722  3.418452\n",
            "1   Test  0.745722  4.962549  3.696122\n"
          ]
        }
      ],
      "source": [
        "# Check the performance of the model\n",
        "model_pref(dt_pruned3, X_train3, X_test3, y_train3, y_test3)  "
      ]
    },
    {
      "cell_type": "markdown",
      "metadata": {
        "id": "8wwmESp9PB7L"
      },
      "source": [
        "**Comments:**\n",
        "- The model performs well. \n",
        "- The two R-squared  are almost the same as well as the RMSE and the MAE. \n",
        "- But the two last metrics as slightly lower on the train than on the test.\n"
      ]
    },
    {
      "cell_type": "markdown",
      "metadata": {
        "id": "MXTL7flWPB7M"
      },
      "source": [
        "## Building  Random Forest with transform and aggregate primitives."
      ]
    },
    {
      "cell_type": "code",
      "execution_count": 172,
      "metadata": {
        "colab": {
          "base_uri": "https://localhost:8080/"
        },
        "id": "nGe6o0eTPB7M",
        "outputId": "5be92c57-89ce-445d-e9f1-de05214fb20c"
      },
      "outputs": [
        {
          "output_type": "execute_result",
          "data": {
            "text/plain": [
              "RandomForestRegressor(max_depth=7, n_estimators=60)"
            ]
          },
          "metadata": {},
          "execution_count": 172
        }
      ],
      "source": [
        "# Define the model\n",
        "rf3=RandomForestRegressor(n_estimators=60, max_depth=7)\n",
        "# Fit the model\n",
        "rf3.fit(X_train3, y_train3)"
      ]
    },
    {
      "cell_type": "code",
      "execution_count": 173,
      "metadata": {
        "id": "tcMcT6r2PB7M",
        "scrolled": true,
        "colab": {
          "base_uri": "https://localhost:8080/"
        },
        "outputId": "3f074f72-fc8f-42b5-85bf-279e47f15e11"
      },
      "outputs": [
        {
          "output_type": "stream",
          "name": "stdout",
          "text": [
            "    Data  RSquared      RMSE       MAE\n",
            "0  Train  0.776521  4.452501  3.354643\n",
            "1   Test  0.753109  4.889936  3.633362\n"
          ]
        }
      ],
      "source": [
        "# Check the performance of the model\n",
        "model_pref(rf3, X_train3, X_test3,y_train3,y_test3)  "
      ]
    },
    {
      "cell_type": "markdown",
      "metadata": {
        "id": "-yN_L0rsPB7N"
      },
      "source": [
        "**Comments:**\n",
        "- This 3rd Random Forest model performs well, and all the metrics on the train and test sets about the same, but slightly lower on the test.\n",
        "-The model improves very well with the aggregate transforms. \n",
        "- The performance on the training improves drastically.\n",
        "- Based on the above three rounds of models, we can make predictions using models from round 2, as it is giving almost same performances as models from round 3.\n",
        "-Also, the training time is not that large as compared to model 3.\n"
      ]
    },
    {
      "cell_type": "markdown",
      "metadata": {
        "id": "2TH_CUxJ8xgx"
      },
      "source": [
        "## Recapitulation:\n",
        "\n",
        "- Sofar we've built **Linear Regression**, **Decision Tree**, and **Random Forest** models in 3 rounds:\n",
        "  - **Round 1:** using only **IsWeekend** transform primitive.\n",
        "  - **Round 2:** using **Minute, Hour, Day, Month, Weekday, IsWeekend** transform primitives.\n",
        "  - **Round 3:** using **Minute, Hour, Day, Month, Weekday, IsWeekend** transform primitives, and **Count, Sum, Mean, Median, Std, Max, Min** aggregate primitives. \n",
        "- The Linear Regression, the Pruned Decision Trees,  and the Random Forest perfomed very well in round 3 than in rounds 1 and 2.\n",
        "- We can then make our prediction using either the Linear Regression, the Pruned Decision Tree, or the Random Forest from round 3. \n",
        "- The Random Forest gave about the same performance in round 2 and round 3. But, the training time in round 2 is smaller than in round 3.\n",
        "- Thus, we will use the Random Forest in round 2 for our prediction exercise. "
      ]
    },
    {
      "cell_type": "markdown",
      "metadata": {
        "id": "2OPa2eqMkN8f"
      },
      "source": [
        "## Making predictions with the Random Forest model from Round 2"
      ]
    },
    {
      "cell_type": "code",
      "execution_count": 177,
      "metadata": {
        "colab": {
          "base_uri": "https://localhost:8080/"
        },
        "id": "rO-aH8xdPB7N",
        "outputId": "561c60b5-a62b-4e3d-e3ee-ba36bf4b226b",
        "scrolled": true
      },
      "outputs": [
        {
          "output_type": "execute_result",
          "data": {
            "text/plain": [
              "array([1427.75480453,  403.60943774,  462.20963146,  332.71414499,\n",
              "        937.6690586 ])"
            ]
          },
          "metadata": {},
          "execution_count": 177
        }
      ],
      "source": [
        "y_pred = rf2.predict(X_test2)\n",
        "y_pred = y_pred**2 # undo the sqrt we took earlier\n",
        "y_pred[:5]"
      ]
    },
    {
      "cell_type": "markdown",
      "metadata": {
        "id": "lTrPVudZPB7O"
      },
      "source": [
        "## Important features based on the Random Forest model from Round 2"
      ]
    },
    {
      "cell_type": "code",
      "execution_count": 178,
      "metadata": {
        "colab": {
          "base_uri": "https://localhost:8080/"
        },
        "id": "LlolBHowPB7O",
        "outputId": "66015995-363b-4963-e734-552a8e122da4",
        "scrolled": true
      },
      "outputs": [
        {
          "output_type": "stream",
          "name": "stdout",
          "text": [
            "1: Feature: trip_distance, 0.910\n",
            "2: Feature: HOUR(dropoff_datetime), 0.036\n",
            "3: Feature: HOUR(pickup_datetime), 0.019\n",
            "4: Feature: dropoff_neighborhoods.latitude, 0.016\n",
            "5: Feature: pickup_neighborhoods.longitude, 0.003\n",
            "6: Feature: WEEKDAY(dropoff_datetime), 0.003\n",
            "7: Feature: IS_WEEKEND(dropoff_datetime), 0.003\n",
            "8: Feature: WEEKDAY(pickup_datetime), 0.003\n",
            "9: Feature: IS_WEEKEND(pickup_datetime), 0.003\n",
            "10: Feature: vendor_id, 0.002\n"
          ]
        }
      ],
      "source": [
        "feature_importances(rf2, feature_matrix2.drop(['trip_duration'],axis=1).columns, n=10)"
      ]
    },
    {
      "cell_type": "markdown",
      "metadata": {
        "id": "EEmg3E-PPB7O"
      },
      "source": [
        "**Comments:**\n",
        "- The most important feature is trip-dsitance, with 91% of relevancy,  followed by Hour(dropoff_datetime) which is even less than 1%. \n",
        "- All the other features are not relevant.\n"
      ]
    },
    {
      "cell_type": "markdown",
      "metadata": {
        "id": "b9AGx_IgWEeW"
      },
      "source": [
        "## **REFERENCES:**\n",
        "- Great Learning Post Graduate Program: MIT Data Science and Machine Learning: Make Data Driven decisions; Practice Project: https://www.mygreatlearning.com/mit-data-science-machine-learning-program\n",
        "- Featuretools: https://www.featuretools.com"
      ]
    }
  ],
  "metadata": {
    "colab": {
      "collapsed_sections": [
        "b9AGx_IgWEeW"
      ],
      "name": "TaxiRideDurationPrediction.ipynb",
      "provenance": [],
      "include_colab_link": true
    },
    "kernelspec": {
      "display_name": "Python 3 (ipykernel)",
      "language": "python",
      "name": "python3"
    },
    "language_info": {
      "codemirror_mode": {
        "name": "ipython",
        "version": 3
      },
      "file_extension": ".py",
      "mimetype": "text/x-python",
      "name": "python",
      "nbconvert_exporter": "python",
      "pygments_lexer": "ipython3",
      "version": "3.8.12"
    },
    "toc": {
      "base_numbering": 1,
      "nav_menu": {},
      "number_sections": true,
      "sideBar": true,
      "skip_h1_title": false,
      "title_cell": "Table of Contents",
      "title_sidebar": "Contents",
      "toc_cell": false,
      "toc_position": {},
      "toc_section_display": true,
      "toc_window_display": false
    },
    "varInspector": {
      "cols": {
        "lenName": 16,
        "lenType": 16,
        "lenVar": 40
      },
      "kernels_config": {
        "python": {
          "delete_cmd_postfix": "",
          "delete_cmd_prefix": "del ",
          "library": "var_list.py",
          "varRefreshCmd": "print(var_dic_list())"
        },
        "r": {
          "delete_cmd_postfix": ") ",
          "delete_cmd_prefix": "rm(",
          "library": "var_list.r",
          "varRefreshCmd": "cat(var_dic_list()) "
        }
      },
      "types_to_exclude": [
        "module",
        "function",
        "builtin_function_or_method",
        "instance",
        "_Feature"
      ],
      "window_display": false
    }
  },
  "nbformat": 4,
  "nbformat_minor": 0
}